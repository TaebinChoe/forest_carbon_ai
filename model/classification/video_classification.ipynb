{
 "cells": [
  {
   "cell_type": "markdown",
   "metadata": {},
   "source": [
    "# video 처럼 다루어 보자"
   ]
  },
  {
   "cell_type": "code",
   "execution_count": null,
   "metadata": {},
   "outputs": [],
   "source": [
    "import torch\n",
    "from torch.utils.data import DataLoader\n",
    "from torchvision import transforms\n",
    "import torch.nn as nn\n",
    "import torch.optim as optim\n",
    "from utils.utils import train_model, evaluate_model_with_cm, TiffDataset, he_init_weights\n",
    "from models.video_classifier import VideoClassifier\n",
    "import os"
   ]
  },
  {
   "cell_type": "code",
   "execution_count": 2,
   "metadata": {},
   "outputs": [],
   "source": [
    "device = torch.device(\"cuda\" if torch.cuda.is_available() else \"cpu\")"
   ]
  },
  {
   "cell_type": "markdown",
   "metadata": {},
   "source": [
    "### 테스트지역 선별"
   ]
  },
  {
   "cell_type": "code",
   "execution_count": 6,
   "metadata": {},
   "outputs": [],
   "source": [
    "# 테스트 필터 정의\n",
    "test_filter = lambda box_number: (box_number % 9 == 0 or box_number % 9 == 5)"
   ]
  },
  {
   "cell_type": "markdown",
   "metadata": {},
   "source": [
    "### 데이터 전처리 방법 설정"
   ]
  },
  {
   "cell_type": "code",
   "execution_count": 7,
   "metadata": {},
   "outputs": [],
   "source": [
    "class ReshapeTransform:\n",
    "    \"\"\"(12*bands, 3, 3) → (12, bands, 3, 3) 변환\"\"\"\n",
    "    def __init__(self, bands):\n",
    "        self.bands = bands\n",
    "\n",
    "    def __call__(self, x):\n",
    "        return x.view(12, self.bands, 3, 3).permute(1, 0, 2, 3)\n",
    "\n",
    "def get_transform(bands, scale_channels_func=None):\n",
    "    transform_list = [\n",
    "        transforms.ToTensor(),  # (H, W, C) → (C, H, W)\n",
    "        transforms.Lambda(lambda x: x.float()),  # uint16 → float 변환\n",
    "        ReshapeTransform(bands)  # (12*bands, 3, 3) → (bands, 12, 3, 3)\n",
    "    ]\n",
    "\n",
    "    if scale_channels_func:\n",
    "        transform_list.append(transforms.Lambda(scale_channels_func))  # 채널별 값 조정 추가\n",
    "\n",
    "    return transforms.Compose(transform_list)\n",
    "\n",
    "#scaling 함수 - 채널별로 범위의 차이가 크기때문에 어느정도 맞추어주기 위해서 수행\n",
    "def scale_channels(x):\n",
    "    \"\"\"특정 채널값 조정\"\"\"\n",
    "    x[0:3] *= 5  # B,G,R 채널 * 5\n",
    "    if 4 < x.shape[0]:\n",
    "        x[4] *= 0.5  # NDVI 채널 * 0.5\n",
    "    return x"
   ]
  },
  {
   "cell_type": "markdown",
   "metadata": {},
   "source": [
    "## B, G, R, NIR 사용"
   ]
  },
  {
   "cell_type": "code",
   "execution_count": null,
   "metadata": {},
   "outputs": [],
   "source": [
    "large_tif_dir = r\"C:\\Users\\taebin\\Desktop\\my_study\\capstone_design\\data3\\원천 데이터\\naive\" #원천데이터 주소\n",
    "bands = 4 #밴드 수\n",
    "\n",
    "transform = get_transform(bands, scale_channels)\n",
    "\n",
    "train_dataset = TiffDataset(\n",
    "    large_tif_dir = large_tif_dir,\n",
    "    file_list = [\"jiri_1.tif\", \"jiri_2.tif\", \"sobaek.tif\"], #전체 지역을 모두 사용한다.\n",
    "    label_file = r\"C:\\Users\\taebin\\Desktop\\my_study\\capstone_design\\data3\\라벨링 데이터\\label_mapping_sampled.csv\",\n",
    "    box_filter_fn = lambda box_number: not test_filter(box_number),\n",
    "    transform=transform\n",
    ")\n",
    "\n",
    "val_dataset = TiffDataset(\n",
    "    large_tif_dir = large_tif_dir,\n",
    "    file_list = [\"jiri_1.tif\", \"jiri_2.tif\", \"sobaek.tif\"], #전체 지역을 모두 사용한다.\n",
    "    label_file = r\"C:\\Users\\taebin\\Desktop\\my_study\\capstone_design\\data3\\라벨링 데이터\\label_mapping_sampled.csv\",\n",
    "    box_filter_fn = test_filter,\n",
    "    transform=transform\n",
    ")\n",
    "\n",
    "train_loader = DataLoader(train_dataset, batch_size=32, shuffle=True)\n",
    "val_loader = DataLoader(val_dataset, batch_size=32, shuffle=True)"
   ]
  },
  {
   "cell_type": "code",
   "execution_count": null,
   "metadata": {},
   "outputs": [],
   "source": [
    "stage_repeats = [2, 3, 5, 2]  # Stage 3이 가장 깊음\n",
    "stage_channels = [8, 16, 32, 48]  # 점진적으로 증가\n",
    "\n",
    "model = VideoClassifier(bands, stage_repeats, stage_channels, num_classes=8)\n",
    "model.apply(he_init_weights)\n",
    "\n",
    "criterion = nn.CrossEntropyLoss()\n",
    "optimizer = optim.Adam(model.parameters(), lr=0.001)\n",
    "\n",
    "best_model_state, train_losses, val_losses = train_model(model, train_loader, val_loader, criterion, optimizer, num_epochs=100, patience=100)\n",
    "os.makedirs(\"./checkpoints/video_classification\", exist_ok=True)\n",
    "torch.save(best_model_state, \"./checkpoints/video_classification/VideoClassifier_4_3_100.pth\")\n",
    "\n",
    "model.load_state_dict(best_model_state)\n",
    "\n",
    "print(\"\\ntrain data\")\n",
    "evaluate_model_with_cm(model, train_loader, num_classes=6)\n",
    "print(\"\\nvalidation data\")\n",
    "evaluate_model_with_cm(model, val_loader, num_classes=6)"
   ]
  },
  {
   "cell_type": "markdown",
   "metadata": {},
   "source": [
    "## NDVI 추가"
   ]
  },
  {
   "cell_type": "code",
   "execution_count": 15,
   "metadata": {},
   "outputs": [],
   "source": [
    "large_tif_dir = r\"C:\\Users\\taebin\\Desktop\\my_study\\capstone_design\\data3\\원천 데이터\\with_ndvi\" #원천데이터 주소\n",
    "bands = 5 #밴드 수\n",
    "\n",
    "transform = get_transform(bands, scale_channels)\n",
    "\n",
    "train_dataset = TiffDataset(\n",
    "    large_tif_dir = large_tif_dir,\n",
    "    file_list = [\"jiri_1.tif\", \"jiri_2.tif\", \"sobaek.tif\"], #전체 지역을 모두 사용한다.\n",
    "    label_file = r\"C:\\Users\\taebin\\Desktop\\my_study\\capstone_design\\data3\\라벨링 데이터\\label_mapping_sampled.csv\",\n",
    "    box_filter_fn = lambda box_number: not test_filter(box_number),\n",
    "    transform=transform\n",
    ")\n",
    "\n",
    "val_dataset = TiffDataset(\n",
    "    large_tif_dir = large_tif_dir,\n",
    "    file_list = [\"jiri_1.tif\", \"jiri_2.tif\", \"sobaek.tif\"], #전체 지역을 모두 사용한다.\n",
    "    label_file = r\"C:\\Users\\taebin\\Desktop\\my_study\\capstone_design\\data3\\라벨링 데이터\\label_mapping_sampled.csv\",\n",
    "    box_filter_fn = test_filter,\n",
    "    transform=transform\n",
    ")\n",
    "\n",
    "train_loader = DataLoader(train_dataset, batch_size=32, shuffle=True)\n",
    "val_loader = DataLoader(val_dataset, batch_size=32, shuffle=True)"
   ]
  },
  {
   "cell_type": "code",
   "execution_count": null,
   "metadata": {},
   "outputs": [],
   "source": [
    "stage_repeats = [2, 3, 6, 3]\n",
    "stage_channels = [10, 20, 40, 60]\n",
    "\n",
    "model = VideoClassifier(bands, stage_repeats, stage_channels, num_classes=8)\n",
    "model.apply(he_init_weights)\n",
    "\n",
    "criterion = nn.CrossEntropyLoss()\n",
    "optimizer = optim.Adam(model.parameters(), lr=0.001)\n",
    "\n",
    "best_model_state, train_losses, val_losses = train_model(model, train_loader, val_loader, criterion, optimizer, num_epochs=100, patience=100)\n",
    "torch.save(best_model_state, \"./checkpoints/video_classification/VideoClassifier_5_3_100.pth\")\n",
    "\n",
    "model.load_state_dict(best_model_state)\n",
    "\n",
    "print(\"\\ntrain data\")\n",
    "evaluate_model_with_cm(model, train_loader, num_classes=6)\n",
    "print(\"\\nvalidation data\")\n",
    "evaluate_model_with_cm(model, val_loader, num_classes=6)"
   ]
  },
  {
   "cell_type": "markdown",
   "metadata": {},
   "source": [
    "## NDVI, Sentinel_2(B05, B06, B07, B11, B12) 데이터 추가"
   ]
  },
  {
   "cell_type": "code",
   "execution_count": 22,
   "metadata": {},
   "outputs": [],
   "source": [
    "large_tif_dir = r\"C:\\Users\\taebin\\Desktop\\my_study\\capstone_design\\data3\\원천 데이터\\with_ndvi_s2\" #원천데이터 주소\n",
    "bands = 10 #밴드 수\n",
    "\n",
    "transform = get_transform(bands, scale_channels)\n",
    "\n",
    "train_dataset = TiffDataset(\n",
    "    large_tif_dir = large_tif_dir,\n",
    "    file_list = [\"jiri_1.tif\", \"jiri_2.tif\", \"sobaek.tif\"], #전체 지역을 모두 사용한다.\n",
    "    label_file = r\"C:\\Users\\taebin\\Desktop\\my_study\\capstone_design\\data3\\라벨링 데이터\\label_mapping_sampled.csv\",\n",
    "    box_filter_fn = lambda box_number: not test_filter(box_number),\n",
    "    transform=transform\n",
    ")\n",
    "\n",
    "val_dataset = TiffDataset(\n",
    "    large_tif_dir = large_tif_dir,\n",
    "    file_list = [\"jiri_1.tif\", \"jiri_2.tif\", \"sobaek.tif\"], #전체 지역을 모두 사용한다.\n",
    "    label_file = r\"C:\\Users\\taebin\\Desktop\\my_study\\capstone_design\\data3\\라벨링 데이터\\label_mapping_sampled.csv\",\n",
    "    box_filter_fn = test_filter,\n",
    "    transform=transform\n",
    ")\n",
    "\n",
    "train_loader = DataLoader(train_dataset, batch_size=32, shuffle=True)\n",
    "val_loader = DataLoader(val_dataset, batch_size=32, shuffle=True)"
   ]
  },
  {
   "cell_type": "code",
   "execution_count": null,
   "metadata": {},
   "outputs": [],
   "source": [
    "stage_repeats = [3, 4, 6, 3]\n",
    "stage_channels = [16, 32, 64, 96]\n",
    "\n",
    "model = VideoClassifier(bands, stage_repeats, stage_channels, num_classes=8)\n",
    "model.apply(he_init_weights)\n",
    "\n",
    "criterion = nn.CrossEntropyLoss()\n",
    "optimizer = optim.Adam(model.parameters(), lr=0.001)\n",
    "\n",
    "best_model_state, train_losses, val_losses = train_model(model, train_loader, val_loader, criterion, optimizer, num_epochs=100, patience=100)\n",
    "torch.save(best_model_state, \"./checkpoints/video_classification/VideoClassifier_10_3_100.pth\")\n",
    "\n",
    "model.load_state_dict(best_model_state)\n",
    "\n",
    "print(\"\\ntrain data\")\n",
    "evaluate_model_with_cm(model, train_loader, num_classes=6)\n",
    "print(\"\\nvalidation data\")\n",
    "evaluate_model_with_cm(model, val_loader, num_classes=6)"
   ]
  },
  {
   "cell_type": "markdown",
   "metadata": {},
   "source": [
    "## NDVI 없이 Planet + Sentinel_2 데이터 사용"
   ]
  },
  {
   "cell_type": "code",
   "execution_count": null,
   "metadata": {},
   "outputs": [],
   "source": [
    "large_tif_dir = r\"C:\\Users\\taebin\\Desktop\\my_study\\forest_carbon_ai\\data\\source_data\\with_s2\" #원천데이터 주소\n",
    "bands = 8 #밴드 수\n",
    "\n",
    "transform = get_transform(bands, scale_channels)\n",
    "\n",
    "train_dataset = TiffDataset(\n",
    "    large_tif_dir = large_tif_dir,\n",
    "    file_list = [\"jiri_1.tif\", \"jiri_2.tif\", \"sobaek.tif\"], #전체 지역을 모두 사용한다.\n",
    "    label_file = r\"C:\\Users\\taebin\\Desktop\\my_study\\forest_carbon_ai\\data\\label_data\\label_mapping_sampled.csv\",\n",
    "    box_filter_fn = lambda box_number: not test_filter(box_number),\n",
    "    transform=transform\n",
    ")\n",
    "\n",
    "val_dataset = TiffDataset(\n",
    "    large_tif_dir = large_tif_dir,\n",
    "    file_list = [\"jiri_1.tif\", \"jiri_2.tif\", \"sobaek.tif\"], #전체 지역을 모두 사용한다.\n",
    "    label_file = r\"C:\\Users\\taebin\\Desktop\\my_study\\forest_carbon_ai\\data\\label_data\\label_mapping_sampled.csv\",\n",
    "    box_filter_fn = test_filter,\n",
    "    transform=transform\n",
    ")\n",
    "\n",
    "train_loader = DataLoader(train_dataset, batch_size=32, shuffle=True)\n",
    "val_loader = DataLoader(val_dataset, batch_size=32, shuffle=True)"
   ]
  },
  {
   "cell_type": "code",
   "execution_count": null,
   "metadata": {},
   "outputs": [],
   "source": [
    "stage_repeats = [3, 4, 7, 4]\n",
    "stage_channels = [14, 28, 56, 84]\n",
    "\n",
    "model = VideoClassifier(bands, stage_repeats, stage_channels, num_classes=8)\n",
    "model.apply(he_init_weights)\n",
    "\n",
    "criterion = nn.CrossEntropyLoss()\n",
    "optimizer = optim.Adam(model.parameters(), lr=0.001)\n",
    "\n",
    "best_model_state, train_losses, val_losses = train_model(model, train_loader, val_loader, criterion, optimizer, num_epochs=100, patience=100)\n",
    "torch.save(best_model_state, \"./checkpoints/video_classification/VideoClassifier_8_3_100.pth\")\n",
    "\n",
    "model.load_state_dict(best_model_state)\n",
    "\n",
    "print(\"\\ntrain data\")\n",
    "evaluate_model_with_cm(model, train_loader, num_classes=6)\n",
    "print(\"\\nvalidation data\")\n",
    "evaluate_model_with_cm(model, val_loader, num_classes=6)"
   ]
  }
 ],
 "metadata": {
  "kernelspec": {
   "display_name": "base",
   "language": "python",
   "name": "python3"
  },
  "language_info": {
   "codemirror_mode": {
    "name": "ipython",
    "version": 3
   },
   "file_extension": ".py",
   "mimetype": "text/x-python",
   "name": "python",
   "nbconvert_exporter": "python",
   "pygments_lexer": "ipython3",
   "version": "3.11.7"
  }
 },
 "nbformat": 4,
 "nbformat_minor": 2
}
