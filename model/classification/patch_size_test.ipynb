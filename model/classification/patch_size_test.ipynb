{
 "cells": [
  {
   "cell_type": "markdown",
   "metadata": {},
   "source": [
    "# patch_size를 1,3,5,7,9,11로 바꾸어 가면서 테스트 해 보자"
   ]
  },
  {
   "cell_type": "code",
   "execution_count": null,
   "metadata": {},
   "outputs": [],
   "source": [
    "from utils.utils import train_model, evaluate_model_with_cm, TiffDataset\n",
    "from models.image_classifier import ResNetLike_48\n",
    "import torch\n",
    "from torch.utils.data import DataLoader\n",
    "from torchvision import transforms\n",
    "import torch.nn as nn\n",
    "import torch.optim as optim\n",
    "import os\n",
    "import pandas as pd"
   ]
  },
  {
   "cell_type": "code",
   "execution_count": 21,
   "metadata": {},
   "outputs": [],
   "source": [
    "device = torch.device(\"cuda\" if torch.cuda.is_available() else \"cpu\")"
   ]
  },
  {
   "cell_type": "code",
   "execution_count": 26,
   "metadata": {},
   "outputs": [],
   "source": [
    "test_filter = lambda box_number: (box_number % 9 == 0 or box_number % 9 == 5)"
   ]
  },
  {
   "cell_type": "markdown",
   "metadata": {},
   "source": [
    "### 데이터 준비함수, 학습 평가 함수 정의"
   ]
  },
  {
   "cell_type": "code",
   "execution_count": null,
   "metadata": {},
   "outputs": [],
   "source": [
    "# 이미지 전처리 (Naive)\n",
    "transform = transforms.Compose([\n",
    "    transforms.ToTensor(),\n",
    "    transforms.Lambda(lambda x: x.float()),  # uint16 → float 변환\n",
    "])\n",
    "\n",
    "# 데이터셋 생성 함수\n",
    "def create_datasets(patch_size):\n",
    "    dataset_kwargs = {\n",
    "        \"large_tif_dir\": r\"C:\\\\Users\\\\taebin\\\\Desktop\\\\my_study\\\\capstone_design\\\\data3\\\\원천 데이터\\\\naive\",\n",
    "        \"file_list\": [\"jiri_1.tif\", \"jiri_2.tif\", \"sobaek.tif\"],\n",
    "        \"label_file\": r\"C:\\\\Users\\\\taebin\\\\Desktop\\\\my_study\\\\capstone_design\\\\data3\\\\라벨링 데이터\\\\label_mapping_sampled_5.csv\",\n",
    "        \"patch_size\": patch_size,\n",
    "        \"transform\": transform\n",
    "    }\n",
    "    return (\n",
    "        TiffDataset(**dataset_kwargs, box_filter_fn=lambda box_number: not test_filter(box_number)),  # train\n",
    "        TiffDataset(**dataset_kwargs, box_filter_fn=test_filter)  # val\n",
    "    )\n",
    "\n",
    "# 데이터로더 생성 함수\n",
    "def create_dataloaders(train_dataset, val_dataset, batch_size=32, num_workers=0):\n",
    "    return (\n",
    "        DataLoader(train_dataset, batch_size=batch_size, shuffle=True, num_workers=num_workers),\n",
    "        DataLoader(val_dataset, batch_size=batch_size, shuffle=False, num_workers=num_workers)\n",
    "    )\n",
    "\n",
    "# 학습 및 평가 함수\n",
    "def train_and_evaluate(patch_size, train_loader, val_loader, num_epochs=30):\n",
    "    print(f\"Training with patch size: {patch_size}\")\n",
    "\n",
    "    model = ResNetLike_48(num_classes=6).to(device)\n",
    "    criterion = nn.CrossEntropyLoss()\n",
    "    optimizer = optim.Adam(model.parameters(), lr=0.001)\n",
    "\n",
    "    best_model_state, train_losses, val_losses = train_model(\n",
    "        model, train_loader, val_loader, criterion, optimizer, num_epochs=num_epochs, patience=100\n",
    "    )\n",
    "    \n",
    "    torch.save(best_model_state, f\"patch_size_test_{patch_size}_{num_epochs}.pth\")\n",
    "    model.load_state_dict(best_model_state)\n",
    "    \n",
    "    print(\"\\ntrain data\")\n",
    "    evaluate_model_with_cm(model, train_loader, num_classes=6)\n",
    "    print(\"\\nvalidation data\")\n",
    "    evaluate_model_with_cm(model, val_loader, num_classes=6)\n"
   ]
  },
  {
   "cell_type": "markdown",
   "metadata": {},
   "source": [
    "### 패치사이즈를 바꾸어가며 테스트"
   ]
  },
  {
   "cell_type": "code",
   "execution_count": null,
   "metadata": {},
   "outputs": [],
   "source": [
    "patch_sizes = [1, 3, 5, 7, 9, 11]\n",
    "result_df_dicts = {\"patch_size\": [],\n",
    "                   \"data_type\" : [],\n",
    "                   \"df\" : []}\n",
    "\n",
    "num_epochs = 50\n",
    "os.makedirs(\"./checkpoints/patch_size_test\", exist_ok=True) #checkpoints 저장할 dir\n",
    "\n",
    "for patch_size in patch_sizes:\n",
    "    print(patch_size)\n",
    "    train_dataset, val_dataset = create_datasets(patch_size)\n",
    "    train_loader, val_loader = create_dataloaders(train_dataset, val_dataset)\n",
    "    \n",
    "    print(f\"Training with patch size: {patch_size}\")\n",
    "\n",
    "    model = ResNetLike_48(num_classes=6).to(device)\n",
    "    criterion = nn.CrossEntropyLoss()\n",
    "    optimizer = optim.Adam(model.parameters(), lr=0.001)\n",
    "\n",
    "    best_model_state, train_losses, val_losses = train_model(\n",
    "        model, train_loader, val_loader, criterion, optimizer, num_epochs=num_epochs, patience=100\n",
    "    )\n",
    "    \n",
    "    torch.save(best_model_state, f\"./checkpoints/patch_size_test/ResNetLike_48_{patch_size}_{num_epochs}.pth\")\n",
    "    model.load_state_dict(best_model_state)\n",
    "    \n",
    "    print(\"train data\")\n",
    "    train_df = evaluate_model_with_cm(model, train_loader, num_classes=6)\n",
    "    result_df_dicts[\"patch_size\"].append(patch_size)\n",
    "    result_df_dicts[\"data_type\"].append(\"train_data\")\n",
    "    result_df_dicts[\"df\"].append(train_df)\n",
    "    \n",
    "    print(\"validation data\")\n",
    "    validation_df = evaluate_model_with_cm(model, val_loader, num_classes=6)\n",
    "    result_df_dicts[\"patch_size\"].append(patch_size)\n",
    "    result_df_dicts[\"data_type\"].append(\"validation\")\n",
    "    result_df_dicts[\"df\"].append(validation_df)"
   ]
  },
  {
   "cell_type": "code",
   "execution_count": null,
   "metadata": {},
   "outputs": [],
   "source": [
    "# 모든 데이터를 하나의 데이터프레임으로 합치기\n",
    "final_df = pd.concat([\n",
    "    df.assign(patch_size=patch, data_type=dt)\n",
    "    for patch, dt, df in zip(result_df_dicts[\"patch_size\"], result_df_dicts[\"data_type\"], result_df_dicts[\"df\"])\n",
    "], ignore_index=False)\n",
    "\n",
    "# 인덱스를 리셋하고 정리\n",
    "final_df.reset_index(inplace=True)\n",
    "final_df.rename(columns={\"index\": \"class\"}, inplace=True)\n",
    "\n",
    "# 저장\n",
    "os.makedirs(\"./results\", exist_ok=True) \n",
    "final_df.to_csv(\"./results/patch_size_results.csv\", index=False, encoding=\"utf-8-sig\")"
   ]
  }
 ],
 "metadata": {
  "kernelspec": {
   "display_name": "base",
   "language": "python",
   "name": "python3"
  },
  "language_info": {
   "codemirror_mode": {
    "name": "ipython",
    "version": 3
   },
   "file_extension": ".py",
   "mimetype": "text/x-python",
   "name": "python",
   "nbconvert_exporter": "python",
   "pygments_lexer": "ipython3",
   "version": "3.11.7"
  }
 },
 "nbformat": 4,
 "nbformat_minor": 2
}
