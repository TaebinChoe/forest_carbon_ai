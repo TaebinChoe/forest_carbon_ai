{
  "cells": [
    {
      "cell_type": "markdown",
      "metadata": {},
      "source": [
        "# Shuffle-based Dimensional Importance (SDI) 기법 개발을 위한 실험 코드입니다."
      ]
    },
    {
      "cell_type": "code",
      "execution_count": 125,
      "metadata": {
        "id": "eZ4npTUFCMRi"
      },
      "outputs": [],
      "source": [
        "import torch\n",
        "import torch.nn as nn\n",
        "import torch.optim as optim\n",
        "import matplotlib.pyplot as plt\n",
        "import numpy as np"
      ]
    },
    {
      "cell_type": "code",
      "execution_count": 126,
      "metadata": {
        "colab": {
          "base_uri": "https://localhost:8080/"
        },
        "id": "p9KZgLOzyCkK",
        "outputId": "0455f604-2ef9-4d64-8071-c829894ea1bc"
      },
      "outputs": [
        {
          "name": "stdout",
          "output_type": "stream",
          "text": [
            "cuda\n"
          ]
        }
      ],
      "source": [
        "device = torch.device(\"cuda\" if torch.cuda.is_available() else \"cpu\")\n",
        "print(device)"
      ]
    },
    {
      "cell_type": "markdown",
      "metadata": {
        "id": "iib7JPQA_pm8"
      },
      "source": [
        "데이터셋 만들기 (Bands, Time, Height, Width)구조이다."
      ]
    },
    {
      "cell_type": "code",
      "execution_count": 127,
      "metadata": {
        "colab": {
          "base_uri": "https://localhost:8080/"
        },
        "id": "47X2yWcs7rSy",
        "outputId": "5e32518e-7a3e-4e9d-b6d9-eda9721e39c9"
      },
      "outputs": [
        {
          "name": "stdout",
          "output_type": "stream",
          "text": [
            "데이터 Shape: torch.Size([50000, 4, 12, 5, 5])\n",
            "레이블 Shape: torch.Size([50000])\n"
          ]
        }
      ],
      "source": [
        "# 데이터 파라미터\n",
        "num_samples = 10000  # 샘플 수\n",
        "time_steps = 12     # 시간 차원\n",
        "bands = 4          # 스펙트럼 밴드\n",
        "height = 5         # 이미지 높이\n",
        "width = 5          # 이미지 너비\n",
        "\n",
        "material = torch.stack([\n",
        "    torch.full((bands, height, width), random.choice(values).item())\n",
        "    for _ in range(num_samples)\n",
        "])\n",
        "\n",
        "#dim_2의 규칙 부여\n",
        "for t in range(time_steps):\n",
        "    X_class0[:, :, t, :, :] = material * (t - 6) ** 2\n",
        "    X_class3[:, :, t, :, :] = material * (t - 6) ** 2\n",
        "\n",
        "    X_class1[:, :, t, :, :] = material * (-1) ** t\n",
        "    X_class4[:, :, t, :, :] = material * (-1) ** t\n",
        "\n",
        "    X_class2[:, :, t, :, :] = material * (t - 6) ** 3\n",
        "\n",
        "#dim_1의 규칙 부여\n",
        "X_class3[:, 0, :, :, :] = 0\n",
        "\n",
        "#dim_3의 규칙 부여\n",
        "X_class4[:, :, :, 0, :] = 0\n",
        "\n",
        "\n",
        "# 레이블 할당\n",
        "y_class0 = np.zeros(num_samples)\n",
        "y_class1 = np.ones(num_samples)\n",
        "y_class2 = np.full(num_samples, 2)\n",
        "y_class3 = np.full(num_samples, 3) # time, band 중요\n",
        "y_class4 = np.full(num_samples, 4) # time, width 중요\n",
        "\n",
        "# 데이터 병합\n",
        "X = np.concatenate([X_class0, X_class1, X_class2, X_class3, X_class4], axis=0)  # (Samples * 3, Bands, Time, Height, Width)\n",
        "y = np.concatenate([y_class0, y_class1, y_class2, y_class3, y_class4], axis=0)  # (Samples * 3,)\n",
        "\n",
        "# PyTorch Tensor 변환\n",
        "X = torch.tensor(X, dtype=torch.float32).to(device)\n",
        "y = torch.tensor(y, dtype=torch.long).to(device)\n",
        "\n",
        "print(\"데이터 Shape:\", X.shape)  # (300, 4, 12, 5, 5)\n",
        "print(\"레이블 Shape:\", y.shape)  # (300,)\n",
        "\n",
        "batch_size = 16\n",
        "\n",
        "# 데이터 로더 생성\n",
        "train_loader = torch.utils.data.DataLoader(list(zip(X, y)), batch_size=batch_size, shuffle=True)"
      ]
    },
    {
      "cell_type": "markdown",
      "metadata": {
        "id": "NucjNeXz_z0t"
      },
      "source": [
        "간단한 모델 정의(ResNet-like 구조의 2+1D CNN 모델을 사용합니다.)"
      ]
    },
    {
      "cell_type": "code",
      "execution_count": 128,
      "metadata": {
        "colab": {
          "base_uri": "https://localhost:8080/"
        },
        "id": "qKjbfG9wBQkl",
        "outputId": "49e0b501-5627-439e-d0f2-4890acfde9b6"
      },
      "outputs": [
        {
          "data": {
            "text/plain": [
              "EnhancedVideoClassifier(\n",
              "  (block1): Sequential(\n",
              "    (0): Conv3d(4, 32, kernel_size=(3, 3, 3), stride=(1, 1, 1), padding=(1, 1, 1))\n",
              "    (1): BatchNorm3d(32, eps=1e-05, momentum=0.1, affine=True, track_running_stats=True)\n",
              "    (2): ReLU()\n",
              "    (3): Conv3d(32, 32, kernel_size=(3, 3, 3), stride=(1, 1, 1), padding=(1, 1, 1))\n",
              "    (4): BatchNorm3d(32, eps=1e-05, momentum=0.1, affine=True, track_running_stats=True)\n",
              "    (5): ReLU()\n",
              "    (6): MaxPool3d(kernel_size=(1, 2, 2), stride=(1, 2, 2), padding=0, dilation=1, ceil_mode=False)\n",
              "  )\n",
              "  (block2): Sequential(\n",
              "    (0): Conv3d(32, 64, kernel_size=(3, 3, 3), stride=(1, 1, 1), padding=(1, 1, 1))\n",
              "    (1): BatchNorm3d(64, eps=1e-05, momentum=0.1, affine=True, track_running_stats=True)\n",
              "    (2): ReLU()\n",
              "    (3): Conv3d(64, 64, kernel_size=(3, 3, 3), stride=(1, 1, 1), padding=(1, 1, 1))\n",
              "    (4): BatchNorm3d(64, eps=1e-05, momentum=0.1, affine=True, track_running_stats=True)\n",
              "    (5): ReLU()\n",
              "    (6): MaxPool3d(kernel_size=(2, 2, 2), stride=(2, 2, 2), padding=0, dilation=1, ceil_mode=False)\n",
              "  )\n",
              "  (block3): Sequential(\n",
              "    (0): Conv3d(64, 128, kernel_size=(3, 3, 3), stride=(1, 1, 1), padding=(1, 1, 1))\n",
              "    (1): BatchNorm3d(128, eps=1e-05, momentum=0.1, affine=True, track_running_stats=True)\n",
              "    (2): ReLU()\n",
              "    (3): Conv3d(128, 128, kernel_size=(3, 3, 3), stride=(1, 1, 1), padding=(1, 1, 1))\n",
              "    (4): BatchNorm3d(128, eps=1e-05, momentum=0.1, affine=True, track_running_stats=True)\n",
              "    (5): ReLU()\n",
              "    (6): AdaptiveAvgPool3d(output_size=(1, 1, 1))\n",
              "  )\n",
              "  (classifier): Sequential(\n",
              "    (0): Dropout(p=0.5, inplace=False)\n",
              "    (1): Linear(in_features=128, out_features=256, bias=True)\n",
              "    (2): ReLU()\n",
              "    (3): Dropout(p=0.25, inplace=False)\n",
              "    (4): Linear(in_features=256, out_features=5, bias=True)\n",
              "  )\n",
              ")"
            ]
          },
          "execution_count": 128,
          "metadata": {},
          "output_type": "execute_result"
        }
      ],
      "source": [
        "import torch.nn as nn\n",
        "import torch.nn.functional as F\n",
        "\n",
        "class EnhancedVideoClassifier(nn.Module):\n",
        "    def __init__(self, num_classes, dropout_prob=0.5):\n",
        "        super().__init__()\n",
        "        # Feature Extraction Block 1\n",
        "        self.block1 = nn.Sequential(\n",
        "            nn.Conv3d(4, 32, kernel_size=(3,3,3), padding=1),\n",
        "            nn.BatchNorm3d(32),\n",
        "            nn.ReLU(),\n",
        "            nn.Conv3d(32, 32, kernel_size=(3,3,3), padding=1),\n",
        "            nn.BatchNorm3d(32),\n",
        "            nn.ReLU(),\n",
        "            nn.MaxPool3d((1,2,2), stride=(1,2,2))\n",
        "        )\n",
        "\n",
        "        # Feature Extraction Block 2 with Residual Connection\n",
        "        self.block2 = nn.Sequential(\n",
        "            nn.Conv3d(32, 64, kernel_size=(3,3,3), padding=1),\n",
        "            nn.BatchNorm3d(64),\n",
        "            nn.ReLU(),\n",
        "            nn.Conv3d(64, 64, kernel_size=(3,3,3), padding=1),\n",
        "            nn.BatchNorm3d(64),\n",
        "            nn.ReLU(),\n",
        "            nn.MaxPool3d((2,2,2), stride=(2,2,2))\n",
        "        )\n",
        "\n",
        "        # Feature Extraction Block 3\n",
        "        self.block3 = nn.Sequential(\n",
        "            nn.Conv3d(64, 128, kernel_size=(3,3,3), padding=1),\n",
        "            nn.BatchNorm3d(128),\n",
        "            nn.ReLU(),\n",
        "            nn.Conv3d(128, 128, kernel_size=(3,3,3), padding=1),\n",
        "            nn.BatchNorm3d(128),\n",
        "            nn.ReLU(),\n",
        "            nn.AdaptiveAvgPool3d((1,1,1))\n",
        "        )\n",
        "\n",
        "        # Classification Head\n",
        "        self.classifier = nn.Sequential(\n",
        "            nn.Dropout(dropout_prob),\n",
        "            nn.Linear(128, 256),\n",
        "            nn.ReLU(),\n",
        "            nn.Dropout(dropout_prob/2),\n",
        "            nn.Linear(256, num_classes)\n",
        "        )\n",
        "\n",
        "        # Initialize weights\n",
        "        self._initialize_weights()\n",
        "\n",
        "    def _initialize_weights(self):\n",
        "        for m in self.modules():\n",
        "            if isinstance(m, nn.Conv3d):\n",
        "                nn.init.kaiming_normal_(m.weight, mode='fan_out', nonlinearity='relu')\n",
        "                if m.bias is not None:\n",
        "                    nn.init.constant_(m.bias, 0)\n",
        "            elif isinstance(m, nn.BatchNorm3d):\n",
        "                nn.init.constant_(m.weight, 1)\n",
        "                nn.init.constant_(m.bias, 0)\n",
        "\n",
        "    def forward(self, x):\n",
        "        x = self.block1(x)  # [B, 32, T, H/2, W/2]\n",
        "        x = self.block2(x)  # [B, 64, T/2, H/4, W/4]\n",
        "        x = self.block3(x)  # [B, 128, 1, 1, 1]\n",
        "        x = x.view(x.size(0), -1)\n",
        "        return self.classifier(x)\n",
        "\n",
        "num_classes = 5\n",
        "model = EnhancedVideoClassifier(num_classes)\n",
        "model.to(device)\n"
      ]
    },
    {
      "cell_type": "markdown",
      "metadata": {
        "id": "_Ce5H2FrABXm"
      },
      "source": [
        "모델 학습"
      ]
    },
    {
      "cell_type": "code",
      "execution_count": 129,
      "metadata": {
        "colab": {
          "base_uri": "https://localhost:8080/"
        },
        "id": "SKWy13J4DMJV",
        "outputId": "15f18fe7-dc83-48fa-a4a2-c7a5cc6039d8"
      },
      "outputs": [
        {
          "name": "stdout",
          "output_type": "stream",
          "text": [
            "Epoch 1/10, Loss: 0.1456, Accuracy: 93.37%\n",
            "Epoch 2/10, Loss: 0.0398, Accuracy: 98.57%\n",
            "Epoch 3/10, Loss: 0.0301, Accuracy: 98.88%\n",
            "Epoch 4/10, Loss: 0.0288, Accuracy: 98.91%\n",
            "Epoch 5/10, Loss: 0.0268, Accuracy: 98.96%\n",
            "Epoch 6/10, Loss: 0.0231, Accuracy: 99.06%\n",
            "Epoch 7/10, Loss: 0.0221, Accuracy: 99.07%\n",
            "Epoch 8/10, Loss: 0.0220, Accuracy: 99.06%\n",
            "Epoch 9/10, Loss: 0.0214, Accuracy: 99.11%\n",
            "Epoch 10/10, Loss: 0.0197, Accuracy: 99.11%\n"
          ]
        }
      ],
      "source": [
        "# 학습 설정\n",
        "criterion = nn.CrossEntropyLoss()\n",
        "optimizer = optim.Adam(model.parameters(), lr=0.001)\n",
        "num_epochs = 10\n",
        "\n",
        "# 학습 루프\n",
        "for epoch in range(num_epochs):\n",
        "    model.train()\n",
        "    total_loss = 0\n",
        "    correct = 0  # 맞힌 개수\n",
        "    total = 0    # 전체 개수\n",
        "\n",
        "    for X_batch, y_batch in train_loader:\n",
        "        X_batch = X_batch.float()  # float64 → float32 변환\n",
        "        y_batch = y_batch.long()   # 정수형 변환 (필요 시)\n",
        "\n",
        "        optimizer.zero_grad()\n",
        "        logits = model(X_batch)  # Forward pass\n",
        "        loss = criterion(logits, y_batch)  # 손실 계산\n",
        "        loss.backward()  # 역전파\n",
        "        optimizer.step()  # 가중치 업데이트\n",
        "        total_loss += loss.item()\n",
        "\n",
        "        # 🔹 정확도 계산\n",
        "        preds = torch.argmax(logits, dim=1)  # 가장 높은 확률의 클래스 선택\n",
        "        correct += preds.eq(y_batch).sum().item()  # 맞힌 개수 누적\n",
        "        total += y_batch.size(0)  # 전체 샘플 개수 누적\n",
        "\n",
        "    # 🔹 평균 Loss 및 Accuracy 출력\n",
        "    avg_loss = total_loss / len(train_loader)\n",
        "    accuracy = correct / total * 100  # 퍼센트(%)\n",
        "    print(f\"Epoch {epoch+1}/{num_epochs}, Loss: {avg_loss:.4f}, Accuracy: {accuracy:.2f}%\")\n"
      ]
    },
    {
      "cell_type": "markdown",
      "metadata": {
        "id": "vVRGEpqeDcE3"
      },
      "source": [
        "잘 학습이 되었다."
      ]
    },
    {
      "cell_type": "markdown",
      "metadata": {
        "id": "-92BI3ywdUpA"
      },
      "source": [
        "# Shuffle-based Dimensional Importance (SDI)"
      ]
    },
    {
      "cell_type": "code",
      "execution_count": 130,
      "metadata": {
        "colab": {
          "base_uri": "https://localhost:8080/"
        },
        "id": "ltUpJwXqDCZI",
        "outputId": "f10ed463-3d45-49f5-8466-a01d4271ec09"
      },
      "outputs": [
        {
          "name": "stdout",
          "output_type": "stream",
          "text": [
            "전체 차원 중요도: {'dim_1': 0.09936719434026804, 'dim_2': 0.7687396894170477, 'dim_3': 0.1318931162426843, 'dim_4': 0.0}\n",
            "클래스별 차원 중요도:\n",
            "  클래스 0: {'dim_1': 0.2587845506272845, 'dim_2': 0.7338516766452265, 'dim_3': 0.0073637727274889955, 'dim_4': 0.0}\n",
            "  클래스 1: {'dim_1': 0.03653214840326864, 'dim_2': 0.7362041991308235, 'dim_3': 0.22726365246590788, 'dim_4': 0.0}\n",
            "  클래스 2: {'dim_1': 0.0182619044884295, 'dim_2': 0.9751498078157628, 'dim_3': 0.006588287695807694, 'dim_4': 0.0}\n",
            "  클래스 3: {'dim_1': 0.31297582354379483, 'dim_2': 0.6761223157938958, 'dim_3': 0.010901860662309446, 'dim_4': 0.0}\n",
            "  클래스 4: {'dim_1': 0.05466446531292051, 'dim_2': 0.49773213450444453, 'dim_3': 0.44760340018263495, 'dim_4': 0.0}\n"
          ]
        }
      ],
      "source": [
        "import torch\n",
        "import torch.nn.functional as F\n",
        "import random\n",
        "\n",
        "def sdi_importance_analysis(model, data_loader, num_samples=1, perturbation_strength=0.2):\n",
        "    model.eval()\n",
        "\n",
        "    sample_batch, _ = next(iter(data_loader))\n",
        "    num_dims = len(sample_batch.shape) - 1\n",
        "    dim_names = [f\"dim_{i}\" for i in range(1, num_dims + 1)]\n",
        "\n",
        "    importance_scores = {dim: 0.0 for dim in dim_names}\n",
        "    per_class_scores = {}\n",
        "\n",
        "    num_batches = 0\n",
        "    for X_batch, _ in data_loader:\n",
        "        num_batches += 1\n",
        "        X_batch = X_batch.to(next(model.parameters()).device)\n",
        "\n",
        "        logit_original = model(X_batch).detach()\n",
        "        num_classes = logit_original.shape[1]\n",
        "\n",
        "        if not per_class_scores:\n",
        "            per_class_scores = {cls: {dim: 0.0 for dim in dim_names} for cls in range(num_classes)}\n",
        "\n",
        "        for dim_idx, dim_name in enumerate(dim_names, start=1):\n",
        "            total_mse = 0.0\n",
        "            class_mse = {cls: 0.0 for cls in range(num_classes)}\n",
        "\n",
        "            for _ in range(num_samples):\n",
        "                X_perturbed = X_batch.clone().detach()\n",
        "                num_swap = max(1, int(X_perturbed.shape[dim_idx] * perturbation_strength))\n",
        "                swap_indices = random.sample(range(X_perturbed.shape[dim_idx]), num_swap)\n",
        "                permutation = random.sample(swap_indices, len(swap_indices))\n",
        "\n",
        "                X_perturbed.index_copy_(dim_idx, torch.tensor(swap_indices, device=X_batch.device),\n",
        "                                        X_perturbed.index_select(dim_idx, torch.tensor(permutation, device=X_batch.device)))\n",
        "\n",
        "                logit_perturbed = model(X_perturbed).detach()\n",
        "                mse = torch.mean((logit_original - logit_perturbed) ** 2, dim=0)\n",
        "                total_mse += mse.mean().item()\n",
        "\n",
        "                for cls in range(num_classes):\n",
        "                    class_mse[cls] += mse[cls].item()\n",
        "\n",
        "            importance_scores[dim_name] += total_mse / num_samples\n",
        "            for cls in range(num_classes):\n",
        "                per_class_scores[cls][dim_name] += class_mse[cls] / num_samples\n",
        "\n",
        "    for key in importance_scores:\n",
        "        importance_scores[key] /= num_batches\n",
        "\n",
        "    for cls in per_class_scores:\n",
        "        for key in per_class_scores[cls]:\n",
        "            per_class_scores[cls][key] /= num_batches\n",
        "\n",
        "    # 🔹 합이 1이 되도록 정규화\n",
        "    total_score = sum(importance_scores.values())\n",
        "    importance_scores = {key: value / total_score for key, value in importance_scores.items()}\n",
        "\n",
        "    for cls in per_class_scores:\n",
        "        class_total_score = sum(per_class_scores[cls].values())\n",
        "        per_class_scores[cls] = {key: value / class_total_score for key, value in per_class_scores[cls].items()}\n",
        "\n",
        "    return {\"overall\": importance_scores, \"per_class\": per_class_scores}\n",
        "\n",
        "perturbation_scores = sdi_importance_analysis(model, train_loader, num_samples=3, perturbation_strength=0.8)\n",
        "\n",
        "print(\"전체 차원 중요도:\", perturbation_scores[\"overall\"])\n",
        "print(\"클래스별 차원 중요도:\")\n",
        "for cls, scores in perturbation_scores[\"per_class\"].items():\n",
        "    print(f\"  클래스 {cls}: {scores}\")\n"
      ]
    },
    {
      "cell_type": "code",
      "execution_count": 131,
      "metadata": {
        "colab": {
          "base_uri": "https://localhost:8080/",
          "height": 1000
        },
        "id": "V0HiGtp7Wn15",
        "outputId": "d90a12a2-f35f-4d43-d543-0ccbcaae83ce"
      },
      "outputs": [
        {
          "data": {
            "image/png": "[encoded data removed]",
            "text/plain": [
              "<Figure size 800x500 with 1 Axes>"
            ]
          },
          "metadata": {},
          "output_type": "display_data"
        },
        {
          "data": {
            "image/png": "[encoded data removed]",
            "text/plain": [
              "<Figure size 1000x600 with 2 Axes>"
            ]
          },
          "metadata": {},
          "output_type": "display_data"
        }
      ],
      "source": [
        "import matplotlib.pyplot as plt\n",
        "import seaborn as sns\n",
        "\n",
        "def plot_importance_scores(importance_scores, per_class_scores):\n",
        "    # Overall Dimension Importance (Bar Chart)\n",
        "    plt.figure(figsize=(8, 5))\n",
        "    plt.bar(importance_scores.keys(), importance_scores.values(), color='skyblue')\n",
        "    plt.xlabel(\"Dimension\")\n",
        "    plt.ylabel(\"Importance Score\")\n",
        "    plt.title(\"Overall Dimension Importance\")\n",
        "    plt.xticks(rotation=45)\n",
        "    plt.show()\n",
        "\n",
        "    # Per-Class Importance (Heatmap)\n",
        "    per_class_df = {cls: list(scores.values()) for cls, scores in per_class_scores.items()}\n",
        "    dim_labels = list(per_class_scores[0].keys())  # Dimension names\n",
        "\n",
        "    plt.figure(figsize=(10, 6))\n",
        "    sns.heatmap(list(per_class_df.values()), annot=True, cmap=\"Blues\", xticklabels=dim_labels, yticklabels=list(per_class_df.keys()))\n",
        "    plt.xlabel(\"Dimension\")\n",
        "    plt.ylabel(\"Class\")\n",
        "    plt.title(\"Per-Class Dimension Importance\")\n",
        "    plt.show()\n",
        "\n",
        "# Run visualization\n",
        "plot_importance_scores(perturbation_scores[\"overall\"], perturbation_scores[\"per_class\"])\n"
      ]
    },
    {
      "cell_type": "markdown",
      "metadata": {},
      "source": [
        "모든 class에서 예상대로 dim_2가 가장 중요하게 사용되었다.  \n",
        "또, 예상대로 class0, class3에서는 dim_1이 추가로 중요하게 고려 되었고(이 둘의 차이는 dim_1에서 나타나기 때문)\n",
        "마찬가지로 class1, class4에서 dim_3가 중요하게 고려 되었다.(이 둘의 차이는 dim_0에서 나타남)"
      ]
    },
    {
      "cell_type": "code",
      "execution_count": null,
      "metadata": {},
      "outputs": [],
      "source": []
    }
  ],
  "metadata": {
    "accelerator": "GPU",
    "colab": {
      "gpuType": "T4",
      "provenance": []
    },
    "kernelspec": {
      "display_name": "Python 3",
      "name": "python3"
    },
    "language_info": {
      "name": "python"
    }
  },
  "nbformat": 4,
  "nbformat_minor": 0
}
