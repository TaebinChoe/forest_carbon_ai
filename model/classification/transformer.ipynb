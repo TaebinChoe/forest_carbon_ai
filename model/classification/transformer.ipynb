{
 "cells": [
  {
   "cell_type": "code",
   "execution_count": 1,
   "metadata": {},
   "outputs": [],
   "source": [
    "import torch\n",
    "from torch.utils.data import DataLoader\n",
    "from torchvision import transforms\n",
    "import torch.nn as nn\n",
    "import torch.optim as optim\n",
    "from utils.utils import train_model, evaluate_model_with_cm, TiffDataset\n",
    "from models.video_classifier import VideoClassifier\n",
    "import os"
   ]
  },
  {
   "cell_type": "code",
   "execution_count": 2,
   "metadata": {},
   "outputs": [],
   "source": [
    "device = torch.device(\"cuda\" if torch.cuda.is_available() else \"cpu\")"
   ]
  },
  {
   "cell_type": "code",
   "execution_count": 3,
   "metadata": {},
   "outputs": [],
   "source": [
    "test_filter = lambda box_number: (box_number % 9 == 0 or box_number % 9 == 5)"
   ]
  },
  {
   "cell_type": "code",
   "execution_count": 4,
   "metadata": {},
   "outputs": [],
   "source": [
    "class ReshapeTransform:\n",
    "    \"\"\"(12*bands, 3, 3) → (12, bands, 3, 3) 변환\"\"\"\n",
    "    def __init__(self, bands):\n",
    "        self.bands = bands\n",
    "\n",
    "    def __call__(self, x):\n",
    "        return x.view(12, self.bands, 9, 9).permute(1, 0, 2, 3)\n",
    "\n",
    "def get_transform(bands, scale_channels_func=None):\n",
    "    transform_list = [\n",
    "        transforms.ToTensor(),  # (H, W, C) → (C, H, W)\n",
    "        transforms.Lambda(lambda x: x.float()),  # uint16 → float 변환\n",
    "        ReshapeTransform(bands)  # (12*bands, 3, 3) → (bands, 12, 3, 3)\n",
    "    ]\n",
    "\n",
    "    if scale_channels_func:\n",
    "        transform_list.append(transforms.Lambda(scale_channels_func))  # 채널별 값 조정 추가\n",
    "\n",
    "    return transforms.Compose(transform_list)\n",
    "\n",
    "#scaling 함수 - 채널별로 범위의 차이가 크기때문에 어느정도 맞추어주기 위해서 수행\n",
    "def scale_channels(x):\n",
    "    \"\"\"특정 채널값 조정\"\"\"\n",
    "    x[0:3] *= 5  # B,G,R 채널 * 5\n",
    "    if 4 < x.shape[0]:\n",
    "        x[4] *= 0.5  # NDVI 채널 * 0.5\n",
    "    return x"
   ]
  },
  {
   "cell_type": "code",
   "execution_count": 5,
   "metadata": {},
   "outputs": [],
   "source": [
    "large_tif_dir = '../../data/source_data/naive' #원천데이터 주소\n",
    "bands = 4 #밴드 수\n",
    "patch_size = 9\n",
    "\n",
    "transform = get_transform(bands, scale_channels)\n",
    "\n",
    "train_dataset = TiffDataset(\n",
    "    large_tif_dir = large_tif_dir,\n",
    "    file_list = [\"jiri_1.tif\", \"jiri_2.tif\", \"sobaek.tif\"], #전체 지역을 모두 사용한다.\n",
    "    label_file = \"../../data/label_data/species/label_mapping_sampled.csv\",\n",
    "    box_filter_fn = lambda box_number: not test_filter(box_number),\n",
    "    patch_size = patch_size,\n",
    "    transform=transform\n",
    ")\n",
    "\n",
    "val_dataset = TiffDataset(\n",
    "    large_tif_dir = large_tif_dir,\n",
    "    file_list = [\"jiri_1.tif\", \"jiri_2.tif\", \"sobaek.tif\"], #전체 지역을 모두 사용한다.\n",
    "    label_file =\"../../data/label_data/species/label_mapping_sampled.csv\",\n",
    "    box_filter_fn = test_filter,\n",
    "    patch_size = patch_size,\n",
    "    transform=transform\n",
    ")\n",
    "\n",
    "train_loader = DataLoader(train_dataset, batch_size=32, shuffle=True)\n",
    "val_loader = DataLoader(val_dataset, batch_size=32, shuffle=False)"
   ]
  },
  {
   "cell_type": "markdown",
   "metadata": {},
   "source": [
    "(Token_length, embedding) = (4×81, 12)"
   ]
  },
  {
   "cell_type": "code",
   "execution_count": 18,
   "metadata": {},
   "outputs": [],
   "source": [
    "import torch\n",
    "import torch.nn as nn\n",
    "\n",
    "class TransformerModel(nn.Module):\n",
    "    def __init__(self, patch_size=9, num_bands=4, temp=12, num_classes=6, \n",
    "                 d_model=24, nhead=6, num_layers=5, dim_feedforward=96):\n",
    "        super().__init__()\n",
    "        self.patch_size = patch_size\n",
    "        self.num_bands = num_bands\n",
    "        self.temp = temp\n",
    "        self.num_tokens = num_bands * patch_size * patch_size  # 4×81 = 324\n",
    "        self.d_model = d_model  # 24로 조정\n",
    "\n",
    "        # ** 입력 차원 변환 레이어 추가 (12 → 24) **\n",
    "        self.input_projection = nn.Linear(temp, d_model)  # (12 → 24로 변환)\n",
    "\n",
    "        # Positional Encoding\n",
    "        self.pos_embedding = nn.Parameter(torch.randn(1, self.num_tokens, d_model))\n",
    "\n",
    "        # Transformer Encoder\n",
    "        encoder_layer = nn.TransformerEncoderLayer(\n",
    "            d_model=d_model, \n",
    "            nhead=nhead,  \n",
    "            dim_feedforward=dim_feedforward,  \n",
    "            batch_first=True\n",
    "        )\n",
    "        self.transformer = nn.TransformerEncoder(encoder_layer, num_layers=num_layers)\n",
    "\n",
    "        # Classification Head (줄인 버전)\n",
    "        self.fc = nn.Sequential(\n",
    "            nn.Linear(self.num_tokens * d_model, 256),\n",
    "            nn.ReLU(),\n",
    "            nn.Linear(256, 128),\n",
    "            nn.ReLU(),\n",
    "            nn.Linear(128, num_classes)\n",
    "        )\n",
    "\n",
    "    def forward(self, x):\n",
    "        batch_size = x.shape[0]\n",
    "\n",
    "        # (batch, 4, 12, 9, 9) → (batch, 4×9×9, 12)\n",
    "        x = x.view(batch_size, self.num_tokens, -1)  \n",
    "\n",
    "        # ** 입력 차원 변환 (12 → 24) **\n",
    "        x = self.input_projection(x)  # (batch, 324, 24)\n",
    "\n",
    "        # Add Positional Encoding\n",
    "        x = x + self.pos_embedding  \n",
    "\n",
    "        # Transformer Encoder\n",
    "        x = self.transformer(x)  \n",
    "\n",
    "        # Flatten & Classification\n",
    "        x = x.flatten(1)  # (batch, 324×24)\n",
    "        x = self.fc(x)  # (batch, num_classes)\n",
    "\n",
    "        return x"
   ]
  },
  {
   "cell_type": "code",
   "execution_count": 21,
   "metadata": {},
   "outputs": [],
   "source": [
    "import torch\n",
    "import torch.nn as nn\n",
    "\n",
    "class TransformerModel(nn.Module):\n",
    "    def __init__(self, patch_size=9, num_bands=4, temp=12, num_classes=6, \n",
    "                 d_model=20, nhead=4, num_layers=5, dim_feedforward=96, dropout=0.1):\n",
    "        super().__init__()\n",
    "        self.patch_size = patch_size\n",
    "        self.num_bands = num_bands\n",
    "        self.temp = temp\n",
    "        self.num_tokens = num_bands * patch_size * patch_size  # 4×81 = 324\n",
    "        self.d_model = d_model  # 24로 조정\n",
    "\n",
    "        # ** 입력 차원 변환 레이어 추가 (12 → 24) **\n",
    "        self.input_projection = nn.Linear(temp, d_model)  # (12 → 24 변환)\n",
    "\n",
    "        # Positional Encoding\n",
    "        self.pos_embedding = nn.Parameter(torch.randn(1, self.num_tokens, d_model))\n",
    "\n",
    "        # ** Layer Normalization 추가 **\n",
    "        self.norm1 = nn.LayerNorm(d_model)  \n",
    "\n",
    "        # Transformer Encoder (Dropout 추가)\n",
    "        encoder_layer = nn.TransformerEncoderLayer(\n",
    "            d_model=d_model, \n",
    "            nhead=nhead,  \n",
    "            dim_feedforward=dim_feedforward,  \n",
    "            dropout=dropout,  # 🔥 Dropout 추가\n",
    "            batch_first=True\n",
    "        )\n",
    "        self.transformer = nn.TransformerEncoder(encoder_layer, num_layers=num_layers)\n",
    "\n",
    "        # Classification Head (Dropout 추가)\n",
    "        self.fc = nn.Sequential(\n",
    "            nn.Linear(self.num_tokens * d_model, 256),\n",
    "            nn.ReLU(),\n",
    "            nn.Dropout(0.3),  # 🔥 Dropout 추가!\n",
    "            nn.Linear(256, 128),\n",
    "            nn.ReLU(),\n",
    "            nn.Dropout(0.3),  # 🔥 Dropout 추가!\n",
    "            nn.Linear(128, num_classes)\n",
    "        )\n",
    "\n",
    "        # ** Layer Normalization 추가 **\n",
    "        self.norm2 = nn.LayerNorm(num_classes)  \n",
    "\n",
    "        # ** 가중치 초기화 **\n",
    "        self.apply(self._init_weights)  \n",
    "\n",
    "    def forward(self, x):\n",
    "        batch_size = x.shape[0]\n",
    "\n",
    "        # (batch, 4, 12, 9, 9) → (batch, 4×9×9, 12)\n",
    "        x = x.view(batch_size, self.num_tokens, -1)  \n",
    "\n",
    "        # ** 입력 차원 변환 (12 → 24) **\n",
    "        x = self.input_projection(x)  # (batch, 324, 24)\n",
    "\n",
    "        # Add Positional Encoding\n",
    "        x = x + self.pos_embedding  \n",
    "\n",
    "        # Transformer Encoder (입력 정규화 추가)\n",
    "        x = self.norm1(x)  \n",
    "        x = self.transformer(x)  \n",
    "\n",
    "        # Flatten & Classification\n",
    "        x = x.flatten(1)  # (batch, 324×24)\n",
    "        x = self.fc(x)  # (batch, num_classes)\n",
    "\n",
    "        # 출력 정규화\n",
    "        x = self.norm2(x)  \n",
    "\n",
    "        return x\n",
    "\n",
    "    def _init_weights(self, module):\n",
    "        if isinstance(module, nn.Linear):\n",
    "            nn.init.xavier_uniform_(module.weight)  # Xavier 초기화\n",
    "            if module.bias is not None:\n",
    "                nn.init.constant_(module.bias, 0)\n"
   ]
  },
  {
   "cell_type": "code",
   "execution_count": 22,
   "metadata": {},
   "outputs": [
    {
     "name": "stdout",
     "output_type": "stream",
     "text": [
      "Transformer 모델 파라미터 개수: 1728178\n"
     ]
    }
   ],
   "source": [
    "model = TransformerModel(patch_size=9, num_classes=6).to(device)\n",
    "criterion = nn.CrossEntropyLoss()\n",
    "\n",
    "lr = 1e-4\n",
    "weight_decay = 1e-4  # 🔥 L2 Regularization 적용\n",
    "optimizer = optim.AdamW(model.parameters(), lr=lr, weight_decay=weight_decay)\n",
    "\n",
    "total_params = sum(p.numel() for p in model.parameters() if p.requires_grad)\n",
    "print(f\"Transformer 모델 파라미터 개수: {total_params}\")"
   ]
  },
  {
   "cell_type": "code",
   "execution_count": 23,
   "metadata": {},
   "outputs": [
    {
     "name": "stderr",
     "output_type": "stream",
     "text": [
      "Epoch 1/30 - Training: 100%|████████████████████████████████████████████████| 3502/3502 [02:11<00:00, 26.64it/s]\n",
      "Epoch 1/30 - Validation: 100%|██████████████████████████████████████████████| 1207/1207 [00:18<00:00, 65.06it/s]\n"
     ]
    },
    {
     "name": "stdout",
     "output_type": "stream",
     "text": [
      "\n",
      "Epoch [1/30], Train Loss: 1.3736, Train Accuracy: 46.39%, Val Loss: 0.9587, Val Accuracy: 64.14%\n",
      "\n"
     ]
    },
    {
     "name": "stderr",
     "output_type": "stream",
     "text": [
      "Epoch 2/30 - Training:   3%|█▋                                               | 119/3502 [00:04<02:05, 26.89it/s]\n"
     ]
    },
    {
     "ename": "KeyboardInterrupt",
     "evalue": "",
     "output_type": "error",
     "traceback": [
      "\u001b[0;31m---------------------------------------------------------------------------\u001b[0m",
      "\u001b[0;31mKeyboardInterrupt\u001b[0m                         Traceback (most recent call last)",
      "Cell \u001b[0;32mIn[23], line 3\u001b[0m\n\u001b[1;32m      1\u001b[0m num_epochs \u001b[38;5;241m=\u001b[39m \u001b[38;5;241m30\u001b[39m\n\u001b[0;32m----> 3\u001b[0m best_model_state, train_losses, val_losses \u001b[38;5;241m=\u001b[39m train_model(model, train_loader, val_loader, criterion, optimizer, num_epochs\u001b[38;5;241m=\u001b[39mnum_epochs, patience\u001b[38;5;241m=\u001b[39m\u001b[38;5;241m100\u001b[39m)\n\u001b[1;32m      4\u001b[0m os\u001b[38;5;241m.\u001b[39mmakedirs(\u001b[38;5;124m\"\u001b[39m\u001b[38;5;124m./checkpoints/transformer\u001b[39m\u001b[38;5;124m\"\u001b[39m, exist_ok\u001b[38;5;241m=\u001b[39m\u001b[38;5;28;01mTrue\u001b[39;00m)\n\u001b[1;32m      5\u001b[0m torch\u001b[38;5;241m.\u001b[39msave(best_model_state, \u001b[38;5;124mf\u001b[39m\u001b[38;5;124m\"\u001b[39m\u001b[38;5;124m./checkpoints/transformer/transformer_\u001b[39m\u001b[38;5;132;01m{\u001b[39;00mbands\u001b[38;5;132;01m}\u001b[39;00m\u001b[38;5;124m_\u001b[39m\u001b[38;5;132;01m{\u001b[39;00mpatch_size\u001b[38;5;132;01m}\u001b[39;00m\u001b[38;5;124m_\u001b[39m\u001b[38;5;132;01m{\u001b[39;00mnum_epochs\u001b[38;5;132;01m}\u001b[39;00m\u001b[38;5;124m.pth\u001b[39m\u001b[38;5;124m\"\u001b[39m)\n",
      "File \u001b[0;32m~/my_study/forest_carbon_ai/model/classification/utils/utils.py:44\u001b[0m, in \u001b[0;36mtrain_model\u001b[0;34m(model, train_loader, val_loader, criterion, optimizer, num_epochs, patience)\u001b[0m\n\u001b[1;32m     41\u001b[0m images, labels \u001b[38;5;241m=\u001b[39m images\u001b[38;5;241m.\u001b[39mto(device), labels\u001b[38;5;241m.\u001b[39mto(device)\n\u001b[1;32m     43\u001b[0m optimizer\u001b[38;5;241m.\u001b[39mzero_grad()\n\u001b[0;32m---> 44\u001b[0m outputs \u001b[38;5;241m=\u001b[39m model(images)\n\u001b[1;32m     46\u001b[0m loss \u001b[38;5;241m=\u001b[39m criterion(outputs, labels)\n\u001b[1;32m     47\u001b[0m loss\u001b[38;5;241m.\u001b[39mbackward()\n",
      "File \u001b[0;32m~/anaconda3/envs/A/lib/python3.12/site-packages/torch/nn/modules/module.py:1739\u001b[0m, in \u001b[0;36mModule._wrapped_call_impl\u001b[0;34m(self, *args, **kwargs)\u001b[0m\n\u001b[1;32m   1737\u001b[0m     \u001b[38;5;28;01mreturn\u001b[39;00m \u001b[38;5;28mself\u001b[39m\u001b[38;5;241m.\u001b[39m_compiled_call_impl(\u001b[38;5;241m*\u001b[39margs, \u001b[38;5;241m*\u001b[39m\u001b[38;5;241m*\u001b[39mkwargs)  \u001b[38;5;66;03m# type: ignore[misc]\u001b[39;00m\n\u001b[1;32m   1738\u001b[0m \u001b[38;5;28;01melse\u001b[39;00m:\n\u001b[0;32m-> 1739\u001b[0m     \u001b[38;5;28;01mreturn\u001b[39;00m \u001b[38;5;28mself\u001b[39m\u001b[38;5;241m.\u001b[39m_call_impl(\u001b[38;5;241m*\u001b[39margs, \u001b[38;5;241m*\u001b[39m\u001b[38;5;241m*\u001b[39mkwargs)\n",
      "File \u001b[0;32m~/anaconda3/envs/A/lib/python3.12/site-packages/torch/nn/modules/module.py:1750\u001b[0m, in \u001b[0;36mModule._call_impl\u001b[0;34m(self, *args, **kwargs)\u001b[0m\n\u001b[1;32m   1745\u001b[0m \u001b[38;5;66;03m# If we don't have any hooks, we want to skip the rest of the logic in\u001b[39;00m\n\u001b[1;32m   1746\u001b[0m \u001b[38;5;66;03m# this function, and just call forward.\u001b[39;00m\n\u001b[1;32m   1747\u001b[0m \u001b[38;5;28;01mif\u001b[39;00m \u001b[38;5;129;01mnot\u001b[39;00m (\u001b[38;5;28mself\u001b[39m\u001b[38;5;241m.\u001b[39m_backward_hooks \u001b[38;5;129;01mor\u001b[39;00m \u001b[38;5;28mself\u001b[39m\u001b[38;5;241m.\u001b[39m_backward_pre_hooks \u001b[38;5;129;01mor\u001b[39;00m \u001b[38;5;28mself\u001b[39m\u001b[38;5;241m.\u001b[39m_forward_hooks \u001b[38;5;129;01mor\u001b[39;00m \u001b[38;5;28mself\u001b[39m\u001b[38;5;241m.\u001b[39m_forward_pre_hooks\n\u001b[1;32m   1748\u001b[0m         \u001b[38;5;129;01mor\u001b[39;00m _global_backward_pre_hooks \u001b[38;5;129;01mor\u001b[39;00m _global_backward_hooks\n\u001b[1;32m   1749\u001b[0m         \u001b[38;5;129;01mor\u001b[39;00m _global_forward_hooks \u001b[38;5;129;01mor\u001b[39;00m _global_forward_pre_hooks):\n\u001b[0;32m-> 1750\u001b[0m     \u001b[38;5;28;01mreturn\u001b[39;00m forward_call(\u001b[38;5;241m*\u001b[39margs, \u001b[38;5;241m*\u001b[39m\u001b[38;5;241m*\u001b[39mkwargs)\n\u001b[1;32m   1752\u001b[0m result \u001b[38;5;241m=\u001b[39m \u001b[38;5;28;01mNone\u001b[39;00m\n\u001b[1;32m   1753\u001b[0m called_always_called_hooks \u001b[38;5;241m=\u001b[39m \u001b[38;5;28mset\u001b[39m()\n",
      "Cell \u001b[0;32mIn[21], line 64\u001b[0m, in \u001b[0;36mTransformerModel.forward\u001b[0;34m(self, x)\u001b[0m\n\u001b[1;32m     62\u001b[0m \u001b[38;5;66;03m# Transformer Encoder (입력 정규화 추가)\u001b[39;00m\n\u001b[1;32m     63\u001b[0m x \u001b[38;5;241m=\u001b[39m \u001b[38;5;28mself\u001b[39m\u001b[38;5;241m.\u001b[39mnorm1(x)  \n\u001b[0;32m---> 64\u001b[0m x \u001b[38;5;241m=\u001b[39m \u001b[38;5;28mself\u001b[39m\u001b[38;5;241m.\u001b[39mtransformer(x)  \n\u001b[1;32m     66\u001b[0m \u001b[38;5;66;03m# Flatten & Classification\u001b[39;00m\n\u001b[1;32m     67\u001b[0m x \u001b[38;5;241m=\u001b[39m x\u001b[38;5;241m.\u001b[39mflatten(\u001b[38;5;241m1\u001b[39m)  \u001b[38;5;66;03m# (batch, 324×24)\u001b[39;00m\n",
      "File \u001b[0;32m~/anaconda3/envs/A/lib/python3.12/site-packages/torch/nn/modules/module.py:1739\u001b[0m, in \u001b[0;36mModule._wrapped_call_impl\u001b[0;34m(self, *args, **kwargs)\u001b[0m\n\u001b[1;32m   1737\u001b[0m     \u001b[38;5;28;01mreturn\u001b[39;00m \u001b[38;5;28mself\u001b[39m\u001b[38;5;241m.\u001b[39m_compiled_call_impl(\u001b[38;5;241m*\u001b[39margs, \u001b[38;5;241m*\u001b[39m\u001b[38;5;241m*\u001b[39mkwargs)  \u001b[38;5;66;03m# type: ignore[misc]\u001b[39;00m\n\u001b[1;32m   1738\u001b[0m \u001b[38;5;28;01melse\u001b[39;00m:\n\u001b[0;32m-> 1739\u001b[0m     \u001b[38;5;28;01mreturn\u001b[39;00m \u001b[38;5;28mself\u001b[39m\u001b[38;5;241m.\u001b[39m_call_impl(\u001b[38;5;241m*\u001b[39margs, \u001b[38;5;241m*\u001b[39m\u001b[38;5;241m*\u001b[39mkwargs)\n",
      "File \u001b[0;32m~/anaconda3/envs/A/lib/python3.12/site-packages/torch/nn/modules/module.py:1750\u001b[0m, in \u001b[0;36mModule._call_impl\u001b[0;34m(self, *args, **kwargs)\u001b[0m\n\u001b[1;32m   1745\u001b[0m \u001b[38;5;66;03m# If we don't have any hooks, we want to skip the rest of the logic in\u001b[39;00m\n\u001b[1;32m   1746\u001b[0m \u001b[38;5;66;03m# this function, and just call forward.\u001b[39;00m\n\u001b[1;32m   1747\u001b[0m \u001b[38;5;28;01mif\u001b[39;00m \u001b[38;5;129;01mnot\u001b[39;00m (\u001b[38;5;28mself\u001b[39m\u001b[38;5;241m.\u001b[39m_backward_hooks \u001b[38;5;129;01mor\u001b[39;00m \u001b[38;5;28mself\u001b[39m\u001b[38;5;241m.\u001b[39m_backward_pre_hooks \u001b[38;5;129;01mor\u001b[39;00m \u001b[38;5;28mself\u001b[39m\u001b[38;5;241m.\u001b[39m_forward_hooks \u001b[38;5;129;01mor\u001b[39;00m \u001b[38;5;28mself\u001b[39m\u001b[38;5;241m.\u001b[39m_forward_pre_hooks\n\u001b[1;32m   1748\u001b[0m         \u001b[38;5;129;01mor\u001b[39;00m _global_backward_pre_hooks \u001b[38;5;129;01mor\u001b[39;00m _global_backward_hooks\n\u001b[1;32m   1749\u001b[0m         \u001b[38;5;129;01mor\u001b[39;00m _global_forward_hooks \u001b[38;5;129;01mor\u001b[39;00m _global_forward_pre_hooks):\n\u001b[0;32m-> 1750\u001b[0m     \u001b[38;5;28;01mreturn\u001b[39;00m forward_call(\u001b[38;5;241m*\u001b[39margs, \u001b[38;5;241m*\u001b[39m\u001b[38;5;241m*\u001b[39mkwargs)\n\u001b[1;32m   1752\u001b[0m result \u001b[38;5;241m=\u001b[39m \u001b[38;5;28;01mNone\u001b[39;00m\n\u001b[1;32m   1753\u001b[0m called_always_called_hooks \u001b[38;5;241m=\u001b[39m \u001b[38;5;28mset\u001b[39m()\n",
      "File \u001b[0;32m~/anaconda3/envs/A/lib/python3.12/site-packages/torch/nn/modules/transformer.py:517\u001b[0m, in \u001b[0;36mTransformerEncoder.forward\u001b[0;34m(self, src, mask, src_key_padding_mask, is_causal)\u001b[0m\n\u001b[1;32m    514\u001b[0m is_causal \u001b[38;5;241m=\u001b[39m _detect_is_causal_mask(mask, is_causal, seq_len)\n\u001b[1;32m    516\u001b[0m \u001b[38;5;28;01mfor\u001b[39;00m mod \u001b[38;5;129;01min\u001b[39;00m \u001b[38;5;28mself\u001b[39m\u001b[38;5;241m.\u001b[39mlayers:\n\u001b[0;32m--> 517\u001b[0m     output \u001b[38;5;241m=\u001b[39m mod(\n\u001b[1;32m    518\u001b[0m         output,\n\u001b[1;32m    519\u001b[0m         src_mask\u001b[38;5;241m=\u001b[39mmask,\n\u001b[1;32m    520\u001b[0m         is_causal\u001b[38;5;241m=\u001b[39mis_causal,\n\u001b[1;32m    521\u001b[0m         src_key_padding_mask\u001b[38;5;241m=\u001b[39msrc_key_padding_mask_for_layers,\n\u001b[1;32m    522\u001b[0m     )\n\u001b[1;32m    524\u001b[0m \u001b[38;5;28;01mif\u001b[39;00m convert_to_nested:\n\u001b[1;32m    525\u001b[0m     output \u001b[38;5;241m=\u001b[39m output\u001b[38;5;241m.\u001b[39mto_padded_tensor(\u001b[38;5;241m0.0\u001b[39m, src\u001b[38;5;241m.\u001b[39msize())\n",
      "File \u001b[0;32m~/anaconda3/envs/A/lib/python3.12/site-packages/torch/nn/modules/module.py:1739\u001b[0m, in \u001b[0;36mModule._wrapped_call_impl\u001b[0;34m(self, *args, **kwargs)\u001b[0m\n\u001b[1;32m   1737\u001b[0m     \u001b[38;5;28;01mreturn\u001b[39;00m \u001b[38;5;28mself\u001b[39m\u001b[38;5;241m.\u001b[39m_compiled_call_impl(\u001b[38;5;241m*\u001b[39margs, \u001b[38;5;241m*\u001b[39m\u001b[38;5;241m*\u001b[39mkwargs)  \u001b[38;5;66;03m# type: ignore[misc]\u001b[39;00m\n\u001b[1;32m   1738\u001b[0m \u001b[38;5;28;01melse\u001b[39;00m:\n\u001b[0;32m-> 1739\u001b[0m     \u001b[38;5;28;01mreturn\u001b[39;00m \u001b[38;5;28mself\u001b[39m\u001b[38;5;241m.\u001b[39m_call_impl(\u001b[38;5;241m*\u001b[39margs, \u001b[38;5;241m*\u001b[39m\u001b[38;5;241m*\u001b[39mkwargs)\n",
      "File \u001b[0;32m~/anaconda3/envs/A/lib/python3.12/site-packages/torch/nn/modules/module.py:1750\u001b[0m, in \u001b[0;36mModule._call_impl\u001b[0;34m(self, *args, **kwargs)\u001b[0m\n\u001b[1;32m   1745\u001b[0m \u001b[38;5;66;03m# If we don't have any hooks, we want to skip the rest of the logic in\u001b[39;00m\n\u001b[1;32m   1746\u001b[0m \u001b[38;5;66;03m# this function, and just call forward.\u001b[39;00m\n\u001b[1;32m   1747\u001b[0m \u001b[38;5;28;01mif\u001b[39;00m \u001b[38;5;129;01mnot\u001b[39;00m (\u001b[38;5;28mself\u001b[39m\u001b[38;5;241m.\u001b[39m_backward_hooks \u001b[38;5;129;01mor\u001b[39;00m \u001b[38;5;28mself\u001b[39m\u001b[38;5;241m.\u001b[39m_backward_pre_hooks \u001b[38;5;129;01mor\u001b[39;00m \u001b[38;5;28mself\u001b[39m\u001b[38;5;241m.\u001b[39m_forward_hooks \u001b[38;5;129;01mor\u001b[39;00m \u001b[38;5;28mself\u001b[39m\u001b[38;5;241m.\u001b[39m_forward_pre_hooks\n\u001b[1;32m   1748\u001b[0m         \u001b[38;5;129;01mor\u001b[39;00m _global_backward_pre_hooks \u001b[38;5;129;01mor\u001b[39;00m _global_backward_hooks\n\u001b[1;32m   1749\u001b[0m         \u001b[38;5;129;01mor\u001b[39;00m _global_forward_hooks \u001b[38;5;129;01mor\u001b[39;00m _global_forward_pre_hooks):\n\u001b[0;32m-> 1750\u001b[0m     \u001b[38;5;28;01mreturn\u001b[39;00m forward_call(\u001b[38;5;241m*\u001b[39margs, \u001b[38;5;241m*\u001b[39m\u001b[38;5;241m*\u001b[39mkwargs)\n\u001b[1;32m   1752\u001b[0m result \u001b[38;5;241m=\u001b[39m \u001b[38;5;28;01mNone\u001b[39;00m\n\u001b[1;32m   1753\u001b[0m called_always_called_hooks \u001b[38;5;241m=\u001b[39m \u001b[38;5;28mset\u001b[39m()\n",
      "File \u001b[0;32m~/anaconda3/envs/A/lib/python3.12/site-packages/torch/nn/modules/transformer.py:920\u001b[0m, in \u001b[0;36mTransformerEncoderLayer.forward\u001b[0;34m(self, src, src_mask, src_key_padding_mask, is_causal)\u001b[0m\n\u001b[1;32m    916\u001b[0m     x \u001b[38;5;241m=\u001b[39m x \u001b[38;5;241m+\u001b[39m \u001b[38;5;28mself\u001b[39m\u001b[38;5;241m.\u001b[39m_ff_block(\u001b[38;5;28mself\u001b[39m\u001b[38;5;241m.\u001b[39mnorm2(x))\n\u001b[1;32m    917\u001b[0m \u001b[38;5;28;01melse\u001b[39;00m:\n\u001b[1;32m    918\u001b[0m     x \u001b[38;5;241m=\u001b[39m \u001b[38;5;28mself\u001b[39m\u001b[38;5;241m.\u001b[39mnorm1(\n\u001b[1;32m    919\u001b[0m         x\n\u001b[0;32m--> 920\u001b[0m         \u001b[38;5;241m+\u001b[39m \u001b[38;5;28mself\u001b[39m\u001b[38;5;241m.\u001b[39m_sa_block(x, src_mask, src_key_padding_mask, is_causal\u001b[38;5;241m=\u001b[39mis_causal)\n\u001b[1;32m    921\u001b[0m     )\n\u001b[1;32m    922\u001b[0m     x \u001b[38;5;241m=\u001b[39m \u001b[38;5;28mself\u001b[39m\u001b[38;5;241m.\u001b[39mnorm2(x \u001b[38;5;241m+\u001b[39m \u001b[38;5;28mself\u001b[39m\u001b[38;5;241m.\u001b[39m_ff_block(x))\n\u001b[1;32m    924\u001b[0m \u001b[38;5;28;01mreturn\u001b[39;00m x\n",
      "File \u001b[0;32m~/anaconda3/envs/A/lib/python3.12/site-packages/torch/nn/modules/transformer.py:934\u001b[0m, in \u001b[0;36mTransformerEncoderLayer._sa_block\u001b[0;34m(self, x, attn_mask, key_padding_mask, is_causal)\u001b[0m\n\u001b[1;32m    927\u001b[0m \u001b[38;5;28;01mdef\u001b[39;00m \u001b[38;5;21m_sa_block\u001b[39m(\n\u001b[1;32m    928\u001b[0m     \u001b[38;5;28mself\u001b[39m,\n\u001b[1;32m    929\u001b[0m     x: Tensor,\n\u001b[0;32m   (...)\u001b[0m\n\u001b[1;32m    932\u001b[0m     is_causal: \u001b[38;5;28mbool\u001b[39m \u001b[38;5;241m=\u001b[39m \u001b[38;5;28;01mFalse\u001b[39;00m,\n\u001b[1;32m    933\u001b[0m ) \u001b[38;5;241m-\u001b[39m\u001b[38;5;241m>\u001b[39m Tensor:\n\u001b[0;32m--> 934\u001b[0m     x \u001b[38;5;241m=\u001b[39m \u001b[38;5;28mself\u001b[39m\u001b[38;5;241m.\u001b[39mself_attn(\n\u001b[1;32m    935\u001b[0m         x,\n\u001b[1;32m    936\u001b[0m         x,\n\u001b[1;32m    937\u001b[0m         x,\n\u001b[1;32m    938\u001b[0m         attn_mask\u001b[38;5;241m=\u001b[39mattn_mask,\n\u001b[1;32m    939\u001b[0m         key_padding_mask\u001b[38;5;241m=\u001b[39mkey_padding_mask,\n\u001b[1;32m    940\u001b[0m         need_weights\u001b[38;5;241m=\u001b[39m\u001b[38;5;28;01mFalse\u001b[39;00m,\n\u001b[1;32m    941\u001b[0m         is_causal\u001b[38;5;241m=\u001b[39mis_causal,\n\u001b[1;32m    942\u001b[0m     )[\u001b[38;5;241m0\u001b[39m]\n\u001b[1;32m    943\u001b[0m     \u001b[38;5;28;01mreturn\u001b[39;00m \u001b[38;5;28mself\u001b[39m\u001b[38;5;241m.\u001b[39mdropout1(x)\n",
      "File \u001b[0;32m~/anaconda3/envs/A/lib/python3.12/site-packages/torch/nn/modules/module.py:1739\u001b[0m, in \u001b[0;36mModule._wrapped_call_impl\u001b[0;34m(self, *args, **kwargs)\u001b[0m\n\u001b[1;32m   1737\u001b[0m     \u001b[38;5;28;01mreturn\u001b[39;00m \u001b[38;5;28mself\u001b[39m\u001b[38;5;241m.\u001b[39m_compiled_call_impl(\u001b[38;5;241m*\u001b[39margs, \u001b[38;5;241m*\u001b[39m\u001b[38;5;241m*\u001b[39mkwargs)  \u001b[38;5;66;03m# type: ignore[misc]\u001b[39;00m\n\u001b[1;32m   1738\u001b[0m \u001b[38;5;28;01melse\u001b[39;00m:\n\u001b[0;32m-> 1739\u001b[0m     \u001b[38;5;28;01mreturn\u001b[39;00m \u001b[38;5;28mself\u001b[39m\u001b[38;5;241m.\u001b[39m_call_impl(\u001b[38;5;241m*\u001b[39margs, \u001b[38;5;241m*\u001b[39m\u001b[38;5;241m*\u001b[39mkwargs)\n",
      "File \u001b[0;32m~/anaconda3/envs/A/lib/python3.12/site-packages/torch/nn/modules/module.py:1750\u001b[0m, in \u001b[0;36mModule._call_impl\u001b[0;34m(self, *args, **kwargs)\u001b[0m\n\u001b[1;32m   1745\u001b[0m \u001b[38;5;66;03m# If we don't have any hooks, we want to skip the rest of the logic in\u001b[39;00m\n\u001b[1;32m   1746\u001b[0m \u001b[38;5;66;03m# this function, and just call forward.\u001b[39;00m\n\u001b[1;32m   1747\u001b[0m \u001b[38;5;28;01mif\u001b[39;00m \u001b[38;5;129;01mnot\u001b[39;00m (\u001b[38;5;28mself\u001b[39m\u001b[38;5;241m.\u001b[39m_backward_hooks \u001b[38;5;129;01mor\u001b[39;00m \u001b[38;5;28mself\u001b[39m\u001b[38;5;241m.\u001b[39m_backward_pre_hooks \u001b[38;5;129;01mor\u001b[39;00m \u001b[38;5;28mself\u001b[39m\u001b[38;5;241m.\u001b[39m_forward_hooks \u001b[38;5;129;01mor\u001b[39;00m \u001b[38;5;28mself\u001b[39m\u001b[38;5;241m.\u001b[39m_forward_pre_hooks\n\u001b[1;32m   1748\u001b[0m         \u001b[38;5;129;01mor\u001b[39;00m _global_backward_pre_hooks \u001b[38;5;129;01mor\u001b[39;00m _global_backward_hooks\n\u001b[1;32m   1749\u001b[0m         \u001b[38;5;129;01mor\u001b[39;00m _global_forward_hooks \u001b[38;5;129;01mor\u001b[39;00m _global_forward_pre_hooks):\n\u001b[0;32m-> 1750\u001b[0m     \u001b[38;5;28;01mreturn\u001b[39;00m forward_call(\u001b[38;5;241m*\u001b[39margs, \u001b[38;5;241m*\u001b[39m\u001b[38;5;241m*\u001b[39mkwargs)\n\u001b[1;32m   1752\u001b[0m result \u001b[38;5;241m=\u001b[39m \u001b[38;5;28;01mNone\u001b[39;00m\n\u001b[1;32m   1753\u001b[0m called_always_called_hooks \u001b[38;5;241m=\u001b[39m \u001b[38;5;28mset\u001b[39m()\n",
      "File \u001b[0;32m~/anaconda3/envs/A/lib/python3.12/site-packages/torch/nn/modules/activation.py:1373\u001b[0m, in \u001b[0;36mMultiheadAttention.forward\u001b[0;34m(self, query, key, value, key_padding_mask, need_weights, attn_mask, average_attn_weights, is_causal)\u001b[0m\n\u001b[1;32m   1347\u001b[0m     attn_output, attn_output_weights \u001b[38;5;241m=\u001b[39m F\u001b[38;5;241m.\u001b[39mmulti_head_attention_forward(\n\u001b[1;32m   1348\u001b[0m         query,\n\u001b[1;32m   1349\u001b[0m         key,\n\u001b[0;32m   (...)\u001b[0m\n\u001b[1;32m   1370\u001b[0m         is_causal\u001b[38;5;241m=\u001b[39mis_causal,\n\u001b[1;32m   1371\u001b[0m     )\n\u001b[1;32m   1372\u001b[0m \u001b[38;5;28;01melse\u001b[39;00m:\n\u001b[0;32m-> 1373\u001b[0m     attn_output, attn_output_weights \u001b[38;5;241m=\u001b[39m F\u001b[38;5;241m.\u001b[39mmulti_head_attention_forward(\n\u001b[1;32m   1374\u001b[0m         query,\n\u001b[1;32m   1375\u001b[0m         key,\n\u001b[1;32m   1376\u001b[0m         value,\n\u001b[1;32m   1377\u001b[0m         \u001b[38;5;28mself\u001b[39m\u001b[38;5;241m.\u001b[39membed_dim,\n\u001b[1;32m   1378\u001b[0m         \u001b[38;5;28mself\u001b[39m\u001b[38;5;241m.\u001b[39mnum_heads,\n\u001b[1;32m   1379\u001b[0m         \u001b[38;5;28mself\u001b[39m\u001b[38;5;241m.\u001b[39min_proj_weight,\n\u001b[1;32m   1380\u001b[0m         \u001b[38;5;28mself\u001b[39m\u001b[38;5;241m.\u001b[39min_proj_bias,\n\u001b[1;32m   1381\u001b[0m         \u001b[38;5;28mself\u001b[39m\u001b[38;5;241m.\u001b[39mbias_k,\n\u001b[1;32m   1382\u001b[0m         \u001b[38;5;28mself\u001b[39m\u001b[38;5;241m.\u001b[39mbias_v,\n\u001b[1;32m   1383\u001b[0m         \u001b[38;5;28mself\u001b[39m\u001b[38;5;241m.\u001b[39madd_zero_attn,\n\u001b[1;32m   1384\u001b[0m         \u001b[38;5;28mself\u001b[39m\u001b[38;5;241m.\u001b[39mdropout,\n\u001b[1;32m   1385\u001b[0m         \u001b[38;5;28mself\u001b[39m\u001b[38;5;241m.\u001b[39mout_proj\u001b[38;5;241m.\u001b[39mweight,\n\u001b[1;32m   1386\u001b[0m         \u001b[38;5;28mself\u001b[39m\u001b[38;5;241m.\u001b[39mout_proj\u001b[38;5;241m.\u001b[39mbias,\n\u001b[1;32m   1387\u001b[0m         training\u001b[38;5;241m=\u001b[39m\u001b[38;5;28mself\u001b[39m\u001b[38;5;241m.\u001b[39mtraining,\n\u001b[1;32m   1388\u001b[0m         key_padding_mask\u001b[38;5;241m=\u001b[39mkey_padding_mask,\n\u001b[1;32m   1389\u001b[0m         need_weights\u001b[38;5;241m=\u001b[39mneed_weights,\n\u001b[1;32m   1390\u001b[0m         attn_mask\u001b[38;5;241m=\u001b[39mattn_mask,\n\u001b[1;32m   1391\u001b[0m         average_attn_weights\u001b[38;5;241m=\u001b[39maverage_attn_weights,\n\u001b[1;32m   1392\u001b[0m         is_causal\u001b[38;5;241m=\u001b[39mis_causal,\n\u001b[1;32m   1393\u001b[0m     )\n\u001b[1;32m   1394\u001b[0m \u001b[38;5;28;01mif\u001b[39;00m \u001b[38;5;28mself\u001b[39m\u001b[38;5;241m.\u001b[39mbatch_first \u001b[38;5;129;01mand\u001b[39;00m is_batched:\n\u001b[1;32m   1395\u001b[0m     \u001b[38;5;28;01mreturn\u001b[39;00m attn_output\u001b[38;5;241m.\u001b[39mtranspose(\u001b[38;5;241m1\u001b[39m, \u001b[38;5;241m0\u001b[39m), attn_output_weights\n",
      "File \u001b[0;32m~/anaconda3/envs/A/lib/python3.12/site-packages/torch/nn/functional.py:6230\u001b[0m, in \u001b[0;36mmulti_head_attention_forward\u001b[0;34m(query, key, value, embed_dim_to_check, num_heads, in_proj_weight, in_proj_bias, bias_k, bias_v, add_zero_attn, dropout_p, out_proj_weight, out_proj_bias, training, key_padding_mask, need_weights, attn_mask, use_separate_proj_weight, q_proj_weight, k_proj_weight, v_proj_weight, static_k, static_v, average_attn_weights, is_causal)\u001b[0m\n\u001b[1;32m   6226\u001b[0m \u001b[38;5;28;01mif\u001b[39;00m \u001b[38;5;129;01mnot\u001b[39;00m use_separate_proj_weight:\n\u001b[1;32m   6227\u001b[0m     \u001b[38;5;28;01massert\u001b[39;00m (\n\u001b[1;32m   6228\u001b[0m         in_proj_weight \u001b[38;5;129;01mis\u001b[39;00m \u001b[38;5;129;01mnot\u001b[39;00m \u001b[38;5;28;01mNone\u001b[39;00m\n\u001b[1;32m   6229\u001b[0m     ), \u001b[38;5;124m\"\u001b[39m\u001b[38;5;124muse_separate_proj_weight is False but in_proj_weight is None\u001b[39m\u001b[38;5;124m\"\u001b[39m\n\u001b[0;32m-> 6230\u001b[0m     q, k, v \u001b[38;5;241m=\u001b[39m _in_projection_packed(query, key, value, in_proj_weight, in_proj_bias)\n\u001b[1;32m   6231\u001b[0m \u001b[38;5;28;01melse\u001b[39;00m:\n\u001b[1;32m   6232\u001b[0m     \u001b[38;5;28;01massert\u001b[39;00m (\n\u001b[1;32m   6233\u001b[0m         q_proj_weight \u001b[38;5;129;01mis\u001b[39;00m \u001b[38;5;129;01mnot\u001b[39;00m \u001b[38;5;28;01mNone\u001b[39;00m\n\u001b[1;32m   6234\u001b[0m     ), \u001b[38;5;124m\"\u001b[39m\u001b[38;5;124muse_separate_proj_weight is True but q_proj_weight is None\u001b[39m\u001b[38;5;124m\"\u001b[39m\n",
      "File \u001b[0;32m~/anaconda3/envs/A/lib/python3.12/site-packages/torch/nn/functional.py:5621\u001b[0m, in \u001b[0;36m_in_projection_packed\u001b[0;34m(q, k, v, w, b)\u001b[0m\n\u001b[1;32m   5614\u001b[0m     proj \u001b[38;5;241m=\u001b[39m linear(q, w, b)\n\u001b[1;32m   5615\u001b[0m     \u001b[38;5;66;03m# reshape to 3, E and not E, 3 is deliberate for better memory coalescing and keeping same order as chunk()\u001b[39;00m\n\u001b[1;32m   5616\u001b[0m     proj \u001b[38;5;241m=\u001b[39m (\n\u001b[1;32m   5617\u001b[0m         proj\u001b[38;5;241m.\u001b[39munflatten(\u001b[38;5;241m-\u001b[39m\u001b[38;5;241m1\u001b[39m, (\u001b[38;5;241m3\u001b[39m, E))\n\u001b[1;32m   5618\u001b[0m         \u001b[38;5;241m.\u001b[39munsqueeze(\u001b[38;5;241m0\u001b[39m)\n\u001b[1;32m   5619\u001b[0m         \u001b[38;5;241m.\u001b[39mtranspose(\u001b[38;5;241m0\u001b[39m, \u001b[38;5;241m-\u001b[39m\u001b[38;5;241m2\u001b[39m)\n\u001b[1;32m   5620\u001b[0m         \u001b[38;5;241m.\u001b[39msqueeze(\u001b[38;5;241m-\u001b[39m\u001b[38;5;241m2\u001b[39m)\n\u001b[0;32m-> 5621\u001b[0m         \u001b[38;5;241m.\u001b[39mcontiguous()\n\u001b[1;32m   5622\u001b[0m     )\n\u001b[1;32m   5623\u001b[0m     \u001b[38;5;28;01mreturn\u001b[39;00m proj[\u001b[38;5;241m0\u001b[39m], proj[\u001b[38;5;241m1\u001b[39m], proj[\u001b[38;5;241m2\u001b[39m]\n\u001b[1;32m   5624\u001b[0m \u001b[38;5;28;01melse\u001b[39;00m:\n\u001b[1;32m   5625\u001b[0m     \u001b[38;5;66;03m# encoder-decoder attention\u001b[39;00m\n",
      "\u001b[0;31mKeyboardInterrupt\u001b[0m: "
     ]
    }
   ],
   "source": [
    "num_epochs = 30\n",
    "\n",
    "best_model_state, train_losses, val_losses = train_model(model, train_loader, val_loader, criterion, optimizer, num_epochs=num_epochs, patience=100)\n",
    "os.makedirs(\"./checkpoints/transformer\", exist_ok=True)\n",
    "torch.save(best_model_state, f\"./checkpoints/transformer/transformer_{bands}_{patch_size}_{num_epochs}.pth\")\n",
    "\n",
    "model.load_state_dict(best_model_state)\n",
    "\n",
    "print(\"\\ntrain data\")\n",
    "evaluate_model_with_cm(model, train_loader, num_classes=6)\n",
    "print(\"\\nvalidation data\")\n",
    "evaluate_model_with_cm(model, val_loader, num_classes=6)"
   ]
  },
  {
   "cell_type": "markdown",
   "metadata": {},
   "source": [
    "(Token_length, embedding) = (12, 4×81)"
   ]
  },
  {
   "cell_type": "code",
   "execution_count": 57,
   "metadata": {},
   "outputs": [],
   "source": [
    "import torch\n",
    "import torch.nn as nn\n",
    "\n",
    "class TransformerModel(nn.Module):\n",
    "    def __init__(self, patch_size=9, num_bands=4, temp=12, num_classes=6, \n",
    "                 d_model=64, nhead=4, num_layers=4, dim_feedforward=128, dropout=0.1):\n",
    "        super().__init__()\n",
    "        self.patch_size = patch_size\n",
    "        self.num_bands = num_bands\n",
    "        self.temp = temp\n",
    "        self.num_tokens = temp  # 12개 (시계열 단위)\n",
    "        self.d_model = d_model  \n",
    "\n",
    "        # ** 입력 차원 변환 (4×9×9 → d_model) **\n",
    "        self.input_projection = nn.Linear(num_bands * patch_size * patch_size, d_model)\n",
    "\n",
    "        # Positional Encoding\n",
    "        self.pos_embedding = nn.Parameter(torch.randn(1, self.num_tokens, d_model))\n",
    "\n",
    "        # ** Layer Normalization 추가 **\n",
    "        self.norm1 = nn.LayerNorm(d_model)  \n",
    "\n",
    "        # Transformer Encoder\n",
    "        encoder_layer = nn.TransformerEncoderLayer(\n",
    "            d_model=d_model, \n",
    "            nhead=nhead,  \n",
    "            dim_feedforward=dim_feedforward,  \n",
    "            dropout=dropout,\n",
    "            batch_first=True\n",
    "        )\n",
    "        self.transformer = nn.TransformerEncoder(encoder_layer, num_layers=num_layers)\n",
    "\n",
    "        # Classification Head (Dropout 추가)\n",
    "        self.fc = nn.Sequential(\n",
    "            nn.Linear(self.num_tokens * d_model, 128),  # 192 → 128\n",
    "            nn.ReLU(),\n",
    "            nn.Dropout(0.3),\n",
    "            nn.Linear(128, 64),  # 96 → 64\n",
    "            nn.ReLU(),\n",
    "            nn.Dropout(0.3),\n",
    "            nn.Linear(64, num_classes)\n",
    "        )\n",
    "\n",
    "        # ** Layer Normalization 추가 **\n",
    "        self.norm2 = nn.LayerNorm(num_classes)  \n",
    "\n",
    "        # ** 가중치 초기화 **\n",
    "        self.apply(self._init_weights)  \n",
    "\n",
    "    def forward(self, x):\n",
    "        batch_size = x.shape[0]\n",
    "\n",
    "        # (batch, 4, 12, 9, 9) → (batch, 12, 4×9×9)\n",
    "        x = x.permute(0, 2, 1, 3, 4).reshape(batch_size, self.num_tokens, -1)\n",
    "\n",
    "        # 입력 차원 변환 (4×9×9 → d_model)\n",
    "        x = self.input_projection(x)\n",
    "\n",
    "        # Add Positional Encoding\n",
    "        x = x + self.pos_embedding  \n",
    "\n",
    "        # Transformer Encoder\n",
    "        x = self.norm1(x)  \n",
    "        x = self.transformer(x)  \n",
    "\n",
    "        # Flatten & Classification\n",
    "        x = x.flatten(1)  \n",
    "        x = self.fc(x)\n",
    "\n",
    "        # 출력 정규화\n",
    "        x = self.norm2(x)  \n",
    "\n",
    "        return x\n",
    "\n",
    "    def _init_weights(self, module):\n",
    "        if isinstance(module, nn.Linear):\n",
    "            nn.init.xavier_uniform_(module.weight)  \n",
    "            if module.bias is not None:\n",
    "                nn.init.constant_(module.bias, 0)\n"
   ]
  },
  {
   "cell_type": "code",
   "execution_count": 58,
   "metadata": {},
   "outputs": [
    {
     "name": "stdout",
     "output_type": "stream",
     "text": [
      "Transformer 모델 파라미터 개수: 262674\n"
     ]
    }
   ],
   "source": [
    "model = TransformerModel(patch_size=9, num_classes=6).to(device)\n",
    "criterion = nn.CrossEntropyLoss()\n",
    "\n",
    "lr = 1e-4\n",
    "weight_decay = 1e-4  # 🔥 L2 Regularization 적용\n",
    "optimizer = optim.AdamW(model.parameters(), lr=lr, weight_decay=weight_decay)\n",
    "\n",
    "total_params = sum(p.numel() for p in model.parameters() if p.requires_grad)\n",
    "print(f\"Transformer 모델 파라미터 개수: {total_params}\")"
   ]
  },
  {
   "cell_type": "code",
   "execution_count": 59,
   "metadata": {},
   "outputs": [
    {
     "name": "stderr",
     "output_type": "stream",
     "text": [
      "Epoch 1/30 - Training: 100%|█████████████████████████████████████████████████| 3502/3502 [00:56<00:00, 61.77it/s]\n",
      "Epoch 1/30 - Validation: 100%|██████████████████████████████████████████████| 1207/1207 [00:09<00:00, 132.12it/s]\n"
     ]
    },
    {
     "name": "stdout",
     "output_type": "stream",
     "text": [
      "\n",
      "Epoch [1/30], Train Loss: 0.9862, Train Accuracy: 62.89%, Val Loss: 0.7232, Val Accuracy: 74.74%\n",
      "\n"
     ]
    },
    {
     "name": "stderr",
     "output_type": "stream",
     "text": [
      "Epoch 2/30 - Training: 100%|█████████████████████████████████████████████████| 3502/3502 [00:56<00:00, 62.04it/s]\n",
      "Epoch 2/30 - Validation: 100%|██████████████████████████████████████████████| 1207/1207 [00:09<00:00, 129.12it/s]\n"
     ]
    },
    {
     "name": "stdout",
     "output_type": "stream",
     "text": [
      "\n",
      "Epoch [2/30], Train Loss: 0.6695, Train Accuracy: 76.57%, Val Loss: 0.6369, Val Accuracy: 76.10%\n",
      "\n"
     ]
    },
    {
     "name": "stderr",
     "output_type": "stream",
     "text": [
      "Epoch 3/30 - Training: 100%|█████████████████████████████████████████████████| 3502/3502 [00:56<00:00, 62.30it/s]\n",
      "Epoch 3/30 - Validation: 100%|██████████████████████████████████████████████| 1207/1207 [00:09<00:00, 132.80it/s]\n"
     ]
    },
    {
     "name": "stdout",
     "output_type": "stream",
     "text": [
      "\n",
      "Epoch [3/30], Train Loss: 0.5728, Train Accuracy: 79.64%, Val Loss: 0.5606, Val Accuracy: 79.58%\n",
      "\n"
     ]
    },
    {
     "name": "stderr",
     "output_type": "stream",
     "text": [
      "Epoch 4/30 - Training: 100%|█████████████████████████████████████████████████| 3502/3502 [00:56<00:00, 62.48it/s]\n",
      "Epoch 4/30 - Validation: 100%|██████████████████████████████████████████████| 1207/1207 [00:09<00:00, 132.24it/s]\n"
     ]
    },
    {
     "name": "stdout",
     "output_type": "stream",
     "text": [
      "\n",
      "Epoch [4/30], Train Loss: 0.5179, Train Accuracy: 81.50%, Val Loss: 0.5346, Val Accuracy: 81.33%\n",
      "\n"
     ]
    },
    {
     "name": "stderr",
     "output_type": "stream",
     "text": [
      "Epoch 5/30 - Training: 100%|█████████████████████████████████████████████████| 3502/3502 [00:56<00:00, 62.51it/s]\n",
      "Epoch 5/30 - Validation: 100%|██████████████████████████████████████████████| 1207/1207 [00:09<00:00, 130.93it/s]\n"
     ]
    },
    {
     "name": "stdout",
     "output_type": "stream",
     "text": [
      "\n",
      "Epoch [5/30], Train Loss: 0.4792, Train Accuracy: 82.79%, Val Loss: 0.4954, Val Accuracy: 82.42%\n",
      "\n"
     ]
    },
    {
     "name": "stderr",
     "output_type": "stream",
     "text": [
      "Epoch 6/30 - Training: 100%|█████████████████████████████████████████████████| 3502/3502 [00:56<00:00, 62.35it/s]\n",
      "Epoch 6/30 - Validation: 100%|██████████████████████████████████████████████| 1207/1207 [00:09<00:00, 132.09it/s]\n"
     ]
    },
    {
     "name": "stdout",
     "output_type": "stream",
     "text": [
      "\n",
      "Epoch [6/30], Train Loss: 0.4463, Train Accuracy: 84.00%, Val Loss: 0.4877, Val Accuracy: 82.74%\n",
      "\n"
     ]
    },
    {
     "name": "stderr",
     "output_type": "stream",
     "text": [
      "Epoch 7/30 - Training: 100%|█████████████████████████████████████████████████| 3502/3502 [00:55<00:00, 62.63it/s]\n",
      "Epoch 7/30 - Validation: 100%|██████████████████████████████████████████████| 1207/1207 [00:09<00:00, 132.15it/s]\n"
     ]
    },
    {
     "name": "stdout",
     "output_type": "stream",
     "text": [
      "\n",
      "Epoch [7/30], Train Loss: 0.4245, Train Accuracy: 84.78%, Val Loss: 0.4449, Val Accuracy: 84.74%\n",
      "\n"
     ]
    },
    {
     "name": "stderr",
     "output_type": "stream",
     "text": [
      "Epoch 8/30 - Training: 100%|█████████████████████████████████████████████████| 3502/3502 [00:56<00:00, 62.16it/s]\n",
      "Epoch 8/30 - Validation: 100%|██████████████████████████████████████████████| 1207/1207 [00:09<00:00, 131.37it/s]\n"
     ]
    },
    {
     "name": "stdout",
     "output_type": "stream",
     "text": [
      "\n",
      "Epoch [8/30], Train Loss: 0.4024, Train Accuracy: 85.53%, Val Loss: 0.4601, Val Accuracy: 83.86%\n",
      "\n"
     ]
    },
    {
     "name": "stderr",
     "output_type": "stream",
     "text": [
      "Epoch 9/30 - Training: 100%|█████████████████████████████████████████████████| 3502/3502 [00:56<00:00, 62.10it/s]\n",
      "Epoch 9/30 - Validation: 100%|██████████████████████████████████████████████| 1207/1207 [00:09<00:00, 133.62it/s]\n"
     ]
    },
    {
     "name": "stdout",
     "output_type": "stream",
     "text": [
      "\n",
      "Epoch [9/30], Train Loss: 0.3878, Train Accuracy: 86.12%, Val Loss: 0.4287, Val Accuracy: 85.11%\n",
      "\n"
     ]
    },
    {
     "name": "stderr",
     "output_type": "stream",
     "text": [
      "Epoch 10/30 - Training: 100%|████████████████████████████████████████████████| 3502/3502 [00:56<00:00, 62.08it/s]\n",
      "Epoch 10/30 - Validation: 100%|█████████████████████████████████████████████| 1207/1207 [00:09<00:00, 129.46it/s]\n"
     ]
    },
    {
     "name": "stdout",
     "output_type": "stream",
     "text": [
      "\n",
      "Epoch [10/30], Train Loss: 0.3734, Train Accuracy: 86.65%, Val Loss: 0.4927, Val Accuracy: 82.84%\n",
      "\n"
     ]
    },
    {
     "name": "stderr",
     "output_type": "stream",
     "text": [
      "Epoch 11/30 - Training: 100%|████████████████████████████████████████████████| 3502/3502 [00:56<00:00, 61.94it/s]\n",
      "Epoch 11/30 - Validation: 100%|█████████████████████████████████████████████| 1207/1207 [00:09<00:00, 128.94it/s]\n"
     ]
    },
    {
     "name": "stdout",
     "output_type": "stream",
     "text": [
      "\n",
      "Epoch [11/30], Train Loss: 0.3593, Train Accuracy: 87.26%, Val Loss: 0.4271, Val Accuracy: 85.33%\n",
      "\n"
     ]
    },
    {
     "name": "stderr",
     "output_type": "stream",
     "text": [
      "Epoch 12/30 - Training: 100%|████████████████████████████████████████████████| 3502/3502 [00:56<00:00, 61.68it/s]\n",
      "Epoch 12/30 - Validation: 100%|█████████████████████████████████████████████| 1207/1207 [00:09<00:00, 132.27it/s]\n"
     ]
    },
    {
     "name": "stdout",
     "output_type": "stream",
     "text": [
      "\n",
      "Epoch [12/30], Train Loss: 0.3474, Train Accuracy: 87.68%, Val Loss: 0.4650, Val Accuracy: 84.14%\n",
      "\n"
     ]
    },
    {
     "name": "stderr",
     "output_type": "stream",
     "text": [
      "Epoch 13/30 - Training: 100%|████████████████████████████████████████████████| 3502/3502 [00:55<00:00, 62.75it/s]\n",
      "Epoch 13/30 - Validation: 100%|█████████████████████████████████████████████| 1207/1207 [00:09<00:00, 133.23it/s]\n"
     ]
    },
    {
     "name": "stdout",
     "output_type": "stream",
     "text": [
      "\n",
      "Epoch [13/30], Train Loss: 0.3376, Train Accuracy: 88.02%, Val Loss: 0.4148, Val Accuracy: 86.08%\n",
      "\n"
     ]
    },
    {
     "name": "stderr",
     "output_type": "stream",
     "text": [
      "Epoch 14/30 - Training: 100%|████████████████████████████████████████████████| 3502/3502 [00:55<00:00, 62.72it/s]\n",
      "Epoch 14/30 - Validation: 100%|█████████████████████████████████████████████| 1207/1207 [00:09<00:00, 125.22it/s]\n"
     ]
    },
    {
     "name": "stdout",
     "output_type": "stream",
     "text": [
      "\n",
      "Epoch [14/30], Train Loss: 0.3288, Train Accuracy: 88.30%, Val Loss: 0.4180, Val Accuracy: 85.89%\n",
      "\n"
     ]
    },
    {
     "name": "stderr",
     "output_type": "stream",
     "text": [
      "Epoch 15/30 - Training: 100%|████████████████████████████████████████████████| 3502/3502 [00:57<00:00, 60.67it/s]\n",
      "Epoch 15/30 - Validation: 100%|█████████████████████████████████████████████| 1207/1207 [00:09<00:00, 130.08it/s]\n"
     ]
    },
    {
     "name": "stdout",
     "output_type": "stream",
     "text": [
      "\n",
      "Epoch [15/30], Train Loss: 0.3187, Train Accuracy: 88.68%, Val Loss: 0.3985, Val Accuracy: 86.51%\n",
      "\n"
     ]
    },
    {
     "name": "stderr",
     "output_type": "stream",
     "text": [
      "Epoch 16/30 - Training: 100%|████████████████████████████████████████████████| 3502/3502 [00:56<00:00, 62.01it/s]\n",
      "Epoch 16/30 - Validation: 100%|█████████████████████████████████████████████| 1207/1207 [00:09<00:00, 132.76it/s]\n"
     ]
    },
    {
     "name": "stdout",
     "output_type": "stream",
     "text": [
      "\n",
      "Epoch [16/30], Train Loss: 0.3107, Train Accuracy: 89.14%, Val Loss: 0.4305, Val Accuracy: 85.85%\n",
      "\n"
     ]
    },
    {
     "name": "stderr",
     "output_type": "stream",
     "text": [
      "Epoch 17/30 - Training: 100%|████████████████████████████████████████████████| 3502/3502 [00:57<00:00, 60.87it/s]\n",
      "Epoch 17/30 - Validation: 100%|█████████████████████████████████████████████| 1207/1207 [00:09<00:00, 129.93it/s]\n"
     ]
    },
    {
     "name": "stdout",
     "output_type": "stream",
     "text": [
      "\n",
      "Epoch [17/30], Train Loss: 0.3027, Train Accuracy: 89.46%, Val Loss: 0.4174, Val Accuracy: 86.21%\n",
      "\n"
     ]
    },
    {
     "name": "stderr",
     "output_type": "stream",
     "text": [
      "Epoch 18/30 - Training: 100%|████████████████████████████████████████████████| 3502/3502 [00:56<00:00, 61.94it/s]\n",
      "Epoch 18/30 - Validation: 100%|█████████████████████████████████████████████| 1207/1207 [00:09<00:00, 131.90it/s]\n"
     ]
    },
    {
     "name": "stdout",
     "output_type": "stream",
     "text": [
      "\n",
      "Epoch [18/30], Train Loss: 0.2966, Train Accuracy: 89.53%, Val Loss: 0.4140, Val Accuracy: 86.27%\n",
      "\n"
     ]
    },
    {
     "name": "stderr",
     "output_type": "stream",
     "text": [
      "Epoch 19/30 - Training: 100%|████████████████████████████████████████████████| 3502/3502 [00:56<00:00, 62.11it/s]\n",
      "Epoch 19/30 - Validation: 100%|█████████████████████████████████████████████| 1207/1207 [00:09<00:00, 131.94it/s]\n"
     ]
    },
    {
     "name": "stdout",
     "output_type": "stream",
     "text": [
      "\n",
      "Epoch [19/30], Train Loss: 0.2898, Train Accuracy: 89.84%, Val Loss: 0.4468, Val Accuracy: 85.10%\n",
      "\n"
     ]
    },
    {
     "name": "stderr",
     "output_type": "stream",
     "text": [
      "Epoch 20/30 - Training: 100%|████████████████████████████████████████████████| 3502/3502 [00:56<00:00, 61.97it/s]\n",
      "Epoch 20/30 - Validation: 100%|█████████████████████████████████████████████| 1207/1207 [00:09<00:00, 132.17it/s]\n"
     ]
    },
    {
     "name": "stdout",
     "output_type": "stream",
     "text": [
      "\n",
      "Epoch [20/30], Train Loss: 0.2845, Train Accuracy: 90.02%, Val Loss: 0.4367, Val Accuracy: 86.30%\n",
      "\n"
     ]
    },
    {
     "name": "stderr",
     "output_type": "stream",
     "text": [
      "Epoch 21/30 - Training: 100%|████████████████████████████████████████████████| 3502/3502 [00:56<00:00, 62.28it/s]\n",
      "Epoch 21/30 - Validation: 100%|█████████████████████████████████████████████| 1207/1207 [00:09<00:00, 131.42it/s]\n"
     ]
    },
    {
     "name": "stdout",
     "output_type": "stream",
     "text": [
      "\n",
      "Epoch [21/30], Train Loss: 0.2778, Train Accuracy: 90.32%, Val Loss: 0.4272, Val Accuracy: 86.26%\n",
      "\n"
     ]
    },
    {
     "name": "stderr",
     "output_type": "stream",
     "text": [
      "Epoch 22/30 - Training: 100%|████████████████████████████████████████████████| 3502/3502 [00:56<00:00, 62.06it/s]\n",
      "Epoch 22/30 - Validation: 100%|█████████████████████████████████████████████| 1207/1207 [00:09<00:00, 132.14it/s]\n"
     ]
    },
    {
     "name": "stdout",
     "output_type": "stream",
     "text": [
      "\n",
      "Epoch [22/30], Train Loss: 0.2753, Train Accuracy: 90.36%, Val Loss: 0.4817, Val Accuracy: 84.48%\n",
      "\n"
     ]
    },
    {
     "name": "stderr",
     "output_type": "stream",
     "text": [
      "Epoch 23/30 - Training: 100%|████████████████████████████████████████████████| 3502/3502 [00:55<00:00, 62.59it/s]\n",
      "Epoch 23/30 - Validation: 100%|█████████████████████████████████████████████| 1207/1207 [00:08<00:00, 134.71it/s]\n"
     ]
    },
    {
     "name": "stdout",
     "output_type": "stream",
     "text": [
      "\n",
      "Epoch [23/30], Train Loss: 0.2709, Train Accuracy: 90.50%, Val Loss: 0.4468, Val Accuracy: 85.08%\n",
      "\n"
     ]
    },
    {
     "name": "stderr",
     "output_type": "stream",
     "text": [
      "Epoch 24/30 - Training: 100%|████████████████████████████████████████████████| 3502/3502 [00:55<00:00, 62.98it/s]\n",
      "Epoch 24/30 - Validation: 100%|█████████████████████████████████████████████| 1207/1207 [00:08<00:00, 134.50it/s]\n"
     ]
    },
    {
     "name": "stdout",
     "output_type": "stream",
     "text": [
      "\n",
      "Epoch [24/30], Train Loss: 0.2658, Train Accuracy: 90.71%, Val Loss: 0.4594, Val Accuracy: 85.24%\n",
      "\n"
     ]
    },
    {
     "name": "stderr",
     "output_type": "stream",
     "text": [
      "Epoch 25/30 - Training: 100%|████████████████████████████████████████████████| 3502/3502 [00:57<00:00, 60.65it/s]\n",
      "Epoch 25/30 - Validation: 100%|█████████████████████████████████████████████| 1207/1207 [00:09<00:00, 128.03it/s]\n"
     ]
    },
    {
     "name": "stdout",
     "output_type": "stream",
     "text": [
      "\n",
      "Epoch [25/30], Train Loss: 0.2580, Train Accuracy: 91.04%, Val Loss: 0.4248, Val Accuracy: 86.14%\n",
      "\n"
     ]
    },
    {
     "name": "stderr",
     "output_type": "stream",
     "text": [
      "Epoch 26/30 - Training: 100%|████████████████████████████████████████████████| 3502/3502 [00:56<00:00, 62.10it/s]\n",
      "Epoch 26/30 - Validation: 100%|█████████████████████████████████████████████| 1207/1207 [00:09<00:00, 128.60it/s]\n"
     ]
    },
    {
     "name": "stdout",
     "output_type": "stream",
     "text": [
      "\n",
      "Epoch [26/30], Train Loss: 0.2554, Train Accuracy: 91.09%, Val Loss: 0.4225, Val Accuracy: 86.86%\n",
      "\n"
     ]
    },
    {
     "name": "stderr",
     "output_type": "stream",
     "text": [
      "Epoch 27/30 - Training: 100%|████████████████████████████████████████████████| 3502/3502 [00:57<00:00, 60.99it/s]\n",
      "Epoch 27/30 - Validation: 100%|█████████████████████████████████████████████| 1207/1207 [00:09<00:00, 125.31it/s]\n"
     ]
    },
    {
     "name": "stdout",
     "output_type": "stream",
     "text": [
      "\n",
      "Epoch [27/30], Train Loss: 0.2511, Train Accuracy: 91.30%, Val Loss: 0.4513, Val Accuracy: 85.84%\n",
      "\n"
     ]
    },
    {
     "name": "stderr",
     "output_type": "stream",
     "text": [
      "Epoch 28/30 - Training: 100%|████████████████████████████████████████████████| 3502/3502 [00:58<00:00, 60.22it/s]\n",
      "Epoch 28/30 - Validation: 100%|█████████████████████████████████████████████| 1207/1207 [00:09<00:00, 128.88it/s]\n"
     ]
    },
    {
     "name": "stdout",
     "output_type": "stream",
     "text": [
      "\n",
      "Epoch [28/30], Train Loss: 0.2469, Train Accuracy: 91.36%, Val Loss: 0.4708, Val Accuracy: 85.06%\n",
      "\n"
     ]
    },
    {
     "name": "stderr",
     "output_type": "stream",
     "text": [
      "Epoch 29/30 - Training: 100%|████████████████████████████████████████████████| 3502/3502 [00:59<00:00, 58.90it/s]\n",
      "Epoch 29/30 - Validation: 100%|█████████████████████████████████████████████| 1207/1207 [00:09<00:00, 124.67it/s]\n"
     ]
    },
    {
     "name": "stdout",
     "output_type": "stream",
     "text": [
      "\n",
      "Epoch [29/30], Train Loss: 0.2433, Train Accuracy: 91.55%, Val Loss: 0.4475, Val Accuracy: 85.92%\n",
      "\n"
     ]
    },
    {
     "name": "stderr",
     "output_type": "stream",
     "text": [
      "Epoch 30/30 - Training: 100%|████████████████████████████████████████████████| 3502/3502 [00:58<00:00, 59.50it/s]\n",
      "Epoch 30/30 - Validation: 100%|█████████████████████████████████████████████| 1207/1207 [00:09<00:00, 130.90it/s]\n"
     ]
    },
    {
     "name": "stdout",
     "output_type": "stream",
     "text": [
      "\n",
      "Epoch [30/30], Train Loss: 0.2396, Train Accuracy: 91.68%, Val Loss: 0.4299, Val Accuracy: 86.25%\n",
      "\n",
      "\n",
      "train data\n"
     ]
    },
    {
     "name": "stderr",
     "output_type": "stream",
     "text": [
      "Evaluation Progress: 100%|██████████████████████████████████████████████████| 3502/3502 [00:27<00:00, 128.10it/s]\n"
     ]
    },
    {
     "data": {
      "image/png": "[encoded data removed]",
      "text/plain": [
       "<Figure size 1000x700 with 2 Axes>"
      ]
     },
     "metadata": {},
     "output_type": "display_data"
    },
    {
     "data": {
      "image/png": "[encoded data removed]",
      "text/plain": [
       "<Figure size 700x500 with 2 Axes>"
      ]
     },
     "metadata": {},
     "output_type": "display_data"
    },
    {
     "data": {
      "image/png": "[encoded data removed]",
      "text/plain": [
       "<Figure size 700x500 with 2 Axes>"
      ]
     },
     "metadata": {},
     "output_type": "display_data"
    },
    {
     "data": {
      "image/png": "[encoded data removed]",
      "text/plain": [
       "<Figure size 700x500 with 2 Axes>"
      ]
     },
     "metadata": {},
     "output_type": "display_data"
    },
    {
     "name": "stdout",
     "output_type": "stream",
     "text": [
      "\n",
      "validation data\n"
     ]
    },
    {
     "name": "stderr",
     "output_type": "stream",
     "text": [
      "Evaluation Progress: 100%|██████████████████████████████████████████████████| 1207/1207 [00:09<00:00, 127.31it/s]\n"
     ]
    },
    {
     "data": {
      "image/png": "[encoded data removed]",
      "text/plain": [
       "<Figure size 1000x700 with 2 Axes>"
      ]
     },
     "metadata": {},
     "output_type": "display_data"
    },
    {
     "data": {
      "image/png": "[encoded data removed]",
      "text/plain": [
       "<Figure size 700x500 with 2 Axes>"
      ]
     },
     "metadata": {},
     "output_type": "display_data"
    },
    {
     "data": {
      "image/png": "[encoded data removed]",
      "text/plain": [
       "<Figure size 700x500 with 2 Axes>"
      ]
     },
     "metadata": {},
     "output_type": "display_data"
    },
    {
     "data": {
      "image/png": "[encoded data removed]",
      "text/plain": [
       "<Figure size 700x500 with 2 Axes>"
      ]
     },
     "metadata": {},
     "output_type": "display_data"
    },
    {
     "data": {
      "text/html": [
       "<div>\n",
       "<style scoped>\n",
       "    .dataframe tbody tr th:only-of-type {\n",
       "        vertical-align: middle;\n",
       "    }\n",
       "\n",
       "    .dataframe tbody tr th {\n",
       "        vertical-align: top;\n",
       "    }\n",
       "\n",
       "    .dataframe thead th {\n",
       "        text-align: right;\n",
       "    }\n",
       "</style>\n",
       "<table border=\"1\" class=\"dataframe\">\n",
       "  <thead>\n",
       "    <tr style=\"text-align: right;\">\n",
       "      <th></th>\n",
       "      <th>precision</th>\n",
       "      <th>recall</th>\n",
       "      <th>f1-score</th>\n",
       "      <th>support</th>\n",
       "      <th>Category</th>\n",
       "    </tr>\n",
       "  </thead>\n",
       "  <tbody>\n",
       "    <tr>\n",
       "      <th>Non-Forest</th>\n",
       "      <td>0.976307</td>\n",
       "      <td>0.959261</td>\n",
       "      <td>0.967709</td>\n",
       "      <td>4983.000000</td>\n",
       "      <td>Overall</td>\n",
       "    </tr>\n",
       "    <tr>\n",
       "      <th>Pine</th>\n",
       "      <td>0.877555</td>\n",
       "      <td>0.750714</td>\n",
       "      <td>0.809194</td>\n",
       "      <td>5604.000000</td>\n",
       "      <td>Overall</td>\n",
       "    </tr>\n",
       "    <tr>\n",
       "      <th>Nut Pine</th>\n",
       "      <td>0.868905</td>\n",
       "      <td>0.923812</td>\n",
       "      <td>0.895518</td>\n",
       "      <td>6694.000000</td>\n",
       "      <td>Overall</td>\n",
       "    </tr>\n",
       "    <tr>\n",
       "      <th>Larch</th>\n",
       "      <td>0.942136</td>\n",
       "      <td>0.961337</td>\n",
       "      <td>0.951640</td>\n",
       "      <td>8587.000000</td>\n",
       "      <td>Overall</td>\n",
       "    </tr>\n",
       "    <tr>\n",
       "      <th>Mongolian Oak</th>\n",
       "      <td>0.782688</td>\n",
       "      <td>0.796060</td>\n",
       "      <td>0.789317</td>\n",
       "      <td>6497.000000</td>\n",
       "      <td>Overall</td>\n",
       "    </tr>\n",
       "    <tr>\n",
       "      <th>Oriental Oak</th>\n",
       "      <td>0.746932</td>\n",
       "      <td>0.769403</td>\n",
       "      <td>0.758001</td>\n",
       "      <td>6249.000000</td>\n",
       "      <td>Overall</td>\n",
       "    </tr>\n",
       "    <tr>\n",
       "      <th>accuracy</th>\n",
       "      <td>0.865127</td>\n",
       "      <td>0.865127</td>\n",
       "      <td>0.865127</td>\n",
       "      <td>0.865127</td>\n",
       "      <td>Overall</td>\n",
       "    </tr>\n",
       "    <tr>\n",
       "      <th>macro avg</th>\n",
       "      <td>0.865754</td>\n",
       "      <td>0.860098</td>\n",
       "      <td>0.861897</td>\n",
       "      <td>38614.000000</td>\n",
       "      <td>Overall</td>\n",
       "    </tr>\n",
       "    <tr>\n",
       "      <th>weighted avg</th>\n",
       "      <td>0.866060</td>\n",
       "      <td>0.865127</td>\n",
       "      <td>0.864663</td>\n",
       "      <td>38614.000000</td>\n",
       "      <td>Overall</td>\n",
       "    </tr>\n",
       "    <tr>\n",
       "      <th>Conifer</th>\n",
       "      <td>0.972525</td>\n",
       "      <td>0.960639</td>\n",
       "      <td>0.966546</td>\n",
       "      <td>20782.000000</td>\n",
       "      <td>Conifer vs Broadleaf</td>\n",
       "    </tr>\n",
       "    <tr>\n",
       "      <th>Broadleaf</th>\n",
       "      <td>0.937014</td>\n",
       "      <td>0.955706</td>\n",
       "      <td>0.946267</td>\n",
       "      <td>12733.000000</td>\n",
       "      <td>Conifer vs Broadleaf</td>\n",
       "    </tr>\n",
       "    <tr>\n",
       "      <th>accuracy</th>\n",
       "      <td>0.958765</td>\n",
       "      <td>0.958765</td>\n",
       "      <td>0.958765</td>\n",
       "      <td>0.958765</td>\n",
       "      <td>Conifer vs Broadleaf</td>\n",
       "    </tr>\n",
       "    <tr>\n",
       "      <th>macro avg</th>\n",
       "      <td>0.954770</td>\n",
       "      <td>0.958172</td>\n",
       "      <td>0.956407</td>\n",
       "      <td>33515.000000</td>\n",
       "      <td>Conifer vs Broadleaf</td>\n",
       "    </tr>\n",
       "    <tr>\n",
       "      <th>weighted avg</th>\n",
       "      <td>0.959034</td>\n",
       "      <td>0.958765</td>\n",
       "      <td>0.958842</td>\n",
       "      <td>33515.000000</td>\n",
       "      <td>Conifer vs Broadleaf</td>\n",
       "    </tr>\n",
       "    <tr>\n",
       "      <th>Pine</th>\n",
       "      <td>0.934059</td>\n",
       "      <td>0.839888</td>\n",
       "      <td>0.884474</td>\n",
       "      <td>5009.000000</td>\n",
       "      <td>Conifer</td>\n",
       "    </tr>\n",
       "    <tr>\n",
       "      <th>Nut Pine</th>\n",
       "      <td>0.897533</td>\n",
       "      <td>0.940962</td>\n",
       "      <td>0.918734</td>\n",
       "      <td>6572.000000</td>\n",
       "      <td>Conifer</td>\n",
       "    </tr>\n",
       "    <tr>\n",
       "      <th>Larch</th>\n",
       "      <td>0.963244</td>\n",
       "      <td>0.984731</td>\n",
       "      <td>0.973869</td>\n",
       "      <td>8383.000000</td>\n",
       "      <td>Conifer</td>\n",
       "    </tr>\n",
       "    <tr>\n",
       "      <th>accuracy</th>\n",
       "      <td>0.933981</td>\n",
       "      <td>0.933981</td>\n",
       "      <td>0.933981</td>\n",
       "      <td>0.933981</td>\n",
       "      <td>Conifer</td>\n",
       "    </tr>\n",
       "    <tr>\n",
       "      <th>macro avg</th>\n",
       "      <td>0.931612</td>\n",
       "      <td>0.921860</td>\n",
       "      <td>0.925692</td>\n",
       "      <td>19964.000000</td>\n",
       "      <td>Conifer</td>\n",
       "    </tr>\n",
       "    <tr>\n",
       "      <th>weighted avg</th>\n",
       "      <td>0.934290</td>\n",
       "      <td>0.933981</td>\n",
       "      <td>0.933290</td>\n",
       "      <td>19964.000000</td>\n",
       "      <td>Conifer</td>\n",
       "    </tr>\n",
       "    <tr>\n",
       "      <th>Mongolian Oak</th>\n",
       "      <td>0.823567</td>\n",
       "      <td>0.827123</td>\n",
       "      <td>0.825341</td>\n",
       "      <td>6253.000000</td>\n",
       "      <td>Broadleaf</td>\n",
       "    </tr>\n",
       "    <tr>\n",
       "      <th>Oriental Oak</th>\n",
       "      <td>0.816437</td>\n",
       "      <td>0.812711</td>\n",
       "      <td>0.814570</td>\n",
       "      <td>5916.000000</td>\n",
       "      <td>Broadleaf</td>\n",
       "    </tr>\n",
       "    <tr>\n",
       "      <th>accuracy</th>\n",
       "      <td>0.820117</td>\n",
       "      <td>0.820117</td>\n",
       "      <td>0.820117</td>\n",
       "      <td>0.820117</td>\n",
       "      <td>Broadleaf</td>\n",
       "    </tr>\n",
       "    <tr>\n",
       "      <th>macro avg</th>\n",
       "      <td>0.820002</td>\n",
       "      <td>0.819917</td>\n",
       "      <td>0.819956</td>\n",
       "      <td>12169.000000</td>\n",
       "      <td>Broadleaf</td>\n",
       "    </tr>\n",
       "    <tr>\n",
       "      <th>weighted avg</th>\n",
       "      <td>0.820101</td>\n",
       "      <td>0.820117</td>\n",
       "      <td>0.820105</td>\n",
       "      <td>12169.000000</td>\n",
       "      <td>Broadleaf</td>\n",
       "    </tr>\n",
       "  </tbody>\n",
       "</table>\n",
       "</div>"
      ],
      "text/plain": [
       "               precision    recall  f1-score       support  \\\n",
       "Non-Forest      0.976307  0.959261  0.967709   4983.000000   \n",
       "Pine            0.877555  0.750714  0.809194   5604.000000   \n",
       "Nut Pine        0.868905  0.923812  0.895518   6694.000000   \n",
       "Larch           0.942136  0.961337  0.951640   8587.000000   \n",
       "Mongolian Oak   0.782688  0.796060  0.789317   6497.000000   \n",
       "Oriental Oak    0.746932  0.769403  0.758001   6249.000000   \n",
       "accuracy        0.865127  0.865127  0.865127      0.865127   \n",
       "macro avg       0.865754  0.860098  0.861897  38614.000000   \n",
       "weighted avg    0.866060  0.865127  0.864663  38614.000000   \n",
       "Conifer         0.972525  0.960639  0.966546  20782.000000   \n",
       "Broadleaf       0.937014  0.955706  0.946267  12733.000000   \n",
       "accuracy        0.958765  0.958765  0.958765      0.958765   \n",
       "macro avg       0.954770  0.958172  0.956407  33515.000000   \n",
       "weighted avg    0.959034  0.958765  0.958842  33515.000000   \n",
       "Pine            0.934059  0.839888  0.884474   5009.000000   \n",
       "Nut Pine        0.897533  0.940962  0.918734   6572.000000   \n",
       "Larch           0.963244  0.984731  0.973869   8383.000000   \n",
       "accuracy        0.933981  0.933981  0.933981      0.933981   \n",
       "macro avg       0.931612  0.921860  0.925692  19964.000000   \n",
       "weighted avg    0.934290  0.933981  0.933290  19964.000000   \n",
       "Mongolian Oak   0.823567  0.827123  0.825341   6253.000000   \n",
       "Oriental Oak    0.816437  0.812711  0.814570   5916.000000   \n",
       "accuracy        0.820117  0.820117  0.820117      0.820117   \n",
       "macro avg       0.820002  0.819917  0.819956  12169.000000   \n",
       "weighted avg    0.820101  0.820117  0.820105  12169.000000   \n",
       "\n",
       "                           Category  \n",
       "Non-Forest                  Overall  \n",
       "Pine                        Overall  \n",
       "Nut Pine                    Overall  \n",
       "Larch                       Overall  \n",
       "Mongolian Oak               Overall  \n",
       "Oriental Oak                Overall  \n",
       "accuracy                    Overall  \n",
       "macro avg                   Overall  \n",
       "weighted avg                Overall  \n",
       "Conifer        Conifer vs Broadleaf  \n",
       "Broadleaf      Conifer vs Broadleaf  \n",
       "accuracy       Conifer vs Broadleaf  \n",
       "macro avg      Conifer vs Broadleaf  \n",
       "weighted avg   Conifer vs Broadleaf  \n",
       "Pine                        Conifer  \n",
       "Nut Pine                    Conifer  \n",
       "Larch                       Conifer  \n",
       "accuracy                    Conifer  \n",
       "macro avg                   Conifer  \n",
       "weighted avg                Conifer  \n",
       "Mongolian Oak             Broadleaf  \n",
       "Oriental Oak              Broadleaf  \n",
       "accuracy                  Broadleaf  \n",
       "macro avg                 Broadleaf  \n",
       "weighted avg              Broadleaf  "
      ]
     },
     "execution_count": 59,
     "metadata": {},
     "output_type": "execute_result"
    }
   ],
   "source": [
    "num_epochs = 30\n",
    "\n",
    "best_model_state, train_losses, val_losses = train_model(model, train_loader, val_loader, criterion, optimizer, num_epochs=num_epochs, patience=100)\n",
    "os.makedirs(\"./checkpoints/transformer\", exist_ok=True)\n",
    "torch.save(best_model_state, f\"./checkpoints/transformer/transformer_{bands}_{patch_size}_{num_epochs}.pth\")\n",
    "\n",
    "model.load_state_dict(best_model_state)\n",
    "\n",
    "print(\"\\ntrain data\")\n",
    "evaluate_model_with_cm(model, train_loader, num_classes=6)\n",
    "print(\"\\nvalidation data\")\n",
    "evaluate_model_with_cm(model, val_loader, num_classes=6)"
   ]
  },
  {
   "cell_type": "markdown",
   "metadata": {},
   "source": [
    "파라메터 수를 올려보자"
   ]
  },
  {
   "cell_type": "code",
   "execution_count": 74,
   "metadata": {},
   "outputs": [],
   "source": [
    "import torch\n",
    "import torch.nn as nn\n",
    "\n",
    "class TransformerModel(nn.Module):\n",
    "    def __init__(self, patch_size=9, num_bands=4, temp=12, num_classes=6, \n",
    "                 d_model=12, nhead=4, num_layers=14, dropout=0.2):\n",
    "        super().__init__()\n",
    "        self.patch_size = patch_size\n",
    "        self.num_bands = num_bands\n",
    "        self.temp = temp\n",
    "        self.num_tokens = num_bands * patch_size * patch_size  # 4×81 = 324\n",
    "        self.d_model = d_model  # 🔥 기존 48 → **16**으로 조정\n",
    "\n",
    "        # Positional Encoding\n",
    "        self.pos_embedding = nn.Parameter(torch.randn(1, self.num_tokens, d_model))\n",
    "\n",
    "        # Transformer Encoder (적절한 크기로 조정)\n",
    "        encoder_layer = nn.TransformerEncoderLayer(\n",
    "            d_model=d_model, \n",
    "            nhead=nhead,  \n",
    "            dropout=dropout,  \n",
    "            batch_first=True\n",
    "        )\n",
    "        self.transformer = nn.TransformerEncoder(encoder_layer, num_layers=num_layers)\n",
    "\n",
    "        # Classification Head (적절한 크기로 조정)\n",
    "        self.fc = nn.Sequential(\n",
    "            nn.Linear(self.num_tokens * d_model, 256),  # 🔥 기존 1024 → 256\n",
    "            nn.ReLU(),\n",
    "            nn.Dropout(0.4),\n",
    "            nn.Linear(256, 128),  # 🔥 기존 512 → 128\n",
    "            nn.ReLU(),\n",
    "            nn.Dropout(0.4),\n",
    "            nn.Linear(128, num_classes)\n",
    "        )\n",
    "\n",
    "    def forward(self, x):\n",
    "        \"\"\"\n",
    "        x shape: (batch, bands=4, temp=12, height=9, width=9)\n",
    "        \"\"\"\n",
    "        batch_size = x.shape[0]\n",
    "\n",
    "        # (batch, 4, 12, 9, 9) → (batch, 4×9×9, 12)\n",
    "        x = x.view(batch_size, self.num_tokens, -1)  \n",
    "\n",
    "        # Add Positional Encoding\n",
    "        x = x + self.pos_embedding  \n",
    "\n",
    "        # Transformer Encoder\n",
    "        x = self.transformer(x)  \n",
    "\n",
    "        # Flatten & Classification\n",
    "        x = x.flatten(1)  # (batch, 324×16)\n",
    "        x = self.fc(x)  # (batch, num_classes)\n",
    "\n",
    "        return x"
   ]
  },
  {
   "cell_type": "code",
   "execution_count": 75,
   "metadata": {},
   "outputs": [
    {
     "name": "stdout",
     "output_type": "stream",
     "text": [
      "Transformer 모델 파라미터 개수: 1759518\n"
     ]
    }
   ],
   "source": [
    "model = TransformerModel(patch_size=9, num_classes=6).to(device)\n",
    "criterion = nn.CrossEntropyLoss()\n",
    "\n",
    "lr = 1e-4\n",
    "weight_decay = 1e-4  # 🔥 L2 Regularization 적용\n",
    "optimizer = optim.AdamW(model.parameters(), lr=lr, weight_decay=weight_decay)\n",
    "\n",
    "total_params = sum(p.numel() for p in model.parameters() if p.requires_grad)\n",
    "print(f\"Transformer 모델 파라미터 개수: {total_params}\")"
   ]
  },
  {
   "cell_type": "code",
   "execution_count": 76,
   "metadata": {},
   "outputs": [
    {
     "name": "stderr",
     "output_type": "stream",
     "text": [
      "Epoch 1/30 - Training: 100%|█████████████████████████████████████████████████| 3502/3502 [10:57<00:00,  5.33it/s]\n",
      "Epoch 1/30 - Validation: 100%|███████████████████████████████████████████████| 1207/1207 [01:16<00:00, 15.73it/s]\n"
     ]
    },
    {
     "name": "stdout",
     "output_type": "stream",
     "text": [
      "\n",
      "Epoch [1/30], Train Loss: 1.7714, Train Accuracy: 20.24%, Val Loss: 1.8199, Val Accuracy: 16.83%\n",
      "\n"
     ]
    },
    {
     "name": "stderr",
     "output_type": "stream",
     "text": [
      "Epoch 2/30 - Training: 100%|█████████████████████████████████████████████████| 3502/3502 [10:55<00:00,  5.34it/s]\n",
      "Epoch 2/30 - Validation: 100%|███████████████████████████████████████████████| 1207/1207 [01:16<00:00, 15.74it/s]\n"
     ]
    },
    {
     "name": "stdout",
     "output_type": "stream",
     "text": [
      "\n",
      "Epoch [2/30], Train Loss: 1.7681, Train Accuracy: 20.59%, Val Loss: 1.8160, Val Accuracy: 16.83%\n",
      "\n"
     ]
    },
    {
     "name": "stderr",
     "output_type": "stream",
     "text": [
      "Epoch 3/30 - Training: 100%|█████████████████████████████████████████████████| 3502/3502 [10:47<00:00,  5.41it/s]\n",
      "Epoch 3/30 - Validation: 100%|███████████████████████████████████████████████| 1207/1207 [01:16<00:00, 15.81it/s]\n"
     ]
    },
    {
     "name": "stdout",
     "output_type": "stream",
     "text": [
      "\n",
      "Epoch [3/30], Train Loss: 1.7658, Train Accuracy: 20.76%, Val Loss: 1.8269, Val Accuracy: 16.83%\n",
      "\n"
     ]
    },
    {
     "name": "stderr",
     "output_type": "stream",
     "text": [
      "Epoch 4/30 - Training: 100%|█████████████████████████████████████████████████| 3502/3502 [10:46<00:00,  5.42it/s]\n",
      "Epoch 4/30 - Validation: 100%|███████████████████████████████████████████████| 1207/1207 [01:16<00:00, 15.78it/s]\n"
     ]
    },
    {
     "name": "stdout",
     "output_type": "stream",
     "text": [
      "\n",
      "Epoch [4/30], Train Loss: 1.7656, Train Accuracy: 20.83%, Val Loss: 1.8270, Val Accuracy: 16.83%\n",
      "\n"
     ]
    },
    {
     "name": "stderr",
     "output_type": "stream",
     "text": [
      "Epoch 5/30 - Training: 100%|█████████████████████████████████████████████████| 3502/3502 [12:03<00:00,  4.84it/s]\n",
      "Epoch 5/30 - Validation: 100%|███████████████████████████████████████████████| 1207/1207 [01:18<00:00, 15.42it/s]\n"
     ]
    },
    {
     "name": "stdout",
     "output_type": "stream",
     "text": [
      "\n",
      "Epoch [5/30], Train Loss: 1.7655, Train Accuracy: 20.82%, Val Loss: 1.8266, Val Accuracy: 16.83%\n",
      "\n"
     ]
    },
    {
     "name": "stderr",
     "output_type": "stream",
     "text": [
      "Epoch 6/30 - Training: 100%|█████████████████████████████████████████████████| 3502/3502 [10:47<00:00,  5.41it/s]\n",
      "Epoch 6/30 - Validation:  70%|█████████████████████████████████▌              | 843/1207 [00:53<00:23, 15.69it/s]\n"
     ]
    },
    {
     "ename": "KeyboardInterrupt",
     "evalue": "",
     "output_type": "error",
     "traceback": [
      "\u001b[0;31m---------------------------------------------------------------------------\u001b[0m",
      "\u001b[0;31mKeyboardInterrupt\u001b[0m                         Traceback (most recent call last)",
      "Cell \u001b[0;32mIn[76], line 3\u001b[0m\n\u001b[1;32m      1\u001b[0m num_epochs \u001b[38;5;241m=\u001b[39m \u001b[38;5;241m30\u001b[39m\n\u001b[0;32m----> 3\u001b[0m best_model_state, train_losses, val_losses \u001b[38;5;241m=\u001b[39m train_model(model, train_loader, val_loader, criterion, optimizer, num_epochs\u001b[38;5;241m=\u001b[39mnum_epochs, patience\u001b[38;5;241m=\u001b[39m\u001b[38;5;241m100\u001b[39m)\n\u001b[1;32m      4\u001b[0m os\u001b[38;5;241m.\u001b[39mmakedirs(\u001b[38;5;124m\"\u001b[39m\u001b[38;5;124m./checkpoints/transformer\u001b[39m\u001b[38;5;124m\"\u001b[39m, exist_ok\u001b[38;5;241m=\u001b[39m\u001b[38;5;28;01mTrue\u001b[39;00m)\n\u001b[1;32m      5\u001b[0m torch\u001b[38;5;241m.\u001b[39msave(best_model_state, \u001b[38;5;124mf\u001b[39m\u001b[38;5;124m\"\u001b[39m\u001b[38;5;124m./checkpoints/transformer/transformer_\u001b[39m\u001b[38;5;132;01m{\u001b[39;00mbands\u001b[38;5;132;01m}\u001b[39;00m\u001b[38;5;124m_\u001b[39m\u001b[38;5;132;01m{\u001b[39;00mpatch_size\u001b[38;5;132;01m}\u001b[39;00m\u001b[38;5;124m_\u001b[39m\u001b[38;5;132;01m{\u001b[39;00mnum_epochs\u001b[38;5;132;01m}\u001b[39;00m\u001b[38;5;124m.pth\u001b[39m\u001b[38;5;124m\"\u001b[39m)\n",
      "File \u001b[0;32m~/my_study/forest_carbon_ai/model/classification/utils/utils.py:64\u001b[0m, in \u001b[0;36mtrain_model\u001b[0;34m(model, train_loader, val_loader, criterion, optimizer, num_epochs, patience)\u001b[0m\n\u001b[1;32m     61\u001b[0m outputs \u001b[38;5;241m=\u001b[39m model(images)\n\u001b[1;32m     62\u001b[0m loss \u001b[38;5;241m=\u001b[39m criterion(outputs, labels)\n\u001b[0;32m---> 64\u001b[0m val_running_loss \u001b[38;5;241m+\u001b[39m\u001b[38;5;241m=\u001b[39m loss\u001b[38;5;241m.\u001b[39mitem() \u001b[38;5;241m*\u001b[39m labels\u001b[38;5;241m.\u001b[39msize(\u001b[38;5;241m0\u001b[39m)\n\u001b[1;32m     65\u001b[0m _, predicted \u001b[38;5;241m=\u001b[39m torch\u001b[38;5;241m.\u001b[39mmax(outputs, \u001b[38;5;241m1\u001b[39m)\n\u001b[1;32m     66\u001b[0m val_total \u001b[38;5;241m+\u001b[39m\u001b[38;5;241m=\u001b[39m labels\u001b[38;5;241m.\u001b[39msize(\u001b[38;5;241m0\u001b[39m)\n",
      "\u001b[0;31mKeyboardInterrupt\u001b[0m: "
     ]
    }
   ],
   "source": [
    "num_epochs = 30\n",
    "\n",
    "best_model_state, train_losses, val_losses = train_model(model, train_loader, val_loader, criterion, optimizer, num_epochs=num_epochs, patience=100)\n",
    "os.makedirs(\"./checkpoints/transformer\", exist_ok=True)\n",
    "torch.save(best_model_state, f\"./checkpoints/transformer/transformer_{bands}_{patch_size}_{num_epochs}.pth\")\n",
    "\n",
    "model.load_state_dict(best_model_state)\n",
    "\n",
    "print(\"\\ntrain data\")\n",
    "evaluate_model_with_cm(model, train_loader, num_classes=6)\n",
    "print(\"\\nvalidation data\")\n",
    "evaluate_model_with_cm(model, val_loader, num_classes=6)"
   ]
  },
  {
   "cell_type": "markdown",
   "metadata": {},
   "source": [
    "hybrid"
   ]
  },
  {
   "cell_type": "code",
   "execution_count": 5,
   "metadata": {},
   "outputs": [],
   "source": [
    "import torch\n",
    "import torch.nn as nn\n",
    "\n",
    "class HybridCNNTransformer(nn.Module):\n",
    "    def __init__(self, patch_size=9, num_bands=4, temp=12, num_classes=6, \n",
    "                 d_model=64, nhead=4, num_layers=4, dim_feedforward=128, dropout=0.1):\n",
    "        super().__init__()\n",
    "        self.patch_size = patch_size\n",
    "        self.num_bands = num_bands\n",
    "        self.temp = temp\n",
    "        self.num_tokens = temp  # 12개 (시계열 단위)\n",
    "        self.d_model = d_model  \n",
    "\n",
    "        # ** 2+1D CNN Feature Extractor **\n",
    "        self.cnn_feature_extractor = nn.Sequential(\n",
    "            nn.Conv3d(in_channels=num_bands, out_channels=32, kernel_size=(3, 3, 3), padding=(1, 1, 1)),\n",
    "            nn.ReLU(),\n",
    "            nn.Conv3d(in_channels=32, out_channels=d_model, kernel_size=(3, 1, 1), padding=(1, 0, 0)),\n",
    "            nn.ReLU(),\n",
    "            nn.AdaptiveAvgPool3d((self.num_tokens, 1, 1))  # (B, d_model, 12, 1, 1)\n",
    "        )\n",
    "\n",
    "        # Positional Encoding\n",
    "        self.pos_embedding = nn.Parameter(torch.randn(1, self.num_tokens, d_model))\n",
    "\n",
    "        # Layer Normalization\n",
    "        self.norm1 = nn.LayerNorm(d_model)\n",
    "\n",
    "        # Transformer Encoder\n",
    "        encoder_layer = nn.TransformerEncoderLayer(\n",
    "            d_model=d_model, nhead=nhead, dim_feedforward=dim_feedforward, dropout=dropout, batch_first=True\n",
    "        )\n",
    "        self.transformer = nn.TransformerEncoder(encoder_layer, num_layers=num_layers)\n",
    "\n",
    "        # Classification Head\n",
    "        self.fc = nn.Sequential(\n",
    "            nn.Linear(self.num_tokens * d_model, 128),\n",
    "            nn.ReLU(),\n",
    "            nn.Dropout(0.3),\n",
    "            nn.Linear(128, 64),\n",
    "            nn.ReLU(),\n",
    "            nn.Dropout(0.3),\n",
    "            nn.Linear(64, num_classes)\n",
    "        )\n",
    "\n",
    "        self.norm2 = nn.LayerNorm(num_classes)\n",
    "\n",
    "        self.apply(self._init_weights)\n",
    "\n",
    "    def forward(self, x):\n",
    "        batch_size = x.shape[0]\n",
    "\n",
    "        # CNN Feature Extraction (B, 4, 12, 9, 9) -> (B, d_model, 12, 1, 1)\n",
    "        x = self.cnn_feature_extractor(x)\n",
    "        x = x.squeeze(-1).squeeze(-1)  # (B, d_model, 12)\n",
    "        x = x.permute(0, 2, 1)  # (B, 12, d_model)\n",
    "\n",
    "        # Add Positional Encoding\n",
    "        x = x + self.pos_embedding\n",
    "\n",
    "        # Transformer Encoder\n",
    "        x = self.norm1(x)\n",
    "        x = self.transformer(x)\n",
    "\n",
    "        # Flatten & Classification\n",
    "        x = x.flatten(1)\n",
    "        x = self.fc(x)\n",
    "        x = self.norm2(x)\n",
    "\n",
    "        return x\n",
    "\n",
    "    def _init_weights(self, module):\n",
    "        if isinstance(module, nn.Linear):\n",
    "            nn.init.xavier_uniform_(module.weight)\n",
    "            if module.bias is not None:\n",
    "                nn.init.constant_(module.bias, 0)\n"
   ]
  },
  {
   "cell_type": "code",
   "execution_count": 6,
   "metadata": {},
   "outputs": [
    {
     "name": "stdout",
     "output_type": "stream",
     "text": [
      "Transformer 모델 파라미터 개수: 251570\n"
     ]
    }
   ],
   "source": [
    "model = HybridCNNTransformer().to(device)\n",
    "\n",
    "# 손실 함수 (Cross Entropy Loss)\n",
    "criterion = nn.CrossEntropyLoss()\n",
    "\n",
    "# 옵티마이저 (Adam)\n",
    "optimizer = optim.Adam(model.parameters(), lr=1e-4, weight_decay=1e-5)\n",
    "\n",
    "total_params = sum(p.numel() for p in model.parameters() if p.requires_grad)\n",
    "print(f\"Transformer 모델 파라미터 개수: {total_params}\")"
   ]
  },
  {
   "cell_type": "code",
   "execution_count": 14,
   "metadata": {},
   "outputs": [
    {
     "name": "stderr",
     "output_type": "stream",
     "text": [
      "Epoch 1/30 - Training: 100%|███████████████████████████████| 3502/3502 [01:18<00:00, 44.40it/s]\n",
      "Epoch 1/30 - Validation: 100%|████████████████████████████| 1207/1207 [00:11<00:00, 104.69it/s]\n"
     ]
    },
    {
     "name": "stdout",
     "output_type": "stream",
     "text": [
      "\n",
      "Epoch [1/30], Train Loss: 0.8846, Train Accuracy: 68.98%, Val Loss: 0.6154, Val Accuracy: 80.77%\n",
      "\n"
     ]
    },
    {
     "name": "stderr",
     "output_type": "stream",
     "text": [
      "Epoch 2/30 - Training: 100%|███████████████████████████████| 3502/3502 [01:11<00:00, 48.96it/s]\n",
      "Epoch 2/30 - Validation: 100%|█████████████████████████████| 1207/1207 [00:12<00:00, 99.76it/s]\n"
     ]
    },
    {
     "name": "stdout",
     "output_type": "stream",
     "text": [
      "\n",
      "Epoch [2/30], Train Loss: 0.5884, Train Accuracy: 80.74%, Val Loss: 0.5672, Val Accuracy: 80.29%\n",
      "\n"
     ]
    },
    {
     "name": "stderr",
     "output_type": "stream",
     "text": [
      "Epoch 3/30 - Training: 100%|███████████████████████████████| 3502/3502 [01:15<00:00, 46.65it/s]\n",
      "Epoch 3/30 - Validation: 100%|████████████████████████████| 1207/1207 [00:11<00:00, 105.56it/s]\n"
     ]
    },
    {
     "name": "stdout",
     "output_type": "stream",
     "text": [
      "\n",
      "Epoch [3/30], Train Loss: 0.5005, Train Accuracy: 83.06%, Val Loss: 0.5204, Val Accuracy: 82.97%\n",
      "\n"
     ]
    },
    {
     "name": "stderr",
     "output_type": "stream",
     "text": [
      "Epoch 4/30 - Training: 100%|███████████████████████████████| 3502/3502 [01:13<00:00, 47.61it/s]\n",
      "Epoch 4/30 - Validation: 100%|████████████████████████████| 1207/1207 [00:11<00:00, 103.06it/s]\n"
     ]
    },
    {
     "name": "stdout",
     "output_type": "stream",
     "text": [
      "\n",
      "Epoch [4/30], Train Loss: 0.4512, Train Accuracy: 84.50%, Val Loss: 0.5390, Val Accuracy: 81.77%\n",
      "\n"
     ]
    },
    {
     "name": "stderr",
     "output_type": "stream",
     "text": [
      "Epoch 5/30 - Training: 100%|███████████████████████████████| 3502/3502 [01:11<00:00, 49.02it/s]\n",
      "Epoch 5/30 - Validation: 100%|████████████████████████████| 1207/1207 [00:11<00:00, 108.70it/s]\n"
     ]
    },
    {
     "name": "stdout",
     "output_type": "stream",
     "text": [
      "\n",
      "Epoch [5/30], Train Loss: 0.4187, Train Accuracy: 85.60%, Val Loss: 0.4748, Val Accuracy: 83.71%\n",
      "\n"
     ]
    },
    {
     "name": "stderr",
     "output_type": "stream",
     "text": [
      "Epoch 6/30 - Training: 100%|███████████████████████████████| 3502/3502 [01:11<00:00, 49.12it/s]\n",
      "Epoch 6/30 - Validation: 100%|████████████████████████████| 1207/1207 [00:11<00:00, 103.80it/s]\n"
     ]
    },
    {
     "name": "stdout",
     "output_type": "stream",
     "text": [
      "\n",
      "Epoch [6/30], Train Loss: 0.3919, Train Accuracy: 86.39%, Val Loss: 0.4580, Val Accuracy: 84.88%\n",
      "\n"
     ]
    },
    {
     "name": "stderr",
     "output_type": "stream",
     "text": [
      "Epoch 7/30 - Training: 100%|███████████████████████████████| 3502/3502 [01:11<00:00, 49.08it/s]\n",
      "Epoch 7/30 - Validation: 100%|████████████████████████████| 1207/1207 [00:11<00:00, 109.06it/s]\n"
     ]
    },
    {
     "name": "stdout",
     "output_type": "stream",
     "text": [
      "\n",
      "Epoch [7/30], Train Loss: 0.3710, Train Accuracy: 87.23%, Val Loss: 0.4626, Val Accuracy: 84.84%\n",
      "\n"
     ]
    },
    {
     "name": "stderr",
     "output_type": "stream",
     "text": [
      "Epoch 8/30 - Training: 100%|███████████████████████████████| 3502/3502 [01:15<00:00, 46.35it/s]\n",
      "Epoch 8/30 - Validation: 100%|████████████████████████████| 1207/1207 [00:11<00:00, 103.34it/s]\n"
     ]
    },
    {
     "name": "stdout",
     "output_type": "stream",
     "text": [
      "\n",
      "Epoch [8/30], Train Loss: 0.3498, Train Accuracy: 87.97%, Val Loss: 0.4694, Val Accuracy: 84.68%\n",
      "\n"
     ]
    },
    {
     "name": "stderr",
     "output_type": "stream",
     "text": [
      "Epoch 9/30 - Training: 100%|███████████████████████████████| 3502/3502 [01:14<00:00, 47.23it/s]\n",
      "Epoch 9/30 - Validation: 100%|████████████████████████████| 1207/1207 [00:11<00:00, 104.77it/s]\n"
     ]
    },
    {
     "name": "stdout",
     "output_type": "stream",
     "text": [
      "\n",
      "Epoch [9/30], Train Loss: 0.3309, Train Accuracy: 88.71%, Val Loss: 0.4436, Val Accuracy: 84.82%\n",
      "\n"
     ]
    },
    {
     "name": "stderr",
     "output_type": "stream",
     "text": [
      "Epoch 10/30 - Training: 100%|██████████████████████████████| 3502/3502 [01:14<00:00, 46.76it/s]\n",
      "Epoch 10/30 - Validation: 100%|███████████████████████████| 1207/1207 [00:11<00:00, 106.63it/s]\n"
     ]
    },
    {
     "name": "stdout",
     "output_type": "stream",
     "text": [
      "\n",
      "Epoch [10/30], Train Loss: 0.3136, Train Accuracy: 89.22%, Val Loss: 0.4568, Val Accuracy: 84.81%\n",
      "\n"
     ]
    },
    {
     "name": "stderr",
     "output_type": "stream",
     "text": [
      "Epoch 11/30 - Training: 100%|██████████████████████████████| 3502/3502 [01:17<00:00, 45.37it/s]\n",
      "Epoch 11/30 - Validation: 100%|███████████████████████████| 1207/1207 [00:11<00:00, 102.53it/s]\n"
     ]
    },
    {
     "name": "stdout",
     "output_type": "stream",
     "text": [
      "\n",
      "Epoch [11/30], Train Loss: 0.3003, Train Accuracy: 89.82%, Val Loss: 0.4697, Val Accuracy: 84.83%\n",
      "\n"
     ]
    },
    {
     "name": "stderr",
     "output_type": "stream",
     "text": [
      "Epoch 12/30 - Training: 100%|██████████████████████████████| 3502/3502 [01:13<00:00, 47.96it/s]\n",
      "Epoch 12/30 - Validation: 100%|███████████████████████████| 1207/1207 [00:11<00:00, 102.32it/s]\n"
     ]
    },
    {
     "name": "stdout",
     "output_type": "stream",
     "text": [
      "\n",
      "Epoch [12/30], Train Loss: 0.2876, Train Accuracy: 90.37%, Val Loss: 0.4423, Val Accuracy: 85.69%\n",
      "\n"
     ]
    },
    {
     "name": "stderr",
     "output_type": "stream",
     "text": [
      "Epoch 13/30 - Training: 100%|██████████████████████████████| 3502/3502 [01:16<00:00, 45.55it/s]\n",
      "Epoch 13/30 - Validation: 100%|███████████████████████████| 1207/1207 [00:11<00:00, 106.66it/s]\n"
     ]
    },
    {
     "name": "stdout",
     "output_type": "stream",
     "text": [
      "\n",
      "Epoch [13/30], Train Loss: 0.2768, Train Accuracy: 90.67%, Val Loss: 0.4764, Val Accuracy: 85.60%\n",
      "\n"
     ]
    },
    {
     "name": "stderr",
     "output_type": "stream",
     "text": [
      "Epoch 14/30 - Training: 100%|██████████████████████████████| 3502/3502 [01:10<00:00, 49.34it/s]\n",
      "Epoch 14/30 - Validation: 100%|███████████████████████████| 1207/1207 [00:11<00:00, 106.96it/s]\n"
     ]
    },
    {
     "name": "stdout",
     "output_type": "stream",
     "text": [
      "\n",
      "Epoch [14/30], Train Loss: 0.2674, Train Accuracy: 90.97%, Val Loss: 0.4404, Val Accuracy: 86.05%\n",
      "\n"
     ]
    },
    {
     "name": "stderr",
     "output_type": "stream",
     "text": [
      "Epoch 15/30 - Training: 100%|██████████████████████████████| 3502/3502 [01:11<00:00, 48.76it/s]\n",
      "Epoch 15/30 - Validation: 100%|███████████████████████████| 1207/1207 [00:11<00:00, 106.81it/s]\n"
     ]
    },
    {
     "name": "stdout",
     "output_type": "stream",
     "text": [
      "\n",
      "Epoch [15/30], Train Loss: 0.2573, Train Accuracy: 91.32%, Val Loss: 0.4765, Val Accuracy: 85.65%\n",
      "\n"
     ]
    },
    {
     "name": "stderr",
     "output_type": "stream",
     "text": [
      "Epoch 16/30 - Training: 100%|██████████████████████████████| 3502/3502 [01:13<00:00, 47.43it/s]\n",
      "Epoch 16/30 - Validation: 100%|███████████████████████████| 1207/1207 [00:11<00:00, 108.88it/s]\n"
     ]
    },
    {
     "name": "stdout",
     "output_type": "stream",
     "text": [
      "\n",
      "Epoch [16/30], Train Loss: 0.2487, Train Accuracy: 91.66%, Val Loss: 0.4546, Val Accuracy: 86.33%\n",
      "\n"
     ]
    },
    {
     "name": "stderr",
     "output_type": "stream",
     "text": [
      "Epoch 17/30 - Training: 100%|██████████████████████████████| 3502/3502 [01:13<00:00, 47.58it/s]\n",
      "Epoch 17/30 - Validation: 100%|███████████████████████████| 1207/1207 [00:11<00:00, 107.63it/s]\n"
     ]
    },
    {
     "name": "stdout",
     "output_type": "stream",
     "text": [
      "\n",
      "Epoch [17/30], Train Loss: 0.2410, Train Accuracy: 91.82%, Val Loss: 0.4916, Val Accuracy: 85.15%\n",
      "\n"
     ]
    },
    {
     "name": "stderr",
     "output_type": "stream",
     "text": [
      "Epoch 18/30 - Training: 100%|██████████████████████████████| 3502/3502 [01:11<00:00, 48.99it/s]\n",
      "Epoch 18/30 - Validation: 100%|███████████████████████████| 1207/1207 [00:11<00:00, 105.06it/s]\n"
     ]
    },
    {
     "name": "stdout",
     "output_type": "stream",
     "text": [
      "\n",
      "Epoch [18/30], Train Loss: 0.2340, Train Accuracy: 92.08%, Val Loss: 0.4722, Val Accuracy: 86.03%\n",
      "\n"
     ]
    },
    {
     "name": "stderr",
     "output_type": "stream",
     "text": [
      "Epoch 19/30 - Training: 100%|██████████████████████████████| 3502/3502 [01:10<00:00, 49.38it/s]\n",
      "Epoch 19/30 - Validation: 100%|███████████████████████████| 1207/1207 [00:11<00:00, 107.47it/s]\n"
     ]
    },
    {
     "name": "stdout",
     "output_type": "stream",
     "text": [
      "\n",
      "Epoch [19/30], Train Loss: 0.2259, Train Accuracy: 92.40%, Val Loss: 0.4821, Val Accuracy: 85.47%\n",
      "\n"
     ]
    },
    {
     "name": "stderr",
     "output_type": "stream",
     "text": [
      "Epoch 20/30 - Training: 100%|██████████████████████████████| 3502/3502 [01:11<00:00, 48.94it/s]\n",
      "Epoch 20/30 - Validation: 100%|████████████████████████████| 1207/1207 [00:12<00:00, 99.66it/s]\n"
     ]
    },
    {
     "name": "stdout",
     "output_type": "stream",
     "text": [
      "\n",
      "Epoch [20/30], Train Loss: 0.2225, Train Accuracy: 92.46%, Val Loss: 0.5216, Val Accuracy: 84.89%\n",
      "\n"
     ]
    },
    {
     "name": "stderr",
     "output_type": "stream",
     "text": [
      "Epoch 21/30 - Training:  20%|██████▏                        | 701/3502 [00:15<01:03, 43.87it/s]\n"
     ]
    },
    {
     "ename": "KeyboardInterrupt",
     "evalue": "",
     "output_type": "error",
     "traceback": [
      "\u001b[0;31m---------------------------------------------------------------------------\u001b[0m",
      "\u001b[0;31mKeyboardInterrupt\u001b[0m                         Traceback (most recent call last)",
      "Cell \u001b[0;32mIn[14], line 3\u001b[0m\n\u001b[1;32m      1\u001b[0m num_epochs \u001b[38;5;241m=\u001b[39m \u001b[38;5;241m30\u001b[39m\n\u001b[0;32m----> 3\u001b[0m best_model_state, train_losses, val_losses \u001b[38;5;241m=\u001b[39m train_model(model, train_loader, val_loader, criterion, optimizer, num_epochs\u001b[38;5;241m=\u001b[39mnum_epochs, patience\u001b[38;5;241m=\u001b[39m\u001b[38;5;241m100\u001b[39m)\n\u001b[1;32m      4\u001b[0m os\u001b[38;5;241m.\u001b[39mmakedirs(\u001b[38;5;124m\"\u001b[39m\u001b[38;5;124m./checkpoints/hybrid\u001b[39m\u001b[38;5;124m\"\u001b[39m, exist_ok\u001b[38;5;241m=\u001b[39m\u001b[38;5;28;01mTrue\u001b[39;00m)\n\u001b[1;32m      5\u001b[0m torch\u001b[38;5;241m.\u001b[39msave(best_model_state, \u001b[38;5;124mf\u001b[39m\u001b[38;5;124m\"\u001b[39m\u001b[38;5;124m./checkpoints/hybrid/hybrid_\u001b[39m\u001b[38;5;132;01m{\u001b[39;00mbands\u001b[38;5;132;01m}\u001b[39;00m\u001b[38;5;124m_\u001b[39m\u001b[38;5;132;01m{\u001b[39;00mpatch_size\u001b[38;5;132;01m}\u001b[39;00m\u001b[38;5;124m_\u001b[39m\u001b[38;5;132;01m{\u001b[39;00mnum_epochs\u001b[38;5;132;01m}\u001b[39;00m\u001b[38;5;124m.pth\u001b[39m\u001b[38;5;124m\"\u001b[39m)\n",
      "File \u001b[0;32m~/my_study/forest_carbon_ai/model/classification/utils/utils.py:32\u001b[0m, in \u001b[0;36mtrain_model\u001b[0;34m(model, train_loader, val_loader, criterion, optimizer, num_epochs, patience)\u001b[0m\n\u001b[1;32m     29\u001b[0m correct \u001b[38;5;241m=\u001b[39m \u001b[38;5;241m0\u001b[39m\n\u001b[1;32m     30\u001b[0m total \u001b[38;5;241m=\u001b[39m \u001b[38;5;241m0\u001b[39m\n\u001b[0;32m---> 32\u001b[0m \u001b[38;5;28;01mfor\u001b[39;00m images, labels \u001b[38;5;129;01min\u001b[39;00m tqdm(train_loader, desc\u001b[38;5;241m=\u001b[39m\u001b[38;5;124mf\u001b[39m\u001b[38;5;124m\"\u001b[39m\u001b[38;5;124mEpoch \u001b[39m\u001b[38;5;132;01m{\u001b[39;00mepoch\u001b[38;5;241m+\u001b[39m\u001b[38;5;241m1\u001b[39m\u001b[38;5;132;01m}\u001b[39;00m\u001b[38;5;124m/\u001b[39m\u001b[38;5;132;01m{\u001b[39;00mnum_epochs\u001b[38;5;132;01m}\u001b[39;00m\u001b[38;5;124m - Training\u001b[39m\u001b[38;5;124m\"\u001b[39m):\n\u001b[1;32m     33\u001b[0m     images, labels \u001b[38;5;241m=\u001b[39m images\u001b[38;5;241m.\u001b[39mto(device), labels\u001b[38;5;241m.\u001b[39mto(device)\n\u001b[1;32m     35\u001b[0m     optimizer\u001b[38;5;241m.\u001b[39mzero_grad()\n",
      "File \u001b[0;32m~/anaconda3/envs/A/lib/python3.12/site-packages/tqdm/std.py:1181\u001b[0m, in \u001b[0;36mtqdm.__iter__\u001b[0;34m(self)\u001b[0m\n\u001b[1;32m   1178\u001b[0m time \u001b[38;5;241m=\u001b[39m \u001b[38;5;28mself\u001b[39m\u001b[38;5;241m.\u001b[39m_time\n\u001b[1;32m   1180\u001b[0m \u001b[38;5;28;01mtry\u001b[39;00m:\n\u001b[0;32m-> 1181\u001b[0m     \u001b[38;5;28;01mfor\u001b[39;00m obj \u001b[38;5;129;01min\u001b[39;00m iterable:\n\u001b[1;32m   1182\u001b[0m         \u001b[38;5;28;01myield\u001b[39;00m obj\n\u001b[1;32m   1183\u001b[0m         \u001b[38;5;66;03m# Update and possibly print the progressbar.\u001b[39;00m\n\u001b[1;32m   1184\u001b[0m         \u001b[38;5;66;03m# Note: does not call self.update(1) for speed optimisation.\u001b[39;00m\n",
      "File \u001b[0;32m~/anaconda3/envs/A/lib/python3.12/site-packages/torch/utils/data/dataloader.py:708\u001b[0m, in \u001b[0;36m_BaseDataLoaderIter.__next__\u001b[0;34m(self)\u001b[0m\n\u001b[1;32m    705\u001b[0m \u001b[38;5;28;01mif\u001b[39;00m \u001b[38;5;28mself\u001b[39m\u001b[38;5;241m.\u001b[39m_sampler_iter \u001b[38;5;129;01mis\u001b[39;00m \u001b[38;5;28;01mNone\u001b[39;00m:\n\u001b[1;32m    706\u001b[0m     \u001b[38;5;66;03m# TODO(https://github.com/pytorch/pytorch/issues/76750)\u001b[39;00m\n\u001b[1;32m    707\u001b[0m     \u001b[38;5;28mself\u001b[39m\u001b[38;5;241m.\u001b[39m_reset()  \u001b[38;5;66;03m# type: ignore[call-arg]\u001b[39;00m\n\u001b[0;32m--> 708\u001b[0m data \u001b[38;5;241m=\u001b[39m \u001b[38;5;28mself\u001b[39m\u001b[38;5;241m.\u001b[39m_next_data()\n\u001b[1;32m    709\u001b[0m \u001b[38;5;28mself\u001b[39m\u001b[38;5;241m.\u001b[39m_num_yielded \u001b[38;5;241m+\u001b[39m\u001b[38;5;241m=\u001b[39m \u001b[38;5;241m1\u001b[39m\n\u001b[1;32m    710\u001b[0m \u001b[38;5;28;01mif\u001b[39;00m (\n\u001b[1;32m    711\u001b[0m     \u001b[38;5;28mself\u001b[39m\u001b[38;5;241m.\u001b[39m_dataset_kind \u001b[38;5;241m==\u001b[39m _DatasetKind\u001b[38;5;241m.\u001b[39mIterable\n\u001b[1;32m    712\u001b[0m     \u001b[38;5;129;01mand\u001b[39;00m \u001b[38;5;28mself\u001b[39m\u001b[38;5;241m.\u001b[39m_IterableDataset_len_called \u001b[38;5;129;01mis\u001b[39;00m \u001b[38;5;129;01mnot\u001b[39;00m \u001b[38;5;28;01mNone\u001b[39;00m\n\u001b[1;32m    713\u001b[0m     \u001b[38;5;129;01mand\u001b[39;00m \u001b[38;5;28mself\u001b[39m\u001b[38;5;241m.\u001b[39m_num_yielded \u001b[38;5;241m>\u001b[39m \u001b[38;5;28mself\u001b[39m\u001b[38;5;241m.\u001b[39m_IterableDataset_len_called\n\u001b[1;32m    714\u001b[0m ):\n",
      "File \u001b[0;32m~/anaconda3/envs/A/lib/python3.12/site-packages/torch/utils/data/dataloader.py:764\u001b[0m, in \u001b[0;36m_SingleProcessDataLoaderIter._next_data\u001b[0;34m(self)\u001b[0m\n\u001b[1;32m    762\u001b[0m \u001b[38;5;28;01mdef\u001b[39;00m \u001b[38;5;21m_next_data\u001b[39m(\u001b[38;5;28mself\u001b[39m):\n\u001b[1;32m    763\u001b[0m     index \u001b[38;5;241m=\u001b[39m \u001b[38;5;28mself\u001b[39m\u001b[38;5;241m.\u001b[39m_next_index()  \u001b[38;5;66;03m# may raise StopIteration\u001b[39;00m\n\u001b[0;32m--> 764\u001b[0m     data \u001b[38;5;241m=\u001b[39m \u001b[38;5;28mself\u001b[39m\u001b[38;5;241m.\u001b[39m_dataset_fetcher\u001b[38;5;241m.\u001b[39mfetch(index)  \u001b[38;5;66;03m# may raise StopIteration\u001b[39;00m\n\u001b[1;32m    765\u001b[0m     \u001b[38;5;28;01mif\u001b[39;00m \u001b[38;5;28mself\u001b[39m\u001b[38;5;241m.\u001b[39m_pin_memory:\n\u001b[1;32m    766\u001b[0m         data \u001b[38;5;241m=\u001b[39m _utils\u001b[38;5;241m.\u001b[39mpin_memory\u001b[38;5;241m.\u001b[39mpin_memory(data, \u001b[38;5;28mself\u001b[39m\u001b[38;5;241m.\u001b[39m_pin_memory_device)\n",
      "File \u001b[0;32m~/anaconda3/envs/A/lib/python3.12/site-packages/torch/utils/data/_utils/fetch.py:52\u001b[0m, in \u001b[0;36m_MapDatasetFetcher.fetch\u001b[0;34m(self, possibly_batched_index)\u001b[0m\n\u001b[1;32m     50\u001b[0m         data \u001b[38;5;241m=\u001b[39m \u001b[38;5;28mself\u001b[39m\u001b[38;5;241m.\u001b[39mdataset\u001b[38;5;241m.\u001b[39m__getitems__(possibly_batched_index)\n\u001b[1;32m     51\u001b[0m     \u001b[38;5;28;01melse\u001b[39;00m:\n\u001b[0;32m---> 52\u001b[0m         data \u001b[38;5;241m=\u001b[39m [\u001b[38;5;28mself\u001b[39m\u001b[38;5;241m.\u001b[39mdataset[idx] \u001b[38;5;28;01mfor\u001b[39;00m idx \u001b[38;5;129;01min\u001b[39;00m possibly_batched_index]\n\u001b[1;32m     53\u001b[0m \u001b[38;5;28;01melse\u001b[39;00m:\n\u001b[1;32m     54\u001b[0m     data \u001b[38;5;241m=\u001b[39m \u001b[38;5;28mself\u001b[39m\u001b[38;5;241m.\u001b[39mdataset[possibly_batched_index]\n",
      "File \u001b[0;32m~/my_study/forest_carbon_ai/model/classification/utils/utils.py:300\u001b[0m, in \u001b[0;36mTiffDataset.__getitem__\u001b[0;34m(self, idx)\u001b[0m\n\u001b[1;32m    297\u001b[0m patch \u001b[38;5;241m=\u001b[39m image[y_start:y_end, x_start:x_end]\n\u001b[1;32m    299\u001b[0m \u001b[38;5;28;01mif\u001b[39;00m \u001b[38;5;28mself\u001b[39m\u001b[38;5;241m.\u001b[39mtransform:\n\u001b[0;32m--> 300\u001b[0m     patch \u001b[38;5;241m=\u001b[39m \u001b[38;5;28mself\u001b[39m\u001b[38;5;241m.\u001b[39mtransform(patch)\n\u001b[1;32m    302\u001b[0m \u001b[38;5;28;01mreturn\u001b[39;00m patch, label\n",
      "File \u001b[0;32m~/anaconda3/envs/A/lib/python3.12/site-packages/torchvision/transforms/transforms.py:95\u001b[0m, in \u001b[0;36mCompose.__call__\u001b[0;34m(self, img)\u001b[0m\n\u001b[1;32m     93\u001b[0m \u001b[38;5;28;01mdef\u001b[39;00m \u001b[38;5;21m__call__\u001b[39m(\u001b[38;5;28mself\u001b[39m, img):\n\u001b[1;32m     94\u001b[0m     \u001b[38;5;28;01mfor\u001b[39;00m t \u001b[38;5;129;01min\u001b[39;00m \u001b[38;5;28mself\u001b[39m\u001b[38;5;241m.\u001b[39mtransforms:\n\u001b[0;32m---> 95\u001b[0m         img \u001b[38;5;241m=\u001b[39m t(img)\n\u001b[1;32m     96\u001b[0m     \u001b[38;5;28;01mreturn\u001b[39;00m img\n",
      "\u001b[0;31mKeyboardInterrupt\u001b[0m: "
     ]
    }
   ],
   "source": [
    "num_epochs = 30\n",
    "\n",
    "best_model_state, train_losses, val_losses = train_model(model, train_loader, val_loader, criterion, optimizer, num_epochs=num_epochs, patience=100)\n",
    "os.makedirs(\"./checkpoints/hybrid\", exist_ok=True)\n",
    "torch.save(best_model_state, f\"./checkpoints/hybrid/hybrid_{bands}_{patch_size}_{num_epochs}.pth\")\n",
    "\n",
    "model.load_state_dict(best_model_state)\n",
    "\n",
    "print(\"\\ntrain data\")\n",
    "evaluate_model_with_cm(model, train_loader, num_classes=6)\n",
    "print(\"\\nvalidation data\")\n",
    "evaluate_model_with_cm(model, val_loader, num_classes=6)"
   ]
  },
  {
   "cell_type": "code",
   "execution_count": 13,
   "metadata": {},
   "outputs": [],
   "source": [
    "import torch\n",
    "import torch.nn as nn\n",
    "import torch.optim as optim\n",
    "\n",
    "# ✅ Depthwise 2+1D CNN Feature Extractor\n",
    "class ConvFeatureExtractor(nn.Module):\n",
    "    def __init__(self, in_channels=4, hidden_dim=12):\n",
    "        super().__init__()\n",
    "        self.conv1 = nn.Conv3d(in_channels, hidden_dim, kernel_size=(1, 3, 3), padding=(0, 1, 1))\n",
    "        self.bn1 = nn.BatchNorm3d(hidden_dim)\n",
    "        self.relu = nn.ReLU()\n",
    "        \n",
    "        self.conv2 = nn.Conv3d(hidden_dim, hidden_dim * 2, kernel_size=(3, 1, 1), padding=(1, 0, 0))\n",
    "        self.bn2 = nn.BatchNorm3d(hidden_dim * 2)\n",
    "        \n",
    "        self.conv3 = nn.Conv3d(hidden_dim * 2, hidden_dim * 4, kernel_size=(1, 3, 3), padding=(0, 1, 1))\n",
    "        self.bn3 = nn.BatchNorm3d(hidden_dim * 4)\n",
    "        \n",
    "    def forward(self, x):\n",
    "        x = self.relu(self.bn1(self.conv1(x)))\n",
    "        x = self.relu(self.bn2(self.conv2(x)))\n",
    "        x = self.relu(self.bn3(self.conv3(x)))\n",
    "        return x  # (batch, 48, 12, 9, 9)\n",
    "\n",
    "# ✅ Squeeze-and-Excitation (SE) Block\n",
    "class SEBlock(nn.Module):\n",
    "    def __init__(self, in_channels, reduction=12):\n",
    "        super().__init__()\n",
    "        self.global_avg_pool = nn.AdaptiveAvgPool3d(1)\n",
    "        self.fc = nn.Sequential(\n",
    "            nn.Linear(in_channels, in_channels // reduction),\n",
    "            nn.ReLU(),\n",
    "            nn.Linear(in_channels // reduction, in_channels),\n",
    "            nn.Sigmoid()\n",
    "        )\n",
    "\n",
    "    def forward(self, x):\n",
    "        batch, channels, _, _, _ = x.shape\n",
    "        se_weight = self.global_avg_pool(x).view(batch, channels)\n",
    "        se_weight = self.fc(se_weight).view(batch, channels, 1, 1, 1)\n",
    "        return x * se_weight\n",
    "\n",
    "# ✅ Transformer Encoder\n",
    "class TransformerModel(nn.Module):\n",
    "    def __init__(self, d_model=48, num_heads=2, num_layers=1, dropout=0.1):\n",
    "        super().__init__()\n",
    "        encoder_layer = nn.TransformerEncoderLayer(d_model=d_model, nhead=num_heads, dropout=dropout)\n",
    "        self.transformer = nn.TransformerEncoder(encoder_layer, num_layers=num_layers)\n",
    "        self.fc = nn.Linear(d_model, 6)  # Output 6 classes\n",
    "    \n",
    "    def forward(self, x):\n",
    "        x = self.transformer(x)  # (batch, seq_len, d_model)\n",
    "        x = x.mean(dim=1)  # Global Average Pooling\n",
    "        x = self.fc(x)\n",
    "        return x\n",
    "\n",
    "# ✅ Hybrid Model\n",
    "class HybridCNNTransformer(nn.Module):\n",
    "    def __init__(self, in_channels=4, num_classes=6):\n",
    "        super().__init__()\n",
    "        self.cnn = ConvFeatureExtractor(in_channels, hidden_dim=12)\n",
    "        self.se = SEBlock(48)\n",
    "        self.transformer = TransformerModel(d_model=48)\n",
    "\n",
    "    def forward(self, x):\n",
    "        x = self.cnn(x)  # CNN Feature Extraction\n",
    "        x = self.se(x)  # SE Attention\n",
    "        x = x.flatten(2).permute(0, 2, 1)  # (batch, 12, 48)\n",
    "        x = self.transformer(x)  # Transformer 처리\n",
    "        return x"
   ]
  },
  {
   "cell_type": "code",
   "execution_count": 14,
   "metadata": {},
   "outputs": [
    {
     "name": "stdout",
     "output_type": "stream",
     "text": [
      "Transformer 모델 파라미터 개수: 220950\n"
     ]
    }
   ],
   "source": [
    "# ✅ Model Initialization\n",
    "model = HybridCNNTransformer(in_channels=4, num_classes=6).cuda()\n",
    "\n",
    "# ✅ Optimizer & Scheduler\n",
    "optimizer = optim.AdamW(model.parameters(), lr=1e-4, weight_decay=1e-4)\n",
    "criterion = nn.CrossEntropyLoss()\n",
    "\n",
    "total_params = sum(p.numel() for p in model.parameters() if p.requires_grad)\n",
    "print(f\"Transformer 모델 파라미터 개수: {total_params}\")"
   ]
  },
  {
   "cell_type": "code",
   "execution_count": 15,
   "metadata": {},
   "outputs": [
    {
     "name": "stderr",
     "output_type": "stream",
     "text": [
      "Epoch 1/30 - Training: 100%|█████████████████████████████████████████████████| 3502/3502 [02:22<00:00, 24.57it/s]\n",
      "Epoch 1/30 - Validation: 100%|███████████████████████████████████████████████| 1207/1207 [00:18<00:00, 65.24it/s]\n"
     ]
    },
    {
     "name": "stdout",
     "output_type": "stream",
     "text": [
      "\n",
      "Epoch [1/30], Train Loss: 0.7421, Train Accuracy: 71.84%, Val Loss: 0.8974, Val Accuracy: 67.60%\n",
      "\n"
     ]
    },
    {
     "name": "stderr",
     "output_type": "stream",
     "text": [
      "Epoch 2/30 - Training: 100%|█████████████████████████████████████████████████| 3502/3502 [02:22<00:00, 24.65it/s]\n",
      "Epoch 2/30 - Validation: 100%|███████████████████████████████████████████████| 1207/1207 [00:18<00:00, 63.70it/s]\n"
     ]
    },
    {
     "name": "stdout",
     "output_type": "stream",
     "text": [
      "\n",
      "Epoch [2/30], Train Loss: 0.4983, Train Accuracy: 80.86%, Val Loss: 0.9578, Val Accuracy: 66.97%\n",
      "\n"
     ]
    },
    {
     "name": "stderr",
     "output_type": "stream",
     "text": [
      "Epoch 3/30 - Training: 100%|█████████████████████████████████████████████████| 3502/3502 [02:21<00:00, 24.66it/s]\n",
      "Epoch 3/30 - Validation: 100%|███████████████████████████████████████████████| 1207/1207 [00:19<00:00, 62.71it/s]\n"
     ]
    },
    {
     "name": "stdout",
     "output_type": "stream",
     "text": [
      "\n",
      "Epoch [3/30], Train Loss: 0.4374, Train Accuracy: 83.31%, Val Loss: 0.9972, Val Accuracy: 65.51%\n",
      "\n"
     ]
    },
    {
     "name": "stderr",
     "output_type": "stream",
     "text": [
      "Epoch 4/30 - Training:  56%|███████████████████████████▍                     | 1965/3502 [01:19<01:02, 24.66it/s]\n"
     ]
    },
    {
     "ename": "KeyboardInterrupt",
     "evalue": "",
     "output_type": "error",
     "traceback": [
      "\u001b[0;31m---------------------------------------------------------------------------\u001b[0m",
      "\u001b[0;31mKeyboardInterrupt\u001b[0m                         Traceback (most recent call last)",
      "Cell \u001b[0;32mIn[15], line 3\u001b[0m\n\u001b[1;32m      1\u001b[0m num_epochs \u001b[38;5;241m=\u001b[39m \u001b[38;5;241m30\u001b[39m\n\u001b[0;32m----> 3\u001b[0m best_model_state, train_losses, val_losses \u001b[38;5;241m=\u001b[39m train_model(model, train_loader, val_loader, criterion, optimizer, num_epochs\u001b[38;5;241m=\u001b[39mnum_epochs, patience\u001b[38;5;241m=\u001b[39m\u001b[38;5;241m100\u001b[39m)\n\u001b[1;32m      4\u001b[0m \u001b[38;5;66;03m# os.makedirs(\"./checkpoints/hybrid\", exist_ok=True)\u001b[39;00m\n\u001b[1;32m      5\u001b[0m \u001b[38;5;66;03m# torch.save(best_model_state, f\"./checkpoints/hybrid/hybrid_{bands}_{patch_size}_{num_epochs}.pth\")\u001b[39;00m\n\u001b[1;32m      7\u001b[0m model\u001b[38;5;241m.\u001b[39mload_state_dict(best_model_state)\n",
      "File \u001b[0;32m~/my_study/forest_carbon_ai/model/classification/utils/utils.py:32\u001b[0m, in \u001b[0;36mtrain_model\u001b[0;34m(model, train_loader, val_loader, criterion, optimizer, num_epochs, patience)\u001b[0m\n\u001b[1;32m     29\u001b[0m correct \u001b[38;5;241m=\u001b[39m \u001b[38;5;241m0\u001b[39m\n\u001b[1;32m     30\u001b[0m total \u001b[38;5;241m=\u001b[39m \u001b[38;5;241m0\u001b[39m\n\u001b[0;32m---> 32\u001b[0m \u001b[38;5;28;01mfor\u001b[39;00m images, labels \u001b[38;5;129;01min\u001b[39;00m tqdm(train_loader, desc\u001b[38;5;241m=\u001b[39m\u001b[38;5;124mf\u001b[39m\u001b[38;5;124m\"\u001b[39m\u001b[38;5;124mEpoch \u001b[39m\u001b[38;5;132;01m{\u001b[39;00mepoch\u001b[38;5;241m+\u001b[39m\u001b[38;5;241m1\u001b[39m\u001b[38;5;132;01m}\u001b[39;00m\u001b[38;5;124m/\u001b[39m\u001b[38;5;132;01m{\u001b[39;00mnum_epochs\u001b[38;5;132;01m}\u001b[39;00m\u001b[38;5;124m - Training\u001b[39m\u001b[38;5;124m\"\u001b[39m):\n\u001b[1;32m     33\u001b[0m     images, labels \u001b[38;5;241m=\u001b[39m images\u001b[38;5;241m.\u001b[39mto(device), labels\u001b[38;5;241m.\u001b[39mto(device)\n\u001b[1;32m     35\u001b[0m     optimizer\u001b[38;5;241m.\u001b[39mzero_grad()\n",
      "File \u001b[0;32m~/anaconda3/envs/A/lib/python3.12/site-packages/tqdm/std.py:1181\u001b[0m, in \u001b[0;36mtqdm.__iter__\u001b[0;34m(self)\u001b[0m\n\u001b[1;32m   1178\u001b[0m time \u001b[38;5;241m=\u001b[39m \u001b[38;5;28mself\u001b[39m\u001b[38;5;241m.\u001b[39m_time\n\u001b[1;32m   1180\u001b[0m \u001b[38;5;28;01mtry\u001b[39;00m:\n\u001b[0;32m-> 1181\u001b[0m     \u001b[38;5;28;01mfor\u001b[39;00m obj \u001b[38;5;129;01min\u001b[39;00m iterable:\n\u001b[1;32m   1182\u001b[0m         \u001b[38;5;28;01myield\u001b[39;00m obj\n\u001b[1;32m   1183\u001b[0m         \u001b[38;5;66;03m# Update and possibly print the progressbar.\u001b[39;00m\n\u001b[1;32m   1184\u001b[0m         \u001b[38;5;66;03m# Note: does not call self.update(1) for speed optimisation.\u001b[39;00m\n",
      "File \u001b[0;32m~/anaconda3/envs/A/lib/python3.12/site-packages/torch/utils/data/dataloader.py:708\u001b[0m, in \u001b[0;36m_BaseDataLoaderIter.__next__\u001b[0;34m(self)\u001b[0m\n\u001b[1;32m    705\u001b[0m \u001b[38;5;28;01mif\u001b[39;00m \u001b[38;5;28mself\u001b[39m\u001b[38;5;241m.\u001b[39m_sampler_iter \u001b[38;5;129;01mis\u001b[39;00m \u001b[38;5;28;01mNone\u001b[39;00m:\n\u001b[1;32m    706\u001b[0m     \u001b[38;5;66;03m# TODO(https://github.com/pytorch/pytorch/issues/76750)\u001b[39;00m\n\u001b[1;32m    707\u001b[0m     \u001b[38;5;28mself\u001b[39m\u001b[38;5;241m.\u001b[39m_reset()  \u001b[38;5;66;03m# type: ignore[call-arg]\u001b[39;00m\n\u001b[0;32m--> 708\u001b[0m data \u001b[38;5;241m=\u001b[39m \u001b[38;5;28mself\u001b[39m\u001b[38;5;241m.\u001b[39m_next_data()\n\u001b[1;32m    709\u001b[0m \u001b[38;5;28mself\u001b[39m\u001b[38;5;241m.\u001b[39m_num_yielded \u001b[38;5;241m+\u001b[39m\u001b[38;5;241m=\u001b[39m \u001b[38;5;241m1\u001b[39m\n\u001b[1;32m    710\u001b[0m \u001b[38;5;28;01mif\u001b[39;00m (\n\u001b[1;32m    711\u001b[0m     \u001b[38;5;28mself\u001b[39m\u001b[38;5;241m.\u001b[39m_dataset_kind \u001b[38;5;241m==\u001b[39m _DatasetKind\u001b[38;5;241m.\u001b[39mIterable\n\u001b[1;32m    712\u001b[0m     \u001b[38;5;129;01mand\u001b[39;00m \u001b[38;5;28mself\u001b[39m\u001b[38;5;241m.\u001b[39m_IterableDataset_len_called \u001b[38;5;129;01mis\u001b[39;00m \u001b[38;5;129;01mnot\u001b[39;00m \u001b[38;5;28;01mNone\u001b[39;00m\n\u001b[1;32m    713\u001b[0m     \u001b[38;5;129;01mand\u001b[39;00m \u001b[38;5;28mself\u001b[39m\u001b[38;5;241m.\u001b[39m_num_yielded \u001b[38;5;241m>\u001b[39m \u001b[38;5;28mself\u001b[39m\u001b[38;5;241m.\u001b[39m_IterableDataset_len_called\n\u001b[1;32m    714\u001b[0m ):\n",
      "File \u001b[0;32m~/anaconda3/envs/A/lib/python3.12/site-packages/torch/utils/data/dataloader.py:764\u001b[0m, in \u001b[0;36m_SingleProcessDataLoaderIter._next_data\u001b[0;34m(self)\u001b[0m\n\u001b[1;32m    762\u001b[0m \u001b[38;5;28;01mdef\u001b[39;00m \u001b[38;5;21m_next_data\u001b[39m(\u001b[38;5;28mself\u001b[39m):\n\u001b[1;32m    763\u001b[0m     index \u001b[38;5;241m=\u001b[39m \u001b[38;5;28mself\u001b[39m\u001b[38;5;241m.\u001b[39m_next_index()  \u001b[38;5;66;03m# may raise StopIteration\u001b[39;00m\n\u001b[0;32m--> 764\u001b[0m     data \u001b[38;5;241m=\u001b[39m \u001b[38;5;28mself\u001b[39m\u001b[38;5;241m.\u001b[39m_dataset_fetcher\u001b[38;5;241m.\u001b[39mfetch(index)  \u001b[38;5;66;03m# may raise StopIteration\u001b[39;00m\n\u001b[1;32m    765\u001b[0m     \u001b[38;5;28;01mif\u001b[39;00m \u001b[38;5;28mself\u001b[39m\u001b[38;5;241m.\u001b[39m_pin_memory:\n\u001b[1;32m    766\u001b[0m         data \u001b[38;5;241m=\u001b[39m _utils\u001b[38;5;241m.\u001b[39mpin_memory\u001b[38;5;241m.\u001b[39mpin_memory(data, \u001b[38;5;28mself\u001b[39m\u001b[38;5;241m.\u001b[39m_pin_memory_device)\n",
      "File \u001b[0;32m~/anaconda3/envs/A/lib/python3.12/site-packages/torch/utils/data/_utils/fetch.py:52\u001b[0m, in \u001b[0;36m_MapDatasetFetcher.fetch\u001b[0;34m(self, possibly_batched_index)\u001b[0m\n\u001b[1;32m     50\u001b[0m         data \u001b[38;5;241m=\u001b[39m \u001b[38;5;28mself\u001b[39m\u001b[38;5;241m.\u001b[39mdataset\u001b[38;5;241m.\u001b[39m__getitems__(possibly_batched_index)\n\u001b[1;32m     51\u001b[0m     \u001b[38;5;28;01melse\u001b[39;00m:\n\u001b[0;32m---> 52\u001b[0m         data \u001b[38;5;241m=\u001b[39m [\u001b[38;5;28mself\u001b[39m\u001b[38;5;241m.\u001b[39mdataset[idx] \u001b[38;5;28;01mfor\u001b[39;00m idx \u001b[38;5;129;01min\u001b[39;00m possibly_batched_index]\n\u001b[1;32m     53\u001b[0m \u001b[38;5;28;01melse\u001b[39;00m:\n\u001b[1;32m     54\u001b[0m     data \u001b[38;5;241m=\u001b[39m \u001b[38;5;28mself\u001b[39m\u001b[38;5;241m.\u001b[39mdataset[possibly_batched_index]\n",
      "File \u001b[0;32m~/my_study/forest_carbon_ai/model/classification/utils/utils.py:300\u001b[0m, in \u001b[0;36mTiffDataset.__getitem__\u001b[0;34m(self, idx)\u001b[0m\n\u001b[1;32m    297\u001b[0m patch \u001b[38;5;241m=\u001b[39m image[y_start:y_end, x_start:x_end]\n\u001b[1;32m    299\u001b[0m \u001b[38;5;28;01mif\u001b[39;00m \u001b[38;5;28mself\u001b[39m\u001b[38;5;241m.\u001b[39mtransform:\n\u001b[0;32m--> 300\u001b[0m     patch \u001b[38;5;241m=\u001b[39m \u001b[38;5;28mself\u001b[39m\u001b[38;5;241m.\u001b[39mtransform(patch)\n\u001b[1;32m    302\u001b[0m \u001b[38;5;28;01mreturn\u001b[39;00m patch, label\n",
      "File \u001b[0;32m~/anaconda3/envs/A/lib/python3.12/site-packages/torchvision/transforms/transforms.py:95\u001b[0m, in \u001b[0;36mCompose.__call__\u001b[0;34m(self, img)\u001b[0m\n\u001b[1;32m     93\u001b[0m \u001b[38;5;28;01mdef\u001b[39;00m \u001b[38;5;21m__call__\u001b[39m(\u001b[38;5;28mself\u001b[39m, img):\n\u001b[1;32m     94\u001b[0m     \u001b[38;5;28;01mfor\u001b[39;00m t \u001b[38;5;129;01min\u001b[39;00m \u001b[38;5;28mself\u001b[39m\u001b[38;5;241m.\u001b[39mtransforms:\n\u001b[0;32m---> 95\u001b[0m         img \u001b[38;5;241m=\u001b[39m t(img)\n\u001b[1;32m     96\u001b[0m     \u001b[38;5;28;01mreturn\u001b[39;00m img\n",
      "File \u001b[0;32m~/anaconda3/envs/A/lib/python3.12/site-packages/torchvision/transforms/transforms.py:137\u001b[0m, in \u001b[0;36mToTensor.__call__\u001b[0;34m(self, pic)\u001b[0m\n\u001b[1;32m    129\u001b[0m \u001b[38;5;28;01mdef\u001b[39;00m \u001b[38;5;21m__call__\u001b[39m(\u001b[38;5;28mself\u001b[39m, pic):\n\u001b[1;32m    130\u001b[0m \u001b[38;5;250m    \u001b[39m\u001b[38;5;124;03m\"\"\"\u001b[39;00m\n\u001b[1;32m    131\u001b[0m \u001b[38;5;124;03m    Args:\u001b[39;00m\n\u001b[1;32m    132\u001b[0m \u001b[38;5;124;03m        pic (PIL Image or numpy.ndarray): Image to be converted to tensor.\u001b[39;00m\n\u001b[0;32m   (...)\u001b[0m\n\u001b[1;32m    135\u001b[0m \u001b[38;5;124;03m        Tensor: Converted image.\u001b[39;00m\n\u001b[1;32m    136\u001b[0m \u001b[38;5;124;03m    \"\"\"\u001b[39;00m\n\u001b[0;32m--> 137\u001b[0m     \u001b[38;5;28;01mreturn\u001b[39;00m F\u001b[38;5;241m.\u001b[39mto_tensor(pic)\n",
      "File \u001b[0;32m~/anaconda3/envs/A/lib/python3.12/site-packages/torchvision/transforms/functional.py:154\u001b[0m, in \u001b[0;36mto_tensor\u001b[0;34m(pic)\u001b[0m\n\u001b[1;32m    151\u001b[0m \u001b[38;5;28;01mif\u001b[39;00m pic\u001b[38;5;241m.\u001b[39mndim \u001b[38;5;241m==\u001b[39m \u001b[38;5;241m2\u001b[39m:\n\u001b[1;32m    152\u001b[0m     pic \u001b[38;5;241m=\u001b[39m pic[:, :, \u001b[38;5;28;01mNone\u001b[39;00m]\n\u001b[0;32m--> 154\u001b[0m img \u001b[38;5;241m=\u001b[39m torch\u001b[38;5;241m.\u001b[39mfrom_numpy(pic\u001b[38;5;241m.\u001b[39mtranspose((\u001b[38;5;241m2\u001b[39m, \u001b[38;5;241m0\u001b[39m, \u001b[38;5;241m1\u001b[39m)))\u001b[38;5;241m.\u001b[39mcontiguous()\n\u001b[1;32m    155\u001b[0m \u001b[38;5;66;03m# backward compatibility\u001b[39;00m\n\u001b[1;32m    156\u001b[0m \u001b[38;5;28;01mif\u001b[39;00m \u001b[38;5;28misinstance\u001b[39m(img, torch\u001b[38;5;241m.\u001b[39mByteTensor):\n",
      "\u001b[0;31mKeyboardInterrupt\u001b[0m: "
     ]
    }
   ],
   "source": [
    "num_epochs = 30\n",
    "\n",
    "best_model_state, train_losses, val_losses = train_model(model, train_loader, val_loader, criterion, optimizer, num_epochs=num_epochs, patience=100)\n",
    "# os.makedirs(\"./checkpoints/hybrid\", exist_ok=True)\n",
    "# torch.save(best_model_state, f\"./checkpoints/hybrid/hybrid_{bands}_{patch_size}_{num_epochs}.pth\")\n",
    "\n",
    "model.load_state_dict(best_model_state)\n",
    "\n",
    "print(\"\\ntrain data\")\n",
    "evaluate_model_with_cm(model, train_loader, num_classes=6)\n",
    "print(\"\\nvalidation data\")\n",
    "evaluate_model_with_cm(model, val_loader, num_classes=6)"
   ]
  },
  {
   "cell_type": "markdown",
   "metadata": {},
   "source": [
    "새로운 transformer 모델"
   ]
  },
  {
   "cell_type": "code",
   "execution_count": 17,
   "metadata": {},
   "outputs": [],
   "source": [
    "import torch\n",
    "import torch.nn as nn\n",
    "import torch.nn.functional as F\n",
    "\n",
    "class SwishGLU(nn.Module):\n",
    "    def forward(self, x):\n",
    "        x1, x2 = x.chunk(2, dim=-1)\n",
    "        return x1 * torch.sigmoid(x2)\n",
    "\n",
    "class FeedForwardBlock(nn.Module):\n",
    "    def __init__(self, embed_dim, expand_ratio=2, dropout=0.1):\n",
    "        super().__init__()\n",
    "        hidden_dim = embed_dim * expand_ratio\n",
    "        self.fc1 = nn.Linear(embed_dim, hidden_dim * 2)  # swiglu는 채널을 2배로 나눔\n",
    "        self.act = SwishGLU()\n",
    "        self.fc2 = nn.Linear(hidden_dim, embed_dim)\n",
    "        self.norm = nn.LayerNorm(embed_dim)\n",
    "        self.dropout = nn.Dropout(dropout)\n",
    "    \n",
    "    def forward(self, x):\n",
    "        x = self.fc1(x)\n",
    "        x = self.act(x)\n",
    "        x = self.fc2(x)\n",
    "        x = self.dropout(x)\n",
    "        return self.norm(x)\n",
    "\n",
    "class VideoTransformer(nn.Module):\n",
    "    def __init__(self, band, time, height, width, num_classes, num_layers=6, nhead=4, dropout=0.1):\n",
    "        super().__init__()\n",
    "        self.embed_dim = band * height * width  # Flattened spatial feature size\n",
    "        self.token_size = time\n",
    "        \n",
    "        self.input_norm = nn.LayerNorm(self.embed_dim)\n",
    "        encoder_layer = nn.TransformerEncoderLayer(\n",
    "            d_model=self.embed_dim, nhead=nhead, dim_feedforward=4*self.embed_dim,\n",
    "            dropout=dropout, activation=\"gelu\", batch_first=True\n",
    "        )\n",
    "        self.transformer_encoder = nn.TransformerEncoder(encoder_layer, num_layers=num_layers)\n",
    "        \n",
    "        self.ff_block = FeedForwardBlock(self.embed_dim, expand_ratio=2, dropout=dropout)\n",
    "        self.classifier = nn.Linear(self.embed_dim, num_classes)\n",
    "    \n",
    "    def forward(self, x):\n",
    "        # x shape: (batch, band, time, height, width)\n",
    "        x = x.permute(0, 2, 1, 3, 4)  # (batch, time, band, height, width)\n",
    "        x = x.flatten(2)  # (batch, time, band*height*width)\n",
    "        x = self.input_norm(x)\n",
    "        \n",
    "        x = self.ff_block(x)  # FeedForward Block\n",
    "        x = self.transformer_encoder(x)  # Transformer Encoder\n",
    "        \n",
    "        x = x.mean(dim=1)  # (batch, embed_dim)\n",
    "        return self.classifier(x)\n"
   ]
  },
  {
   "cell_type": "code",
   "execution_count": 18,
   "metadata": {},
   "outputs": [],
   "source": [
    "# 모델 선언\n",
    "\n",
    "nhead = {}\n",
    "band, time = 4, 12  # 예제 입력 크기\n",
    "num_classes = 6\n",
    "model = VideoTransformer(band, time, patch_size, patch_size, patch_size+3, num_classes).to(device)\n",
    "\n",
    "# 옵티마이저 및 손실 함수\n",
    "optimizer = torch.optim.AdamW(model.parameters(), lr=3e-4, weight_decay=1e-4)\n",
    "criterion = nn.CrossEntropyLoss()\n"
   ]
  },
  {
   "cell_type": "code",
   "execution_count": 19,
   "metadata": {},
   "outputs": [
    {
     "name": "stderr",
     "output_type": "stream",
     "text": [
      "Epoch 1/30 - Training: 100%|█████████████████████████████████████████████████████████████████████████████████████████████████████████████████████████████████| 3502/3502 [01:26<00:00, 40.41it/s]\n",
      "Epoch 1/30 - Validation: 100%|███████████████████████████████████████████████████████████████████████████████████████████████████████████████████████████████| 1207/1207 [00:12<00:00, 94.17it/s]\n"
     ]
    },
    {
     "name": "stdout",
     "output_type": "stream",
     "text": [
      "\n",
      "Epoch [1/30], Train Loss: 0.7633, Train Accuracy: 69.21%, Val Loss: 0.7126, Val Accuracy: 70.10%\n",
      "\n"
     ]
    },
    {
     "name": "stderr",
     "output_type": "stream",
     "text": [
      "Epoch 2/30 - Training: 100%|█████████████████████████████████████████████████████████████████████████████████████████████████████████████████████████████████| 3502/3502 [01:27<00:00, 40.12it/s]\n",
      "Epoch 2/30 - Validation: 100%|███████████████████████████████████████████████████████████████████████████████████████████████████████████████████████████████| 1207/1207 [00:12<00:00, 96.86it/s]\n"
     ]
    },
    {
     "name": "stdout",
     "output_type": "stream",
     "text": [
      "\n",
      "Epoch [2/30], Train Loss: 0.6379, Train Accuracy: 74.01%, Val Loss: 0.7414, Val Accuracy: 67.65%\n",
      "\n"
     ]
    },
    {
     "name": "stderr",
     "output_type": "stream",
     "text": [
      "Epoch 3/30 - Training: 100%|█████████████████████████████████████████████████████████████████████████████████████████████████████████████████████████████████| 3502/3502 [01:25<00:00, 40.89it/s]\n",
      "Epoch 3/30 - Validation: 100%|██████████████████████████████████████████████████████████████████████████████████████████████████████████████████████████████| 1207/1207 [00:12<00:00, 100.44it/s]\n"
     ]
    },
    {
     "name": "stdout",
     "output_type": "stream",
     "text": [
      "\n",
      "Epoch [3/30], Train Loss: 0.6235, Train Accuracy: 74.79%, Val Loss: 0.7117, Val Accuracy: 71.76%\n",
      "\n"
     ]
    },
    {
     "name": "stderr",
     "output_type": "stream",
     "text": [
      "Epoch 4/30 - Training: 100%|█████████████████████████████████████████████████████████████████████████████████████████████████████████████████████████████████| 3502/3502 [01:21<00:00, 42.73it/s]\n",
      "Epoch 4/30 - Validation: 100%|██████████████████████████████████████████████████████████████████████████████████████████████████████████████████████████████| 1207/1207 [00:11<00:00, 100.94it/s]\n"
     ]
    },
    {
     "name": "stdout",
     "output_type": "stream",
     "text": [
      "\n",
      "Epoch [4/30], Train Loss: 0.8231, Train Accuracy: 66.46%, Val Loss: 0.9531, Val Accuracy: 65.78%\n",
      "\n"
     ]
    },
    {
     "name": "stderr",
     "output_type": "stream",
     "text": [
      "Epoch 5/30 - Training: 100%|█████████████████████████████████████████████████████████████████████████████████████████████████████████████████████████████████| 3502/3502 [01:26<00:00, 40.35it/s]\n",
      "Epoch 5/30 - Validation: 100%|███████████████████████████████████████████████████████████████████████████████████████████████████████████████████████████████| 1207/1207 [00:12<00:00, 97.74it/s]\n"
     ]
    },
    {
     "name": "stdout",
     "output_type": "stream",
     "text": [
      "\n",
      "Epoch [5/30], Train Loss: 0.8123, Train Accuracy: 66.83%, Val Loss: 0.7564, Val Accuracy: 69.92%\n",
      "\n"
     ]
    },
    {
     "name": "stderr",
     "output_type": "stream",
     "text": [
      "Epoch 6/30 - Training: 100%|█████████████████████████████████████████████████████████████████████████████████████████████████████████████████████████████████| 3502/3502 [01:21<00:00, 43.12it/s]\n",
      "Epoch 6/30 - Validation: 100%|██████████████████████████████████████████████████████████████████████████████████████████████████████████████████████████████| 1207/1207 [00:11<00:00, 103.09it/s]\n"
     ]
    },
    {
     "name": "stdout",
     "output_type": "stream",
     "text": [
      "\n",
      "Epoch [6/30], Train Loss: 0.8592, Train Accuracy: 64.73%, Val Loss: 0.7828, Val Accuracy: 67.76%\n",
      "\n"
     ]
    },
    {
     "name": "stderr",
     "output_type": "stream",
     "text": [
      "Epoch 7/30 - Training: 100%|█████████████████████████████████████████████████████████████████████████████████████████████████████████████████████████████████| 3502/3502 [01:20<00:00, 43.31it/s]\n",
      "Epoch 7/30 - Validation: 100%|██████████████████████████████████████████████████████████████████████████████████████████████████████████████████████████████| 1207/1207 [00:11<00:00, 102.91it/s]\n"
     ]
    },
    {
     "name": "stdout",
     "output_type": "stream",
     "text": [
      "\n",
      "Epoch [7/30], Train Loss: 0.9770, Train Accuracy: 58.50%, Val Loss: 0.8122, Val Accuracy: 64.85%\n",
      "\n"
     ]
    },
    {
     "name": "stderr",
     "output_type": "stream",
     "text": [
      "Epoch 8/30 - Training: 100%|█████████████████████████████████████████████████████████████████████████████████████████████████████████████████████████████████| 3502/3502 [01:21<00:00, 43.11it/s]\n",
      "Epoch 8/30 - Validation: 100%|██████████████████████████████████████████████████████████████████████████████████████████████████████████████████████████████| 1207/1207 [00:11<00:00, 100.71it/s]\n"
     ]
    },
    {
     "name": "stdout",
     "output_type": "stream",
     "text": [
      "\n",
      "Epoch [8/30], Train Loss: 1.0116, Train Accuracy: 57.42%, Val Loss: 1.0688, Val Accuracy: 50.04%\n",
      "\n"
     ]
    },
    {
     "name": "stderr",
     "output_type": "stream",
     "text": [
      "Epoch 9/30 - Training: 100%|█████████████████████████████████████████████████████████████████████████████████████████████████████████████████████████████████| 3502/3502 [01:22<00:00, 42.55it/s]\n",
      "Epoch 9/30 - Validation: 100%|██████████████████████████████████████████████████████████████████████████████████████████████████████████████████████████████| 1207/1207 [00:11<00:00, 101.80it/s]\n"
     ]
    },
    {
     "name": "stdout",
     "output_type": "stream",
     "text": [
      "\n",
      "Epoch [9/30], Train Loss: 1.1234, Train Accuracy: 52.51%, Val Loss: 0.9837, Val Accuracy: 52.68%\n",
      "\n"
     ]
    },
    {
     "name": "stderr",
     "output_type": "stream",
     "text": [
      "Epoch 10/30 - Training:  76%|████████████████████████████████████████████████████████████████████████████████████████████████▊                               | 2650/3502 [01:02<00:20, 42.15it/s]\n"
     ]
    },
    {
     "ename": "KeyboardInterrupt",
     "evalue": "",
     "output_type": "error",
     "traceback": [
      "\u001b[0;31m---------------------------------------------------------------------------\u001b[0m",
      "\u001b[0;31mKeyboardInterrupt\u001b[0m                         Traceback (most recent call last)",
      "Cell \u001b[0;32mIn[19], line 3\u001b[0m\n\u001b[1;32m      1\u001b[0m num_epochs \u001b[38;5;241m=\u001b[39m \u001b[38;5;241m30\u001b[39m\n\u001b[0;32m----> 3\u001b[0m best_model_state, train_losses, val_losses \u001b[38;5;241m=\u001b[39m train_model(model, train_loader, val_loader, criterion, optimizer, num_epochs\u001b[38;5;241m=\u001b[39mnum_epochs, patience\u001b[38;5;241m=\u001b[39m\u001b[38;5;241m100\u001b[39m)\n\u001b[1;32m      4\u001b[0m \u001b[38;5;66;03m# os.makedirs(\"./checkpoints/hybrid\", exist_ok=True)\u001b[39;00m\n\u001b[1;32m      5\u001b[0m \u001b[38;5;66;03m# torch.save(best_model_state, f\"./checkpoints/hybrid/hybrid_{bands}_{patch_size}_{num_epochs}.pth\")\u001b[39;00m\n\u001b[1;32m      7\u001b[0m model\u001b[38;5;241m.\u001b[39mload_state_dict(best_model_state)\n",
      "File \u001b[0;32m~/my_study/forest_carbon_ai/model/classification/utils/utils.py:44\u001b[0m, in \u001b[0;36mtrain_model\u001b[0;34m(model, train_loader, val_loader, criterion, optimizer, num_epochs, patience)\u001b[0m\n\u001b[1;32m     41\u001b[0m images, labels \u001b[38;5;241m=\u001b[39m images\u001b[38;5;241m.\u001b[39mto(device), labels\u001b[38;5;241m.\u001b[39mto(device)\n\u001b[1;32m     43\u001b[0m optimizer\u001b[38;5;241m.\u001b[39mzero_grad()\n\u001b[0;32m---> 44\u001b[0m outputs \u001b[38;5;241m=\u001b[39m model(images)\n\u001b[1;32m     46\u001b[0m loss \u001b[38;5;241m=\u001b[39m criterion(outputs, labels)\n\u001b[1;32m     47\u001b[0m loss\u001b[38;5;241m.\u001b[39mbackward()\n",
      "File \u001b[0;32m~/anaconda3/envs/A/lib/python3.12/site-packages/torch/nn/modules/module.py:1739\u001b[0m, in \u001b[0;36mModule._wrapped_call_impl\u001b[0;34m(self, *args, **kwargs)\u001b[0m\n\u001b[1;32m   1737\u001b[0m     \u001b[38;5;28;01mreturn\u001b[39;00m \u001b[38;5;28mself\u001b[39m\u001b[38;5;241m.\u001b[39m_compiled_call_impl(\u001b[38;5;241m*\u001b[39margs, \u001b[38;5;241m*\u001b[39m\u001b[38;5;241m*\u001b[39mkwargs)  \u001b[38;5;66;03m# type: ignore[misc]\u001b[39;00m\n\u001b[1;32m   1738\u001b[0m \u001b[38;5;28;01melse\u001b[39;00m:\n\u001b[0;32m-> 1739\u001b[0m     \u001b[38;5;28;01mreturn\u001b[39;00m \u001b[38;5;28mself\u001b[39m\u001b[38;5;241m.\u001b[39m_call_impl(\u001b[38;5;241m*\u001b[39margs, \u001b[38;5;241m*\u001b[39m\u001b[38;5;241m*\u001b[39mkwargs)\n",
      "File \u001b[0;32m~/anaconda3/envs/A/lib/python3.12/site-packages/torch/nn/modules/module.py:1750\u001b[0m, in \u001b[0;36mModule._call_impl\u001b[0;34m(self, *args, **kwargs)\u001b[0m\n\u001b[1;32m   1745\u001b[0m \u001b[38;5;66;03m# If we don't have any hooks, we want to skip the rest of the logic in\u001b[39;00m\n\u001b[1;32m   1746\u001b[0m \u001b[38;5;66;03m# this function, and just call forward.\u001b[39;00m\n\u001b[1;32m   1747\u001b[0m \u001b[38;5;28;01mif\u001b[39;00m \u001b[38;5;129;01mnot\u001b[39;00m (\u001b[38;5;28mself\u001b[39m\u001b[38;5;241m.\u001b[39m_backward_hooks \u001b[38;5;129;01mor\u001b[39;00m \u001b[38;5;28mself\u001b[39m\u001b[38;5;241m.\u001b[39m_backward_pre_hooks \u001b[38;5;129;01mor\u001b[39;00m \u001b[38;5;28mself\u001b[39m\u001b[38;5;241m.\u001b[39m_forward_hooks \u001b[38;5;129;01mor\u001b[39;00m \u001b[38;5;28mself\u001b[39m\u001b[38;5;241m.\u001b[39m_forward_pre_hooks\n\u001b[1;32m   1748\u001b[0m         \u001b[38;5;129;01mor\u001b[39;00m _global_backward_pre_hooks \u001b[38;5;129;01mor\u001b[39;00m _global_backward_hooks\n\u001b[1;32m   1749\u001b[0m         \u001b[38;5;129;01mor\u001b[39;00m _global_forward_hooks \u001b[38;5;129;01mor\u001b[39;00m _global_forward_pre_hooks):\n\u001b[0;32m-> 1750\u001b[0m     \u001b[38;5;28;01mreturn\u001b[39;00m forward_call(\u001b[38;5;241m*\u001b[39margs, \u001b[38;5;241m*\u001b[39m\u001b[38;5;241m*\u001b[39mkwargs)\n\u001b[1;32m   1752\u001b[0m result \u001b[38;5;241m=\u001b[39m \u001b[38;5;28;01mNone\u001b[39;00m\n\u001b[1;32m   1753\u001b[0m called_always_called_hooks \u001b[38;5;241m=\u001b[39m \u001b[38;5;28mset\u001b[39m()\n",
      "Cell \u001b[0;32mIn[17], line 50\u001b[0m, in \u001b[0;36mVideoTransformer.forward\u001b[0;34m(self, x)\u001b[0m\n\u001b[1;32m     47\u001b[0m x \u001b[38;5;241m=\u001b[39m \u001b[38;5;28mself\u001b[39m\u001b[38;5;241m.\u001b[39minput_norm(x)\n\u001b[1;32m     49\u001b[0m x \u001b[38;5;241m=\u001b[39m \u001b[38;5;28mself\u001b[39m\u001b[38;5;241m.\u001b[39mff_block(x)  \u001b[38;5;66;03m# FeedForward Block\u001b[39;00m\n\u001b[0;32m---> 50\u001b[0m x \u001b[38;5;241m=\u001b[39m \u001b[38;5;28mself\u001b[39m\u001b[38;5;241m.\u001b[39mtransformer_encoder(x)  \u001b[38;5;66;03m# Transformer Encoder\u001b[39;00m\n\u001b[1;32m     52\u001b[0m x \u001b[38;5;241m=\u001b[39m x\u001b[38;5;241m.\u001b[39mmean(dim\u001b[38;5;241m=\u001b[39m\u001b[38;5;241m1\u001b[39m)  \u001b[38;5;66;03m# (batch, embed_dim)\u001b[39;00m\n\u001b[1;32m     53\u001b[0m \u001b[38;5;28;01mreturn\u001b[39;00m \u001b[38;5;28mself\u001b[39m\u001b[38;5;241m.\u001b[39mclassifier(x)\n",
      "File \u001b[0;32m~/anaconda3/envs/A/lib/python3.12/site-packages/torch/nn/modules/module.py:1739\u001b[0m, in \u001b[0;36mModule._wrapped_call_impl\u001b[0;34m(self, *args, **kwargs)\u001b[0m\n\u001b[1;32m   1737\u001b[0m     \u001b[38;5;28;01mreturn\u001b[39;00m \u001b[38;5;28mself\u001b[39m\u001b[38;5;241m.\u001b[39m_compiled_call_impl(\u001b[38;5;241m*\u001b[39margs, \u001b[38;5;241m*\u001b[39m\u001b[38;5;241m*\u001b[39mkwargs)  \u001b[38;5;66;03m# type: ignore[misc]\u001b[39;00m\n\u001b[1;32m   1738\u001b[0m \u001b[38;5;28;01melse\u001b[39;00m:\n\u001b[0;32m-> 1739\u001b[0m     \u001b[38;5;28;01mreturn\u001b[39;00m \u001b[38;5;28mself\u001b[39m\u001b[38;5;241m.\u001b[39m_call_impl(\u001b[38;5;241m*\u001b[39margs, \u001b[38;5;241m*\u001b[39m\u001b[38;5;241m*\u001b[39mkwargs)\n",
      "File \u001b[0;32m~/anaconda3/envs/A/lib/python3.12/site-packages/torch/nn/modules/module.py:1750\u001b[0m, in \u001b[0;36mModule._call_impl\u001b[0;34m(self, *args, **kwargs)\u001b[0m\n\u001b[1;32m   1745\u001b[0m \u001b[38;5;66;03m# If we don't have any hooks, we want to skip the rest of the logic in\u001b[39;00m\n\u001b[1;32m   1746\u001b[0m \u001b[38;5;66;03m# this function, and just call forward.\u001b[39;00m\n\u001b[1;32m   1747\u001b[0m \u001b[38;5;28;01mif\u001b[39;00m \u001b[38;5;129;01mnot\u001b[39;00m (\u001b[38;5;28mself\u001b[39m\u001b[38;5;241m.\u001b[39m_backward_hooks \u001b[38;5;129;01mor\u001b[39;00m \u001b[38;5;28mself\u001b[39m\u001b[38;5;241m.\u001b[39m_backward_pre_hooks \u001b[38;5;129;01mor\u001b[39;00m \u001b[38;5;28mself\u001b[39m\u001b[38;5;241m.\u001b[39m_forward_hooks \u001b[38;5;129;01mor\u001b[39;00m \u001b[38;5;28mself\u001b[39m\u001b[38;5;241m.\u001b[39m_forward_pre_hooks\n\u001b[1;32m   1748\u001b[0m         \u001b[38;5;129;01mor\u001b[39;00m _global_backward_pre_hooks \u001b[38;5;129;01mor\u001b[39;00m _global_backward_hooks\n\u001b[1;32m   1749\u001b[0m         \u001b[38;5;129;01mor\u001b[39;00m _global_forward_hooks \u001b[38;5;129;01mor\u001b[39;00m _global_forward_pre_hooks):\n\u001b[0;32m-> 1750\u001b[0m     \u001b[38;5;28;01mreturn\u001b[39;00m forward_call(\u001b[38;5;241m*\u001b[39margs, \u001b[38;5;241m*\u001b[39m\u001b[38;5;241m*\u001b[39mkwargs)\n\u001b[1;32m   1752\u001b[0m result \u001b[38;5;241m=\u001b[39m \u001b[38;5;28;01mNone\u001b[39;00m\n\u001b[1;32m   1753\u001b[0m called_always_called_hooks \u001b[38;5;241m=\u001b[39m \u001b[38;5;28mset\u001b[39m()\n",
      "File \u001b[0;32m~/anaconda3/envs/A/lib/python3.12/site-packages/torch/nn/modules/transformer.py:517\u001b[0m, in \u001b[0;36mTransformerEncoder.forward\u001b[0;34m(self, src, mask, src_key_padding_mask, is_causal)\u001b[0m\n\u001b[1;32m    514\u001b[0m is_causal \u001b[38;5;241m=\u001b[39m _detect_is_causal_mask(mask, is_causal, seq_len)\n\u001b[1;32m    516\u001b[0m \u001b[38;5;28;01mfor\u001b[39;00m mod \u001b[38;5;129;01min\u001b[39;00m \u001b[38;5;28mself\u001b[39m\u001b[38;5;241m.\u001b[39mlayers:\n\u001b[0;32m--> 517\u001b[0m     output \u001b[38;5;241m=\u001b[39m mod(\n\u001b[1;32m    518\u001b[0m         output,\n\u001b[1;32m    519\u001b[0m         src_mask\u001b[38;5;241m=\u001b[39mmask,\n\u001b[1;32m    520\u001b[0m         is_causal\u001b[38;5;241m=\u001b[39mis_causal,\n\u001b[1;32m    521\u001b[0m         src_key_padding_mask\u001b[38;5;241m=\u001b[39msrc_key_padding_mask_for_layers,\n\u001b[1;32m    522\u001b[0m     )\n\u001b[1;32m    524\u001b[0m \u001b[38;5;28;01mif\u001b[39;00m convert_to_nested:\n\u001b[1;32m    525\u001b[0m     output \u001b[38;5;241m=\u001b[39m output\u001b[38;5;241m.\u001b[39mto_padded_tensor(\u001b[38;5;241m0.0\u001b[39m, src\u001b[38;5;241m.\u001b[39msize())\n",
      "File \u001b[0;32m~/anaconda3/envs/A/lib/python3.12/site-packages/torch/nn/modules/module.py:1739\u001b[0m, in \u001b[0;36mModule._wrapped_call_impl\u001b[0;34m(self, *args, **kwargs)\u001b[0m\n\u001b[1;32m   1737\u001b[0m     \u001b[38;5;28;01mreturn\u001b[39;00m \u001b[38;5;28mself\u001b[39m\u001b[38;5;241m.\u001b[39m_compiled_call_impl(\u001b[38;5;241m*\u001b[39margs, \u001b[38;5;241m*\u001b[39m\u001b[38;5;241m*\u001b[39mkwargs)  \u001b[38;5;66;03m# type: ignore[misc]\u001b[39;00m\n\u001b[1;32m   1738\u001b[0m \u001b[38;5;28;01melse\u001b[39;00m:\n\u001b[0;32m-> 1739\u001b[0m     \u001b[38;5;28;01mreturn\u001b[39;00m \u001b[38;5;28mself\u001b[39m\u001b[38;5;241m.\u001b[39m_call_impl(\u001b[38;5;241m*\u001b[39margs, \u001b[38;5;241m*\u001b[39m\u001b[38;5;241m*\u001b[39mkwargs)\n",
      "File \u001b[0;32m~/anaconda3/envs/A/lib/python3.12/site-packages/torch/nn/modules/module.py:1750\u001b[0m, in \u001b[0;36mModule._call_impl\u001b[0;34m(self, *args, **kwargs)\u001b[0m\n\u001b[1;32m   1745\u001b[0m \u001b[38;5;66;03m# If we don't have any hooks, we want to skip the rest of the logic in\u001b[39;00m\n\u001b[1;32m   1746\u001b[0m \u001b[38;5;66;03m# this function, and just call forward.\u001b[39;00m\n\u001b[1;32m   1747\u001b[0m \u001b[38;5;28;01mif\u001b[39;00m \u001b[38;5;129;01mnot\u001b[39;00m (\u001b[38;5;28mself\u001b[39m\u001b[38;5;241m.\u001b[39m_backward_hooks \u001b[38;5;129;01mor\u001b[39;00m \u001b[38;5;28mself\u001b[39m\u001b[38;5;241m.\u001b[39m_backward_pre_hooks \u001b[38;5;129;01mor\u001b[39;00m \u001b[38;5;28mself\u001b[39m\u001b[38;5;241m.\u001b[39m_forward_hooks \u001b[38;5;129;01mor\u001b[39;00m \u001b[38;5;28mself\u001b[39m\u001b[38;5;241m.\u001b[39m_forward_pre_hooks\n\u001b[1;32m   1748\u001b[0m         \u001b[38;5;129;01mor\u001b[39;00m _global_backward_pre_hooks \u001b[38;5;129;01mor\u001b[39;00m _global_backward_hooks\n\u001b[1;32m   1749\u001b[0m         \u001b[38;5;129;01mor\u001b[39;00m _global_forward_hooks \u001b[38;5;129;01mor\u001b[39;00m _global_forward_pre_hooks):\n\u001b[0;32m-> 1750\u001b[0m     \u001b[38;5;28;01mreturn\u001b[39;00m forward_call(\u001b[38;5;241m*\u001b[39margs, \u001b[38;5;241m*\u001b[39m\u001b[38;5;241m*\u001b[39mkwargs)\n\u001b[1;32m   1752\u001b[0m result \u001b[38;5;241m=\u001b[39m \u001b[38;5;28;01mNone\u001b[39;00m\n\u001b[1;32m   1753\u001b[0m called_always_called_hooks \u001b[38;5;241m=\u001b[39m \u001b[38;5;28mset\u001b[39m()\n",
      "File \u001b[0;32m~/anaconda3/envs/A/lib/python3.12/site-packages/torch/nn/modules/transformer.py:920\u001b[0m, in \u001b[0;36mTransformerEncoderLayer.forward\u001b[0;34m(self, src, src_mask, src_key_padding_mask, is_causal)\u001b[0m\n\u001b[1;32m    916\u001b[0m     x \u001b[38;5;241m=\u001b[39m x \u001b[38;5;241m+\u001b[39m \u001b[38;5;28mself\u001b[39m\u001b[38;5;241m.\u001b[39m_ff_block(\u001b[38;5;28mself\u001b[39m\u001b[38;5;241m.\u001b[39mnorm2(x))\n\u001b[1;32m    917\u001b[0m \u001b[38;5;28;01melse\u001b[39;00m:\n\u001b[1;32m    918\u001b[0m     x \u001b[38;5;241m=\u001b[39m \u001b[38;5;28mself\u001b[39m\u001b[38;5;241m.\u001b[39mnorm1(\n\u001b[1;32m    919\u001b[0m         x\n\u001b[0;32m--> 920\u001b[0m         \u001b[38;5;241m+\u001b[39m \u001b[38;5;28mself\u001b[39m\u001b[38;5;241m.\u001b[39m_sa_block(x, src_mask, src_key_padding_mask, is_causal\u001b[38;5;241m=\u001b[39mis_causal)\n\u001b[1;32m    921\u001b[0m     )\n\u001b[1;32m    922\u001b[0m     x \u001b[38;5;241m=\u001b[39m \u001b[38;5;28mself\u001b[39m\u001b[38;5;241m.\u001b[39mnorm2(x \u001b[38;5;241m+\u001b[39m \u001b[38;5;28mself\u001b[39m\u001b[38;5;241m.\u001b[39m_ff_block(x))\n\u001b[1;32m    924\u001b[0m \u001b[38;5;28;01mreturn\u001b[39;00m x\n",
      "File \u001b[0;32m~/anaconda3/envs/A/lib/python3.12/site-packages/torch/nn/modules/transformer.py:934\u001b[0m, in \u001b[0;36mTransformerEncoderLayer._sa_block\u001b[0;34m(self, x, attn_mask, key_padding_mask, is_causal)\u001b[0m\n\u001b[1;32m    927\u001b[0m \u001b[38;5;28;01mdef\u001b[39;00m \u001b[38;5;21m_sa_block\u001b[39m(\n\u001b[1;32m    928\u001b[0m     \u001b[38;5;28mself\u001b[39m,\n\u001b[1;32m    929\u001b[0m     x: Tensor,\n\u001b[0;32m   (...)\u001b[0m\n\u001b[1;32m    932\u001b[0m     is_causal: \u001b[38;5;28mbool\u001b[39m \u001b[38;5;241m=\u001b[39m \u001b[38;5;28;01mFalse\u001b[39;00m,\n\u001b[1;32m    933\u001b[0m ) \u001b[38;5;241m-\u001b[39m\u001b[38;5;241m>\u001b[39m Tensor:\n\u001b[0;32m--> 934\u001b[0m     x \u001b[38;5;241m=\u001b[39m \u001b[38;5;28mself\u001b[39m\u001b[38;5;241m.\u001b[39mself_attn(\n\u001b[1;32m    935\u001b[0m         x,\n\u001b[1;32m    936\u001b[0m         x,\n\u001b[1;32m    937\u001b[0m         x,\n\u001b[1;32m    938\u001b[0m         attn_mask\u001b[38;5;241m=\u001b[39mattn_mask,\n\u001b[1;32m    939\u001b[0m         key_padding_mask\u001b[38;5;241m=\u001b[39mkey_padding_mask,\n\u001b[1;32m    940\u001b[0m         need_weights\u001b[38;5;241m=\u001b[39m\u001b[38;5;28;01mFalse\u001b[39;00m,\n\u001b[1;32m    941\u001b[0m         is_causal\u001b[38;5;241m=\u001b[39mis_causal,\n\u001b[1;32m    942\u001b[0m     )[\u001b[38;5;241m0\u001b[39m]\n\u001b[1;32m    943\u001b[0m     \u001b[38;5;28;01mreturn\u001b[39;00m \u001b[38;5;28mself\u001b[39m\u001b[38;5;241m.\u001b[39mdropout1(x)\n",
      "File \u001b[0;32m~/anaconda3/envs/A/lib/python3.12/site-packages/torch/nn/modules/module.py:1739\u001b[0m, in \u001b[0;36mModule._wrapped_call_impl\u001b[0;34m(self, *args, **kwargs)\u001b[0m\n\u001b[1;32m   1737\u001b[0m     \u001b[38;5;28;01mreturn\u001b[39;00m \u001b[38;5;28mself\u001b[39m\u001b[38;5;241m.\u001b[39m_compiled_call_impl(\u001b[38;5;241m*\u001b[39margs, \u001b[38;5;241m*\u001b[39m\u001b[38;5;241m*\u001b[39mkwargs)  \u001b[38;5;66;03m# type: ignore[misc]\u001b[39;00m\n\u001b[1;32m   1738\u001b[0m \u001b[38;5;28;01melse\u001b[39;00m:\n\u001b[0;32m-> 1739\u001b[0m     \u001b[38;5;28;01mreturn\u001b[39;00m \u001b[38;5;28mself\u001b[39m\u001b[38;5;241m.\u001b[39m_call_impl(\u001b[38;5;241m*\u001b[39margs, \u001b[38;5;241m*\u001b[39m\u001b[38;5;241m*\u001b[39mkwargs)\n",
      "File \u001b[0;32m~/anaconda3/envs/A/lib/python3.12/site-packages/torch/nn/modules/module.py:1750\u001b[0m, in \u001b[0;36mModule._call_impl\u001b[0;34m(self, *args, **kwargs)\u001b[0m\n\u001b[1;32m   1745\u001b[0m \u001b[38;5;66;03m# If we don't have any hooks, we want to skip the rest of the logic in\u001b[39;00m\n\u001b[1;32m   1746\u001b[0m \u001b[38;5;66;03m# this function, and just call forward.\u001b[39;00m\n\u001b[1;32m   1747\u001b[0m \u001b[38;5;28;01mif\u001b[39;00m \u001b[38;5;129;01mnot\u001b[39;00m (\u001b[38;5;28mself\u001b[39m\u001b[38;5;241m.\u001b[39m_backward_hooks \u001b[38;5;129;01mor\u001b[39;00m \u001b[38;5;28mself\u001b[39m\u001b[38;5;241m.\u001b[39m_backward_pre_hooks \u001b[38;5;129;01mor\u001b[39;00m \u001b[38;5;28mself\u001b[39m\u001b[38;5;241m.\u001b[39m_forward_hooks \u001b[38;5;129;01mor\u001b[39;00m \u001b[38;5;28mself\u001b[39m\u001b[38;5;241m.\u001b[39m_forward_pre_hooks\n\u001b[1;32m   1748\u001b[0m         \u001b[38;5;129;01mor\u001b[39;00m _global_backward_pre_hooks \u001b[38;5;129;01mor\u001b[39;00m _global_backward_hooks\n\u001b[1;32m   1749\u001b[0m         \u001b[38;5;129;01mor\u001b[39;00m _global_forward_hooks \u001b[38;5;129;01mor\u001b[39;00m _global_forward_pre_hooks):\n\u001b[0;32m-> 1750\u001b[0m     \u001b[38;5;28;01mreturn\u001b[39;00m forward_call(\u001b[38;5;241m*\u001b[39margs, \u001b[38;5;241m*\u001b[39m\u001b[38;5;241m*\u001b[39mkwargs)\n\u001b[1;32m   1752\u001b[0m result \u001b[38;5;241m=\u001b[39m \u001b[38;5;28;01mNone\u001b[39;00m\n\u001b[1;32m   1753\u001b[0m called_always_called_hooks \u001b[38;5;241m=\u001b[39m \u001b[38;5;28mset\u001b[39m()\n",
      "File \u001b[0;32m~/anaconda3/envs/A/lib/python3.12/site-packages/torch/nn/modules/activation.py:1373\u001b[0m, in \u001b[0;36mMultiheadAttention.forward\u001b[0;34m(self, query, key, value, key_padding_mask, need_weights, attn_mask, average_attn_weights, is_causal)\u001b[0m\n\u001b[1;32m   1347\u001b[0m     attn_output, attn_output_weights \u001b[38;5;241m=\u001b[39m F\u001b[38;5;241m.\u001b[39mmulti_head_attention_forward(\n\u001b[1;32m   1348\u001b[0m         query,\n\u001b[1;32m   1349\u001b[0m         key,\n\u001b[0;32m   (...)\u001b[0m\n\u001b[1;32m   1370\u001b[0m         is_causal\u001b[38;5;241m=\u001b[39mis_causal,\n\u001b[1;32m   1371\u001b[0m     )\n\u001b[1;32m   1372\u001b[0m \u001b[38;5;28;01melse\u001b[39;00m:\n\u001b[0;32m-> 1373\u001b[0m     attn_output, attn_output_weights \u001b[38;5;241m=\u001b[39m F\u001b[38;5;241m.\u001b[39mmulti_head_attention_forward(\n\u001b[1;32m   1374\u001b[0m         query,\n\u001b[1;32m   1375\u001b[0m         key,\n\u001b[1;32m   1376\u001b[0m         value,\n\u001b[1;32m   1377\u001b[0m         \u001b[38;5;28mself\u001b[39m\u001b[38;5;241m.\u001b[39membed_dim,\n\u001b[1;32m   1378\u001b[0m         \u001b[38;5;28mself\u001b[39m\u001b[38;5;241m.\u001b[39mnum_heads,\n\u001b[1;32m   1379\u001b[0m         \u001b[38;5;28mself\u001b[39m\u001b[38;5;241m.\u001b[39min_proj_weight,\n\u001b[1;32m   1380\u001b[0m         \u001b[38;5;28mself\u001b[39m\u001b[38;5;241m.\u001b[39min_proj_bias,\n\u001b[1;32m   1381\u001b[0m         \u001b[38;5;28mself\u001b[39m\u001b[38;5;241m.\u001b[39mbias_k,\n\u001b[1;32m   1382\u001b[0m         \u001b[38;5;28mself\u001b[39m\u001b[38;5;241m.\u001b[39mbias_v,\n\u001b[1;32m   1383\u001b[0m         \u001b[38;5;28mself\u001b[39m\u001b[38;5;241m.\u001b[39madd_zero_attn,\n\u001b[1;32m   1384\u001b[0m         \u001b[38;5;28mself\u001b[39m\u001b[38;5;241m.\u001b[39mdropout,\n\u001b[1;32m   1385\u001b[0m         \u001b[38;5;28mself\u001b[39m\u001b[38;5;241m.\u001b[39mout_proj\u001b[38;5;241m.\u001b[39mweight,\n\u001b[1;32m   1386\u001b[0m         \u001b[38;5;28mself\u001b[39m\u001b[38;5;241m.\u001b[39mout_proj\u001b[38;5;241m.\u001b[39mbias,\n\u001b[1;32m   1387\u001b[0m         training\u001b[38;5;241m=\u001b[39m\u001b[38;5;28mself\u001b[39m\u001b[38;5;241m.\u001b[39mtraining,\n\u001b[1;32m   1388\u001b[0m         key_padding_mask\u001b[38;5;241m=\u001b[39mkey_padding_mask,\n\u001b[1;32m   1389\u001b[0m         need_weights\u001b[38;5;241m=\u001b[39mneed_weights,\n\u001b[1;32m   1390\u001b[0m         attn_mask\u001b[38;5;241m=\u001b[39mattn_mask,\n\u001b[1;32m   1391\u001b[0m         average_attn_weights\u001b[38;5;241m=\u001b[39maverage_attn_weights,\n\u001b[1;32m   1392\u001b[0m         is_causal\u001b[38;5;241m=\u001b[39mis_causal,\n\u001b[1;32m   1393\u001b[0m     )\n\u001b[1;32m   1394\u001b[0m \u001b[38;5;28;01mif\u001b[39;00m \u001b[38;5;28mself\u001b[39m\u001b[38;5;241m.\u001b[39mbatch_first \u001b[38;5;129;01mand\u001b[39;00m is_batched:\n\u001b[1;32m   1395\u001b[0m     \u001b[38;5;28;01mreturn\u001b[39;00m attn_output\u001b[38;5;241m.\u001b[39mtranspose(\u001b[38;5;241m1\u001b[39m, \u001b[38;5;241m0\u001b[39m), attn_output_weights\n",
      "File \u001b[0;32m~/anaconda3/envs/A/lib/python3.12/site-packages/torch/nn/functional.py:6230\u001b[0m, in \u001b[0;36mmulti_head_attention_forward\u001b[0;34m(query, key, value, embed_dim_to_check, num_heads, in_proj_weight, in_proj_bias, bias_k, bias_v, add_zero_attn, dropout_p, out_proj_weight, out_proj_bias, training, key_padding_mask, need_weights, attn_mask, use_separate_proj_weight, q_proj_weight, k_proj_weight, v_proj_weight, static_k, static_v, average_attn_weights, is_causal)\u001b[0m\n\u001b[1;32m   6226\u001b[0m \u001b[38;5;28;01mif\u001b[39;00m \u001b[38;5;129;01mnot\u001b[39;00m use_separate_proj_weight:\n\u001b[1;32m   6227\u001b[0m     \u001b[38;5;28;01massert\u001b[39;00m (\n\u001b[1;32m   6228\u001b[0m         in_proj_weight \u001b[38;5;129;01mis\u001b[39;00m \u001b[38;5;129;01mnot\u001b[39;00m \u001b[38;5;28;01mNone\u001b[39;00m\n\u001b[1;32m   6229\u001b[0m     ), \u001b[38;5;124m\"\u001b[39m\u001b[38;5;124muse_separate_proj_weight is False but in_proj_weight is None\u001b[39m\u001b[38;5;124m\"\u001b[39m\n\u001b[0;32m-> 6230\u001b[0m     q, k, v \u001b[38;5;241m=\u001b[39m _in_projection_packed(query, key, value, in_proj_weight, in_proj_bias)\n\u001b[1;32m   6231\u001b[0m \u001b[38;5;28;01melse\u001b[39;00m:\n\u001b[1;32m   6232\u001b[0m     \u001b[38;5;28;01massert\u001b[39;00m (\n\u001b[1;32m   6233\u001b[0m         q_proj_weight \u001b[38;5;129;01mis\u001b[39;00m \u001b[38;5;129;01mnot\u001b[39;00m \u001b[38;5;28;01mNone\u001b[39;00m\n\u001b[1;32m   6234\u001b[0m     ), \u001b[38;5;124m\"\u001b[39m\u001b[38;5;124muse_separate_proj_weight is True but q_proj_weight is None\u001b[39m\u001b[38;5;124m\"\u001b[39m\n",
      "File \u001b[0;32m~/anaconda3/envs/A/lib/python3.12/site-packages/torch/nn/functional.py:5614\u001b[0m, in \u001b[0;36m_in_projection_packed\u001b[0;34m(q, k, v, w, b)\u001b[0m\n\u001b[1;32m   5611\u001b[0m \u001b[38;5;28;01mif\u001b[39;00m k \u001b[38;5;129;01mis\u001b[39;00m v:\n\u001b[1;32m   5612\u001b[0m     \u001b[38;5;28;01mif\u001b[39;00m q \u001b[38;5;129;01mis\u001b[39;00m k:\n\u001b[1;32m   5613\u001b[0m         \u001b[38;5;66;03m# self-attention\u001b[39;00m\n\u001b[0;32m-> 5614\u001b[0m         proj \u001b[38;5;241m=\u001b[39m linear(q, w, b)\n\u001b[1;32m   5615\u001b[0m         \u001b[38;5;66;03m# reshape to 3, E and not E, 3 is deliberate for better memory coalescing and keeping same order as chunk()\u001b[39;00m\n\u001b[1;32m   5616\u001b[0m         proj \u001b[38;5;241m=\u001b[39m (\n\u001b[1;32m   5617\u001b[0m             proj\u001b[38;5;241m.\u001b[39munflatten(\u001b[38;5;241m-\u001b[39m\u001b[38;5;241m1\u001b[39m, (\u001b[38;5;241m3\u001b[39m, E))\n\u001b[1;32m   5618\u001b[0m             \u001b[38;5;241m.\u001b[39munsqueeze(\u001b[38;5;241m0\u001b[39m)\n\u001b[0;32m   (...)\u001b[0m\n\u001b[1;32m   5621\u001b[0m             \u001b[38;5;241m.\u001b[39mcontiguous()\n\u001b[1;32m   5622\u001b[0m         )\n",
      "\u001b[0;31mKeyboardInterrupt\u001b[0m: "
     ]
    }
   ],
   "source": [
    "num_epochs = 30\n",
    "\n",
    "best_model_state, train_losses, val_losses = train_model(model, train_loader, val_loader, criterion, optimizer, num_epochs=num_epochs, patience=100)\n",
    "# os.makedirs(\"./checkpoints/hybrid\", exist_ok=True)\n",
    "# torch.save(best_model_state, f\"./checkpoints/hybrid/hybrid_{bands}_{patch_size}_{num_epochs}.pth\")\n",
    "\n",
    "model.load_state_dict(best_model_state)\n",
    "\n",
    "print(\"\\ntrain data\")\n",
    "evaluate_model_with_cm(model, train_loader, num_classes=6)\n",
    "print(\"\\nvalidation data\")\n",
    "evaluate_model_with_cm(model, val_loader, num_classes=6)"
   ]
  },
  {
   "cell_type": "code",
   "execution_count": null,
   "metadata": {},
   "outputs": [],
   "source": []
  }
 ],
 "metadata": {
  "kernelspec": {
   "display_name": "A",
   "language": "python",
   "name": "a"
  },
  "language_info": {
   "codemirror_mode": {
    "name": "ipython",
    "version": 3
   },
   "file_extension": ".py",
   "mimetype": "text/x-python",
   "name": "python",
   "nbconvert_exporter": "python",
   "pygments_lexer": "ipython3",
   "version": "3.12.7"
  }
 },
 "nbformat": 4,
 "nbformat_minor": 4
}
